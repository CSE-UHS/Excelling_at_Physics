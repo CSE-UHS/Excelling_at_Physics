{
 "cells": [
  {
   "cell_type": "markdown",
   "metadata": {},
   "source": [
    "<div align=\"right\">\n",
    "<a href=\"http://nbviewer.ipython.org/github/CSP-UHS/Excelling_at_Physics/blob/master/Chapter00.ipynb\" align=\"right\"><h2>Table of Contents</h2></a>\n",
    "</div>"
   ]
  },
  {
   "cell_type": "markdown",
   "metadata": {},
   "source": [
    "# Chapter 8: Spring Energy Program"
   ]
  },
  {
   "cell_type": "markdown",
   "metadata": {},
   "source": [
    "## The Physics Explanation"
   ]
  },
  {
   "cell_type": "markdown",
   "metadata": {},
   "source": [
    "<img src=\"http://www.hermonswebsites.com/PyNotebooks/Excelling/8_spring.gif\" style=\"float: right;\">In this chapter we will make a really cool albeit fairly simple program. Our goal is to build an Oscilloscope simulator that can generate Lissajou patterns from horizontal and vertical input frequencies. In physics we often deal with examples of <b>Simple Harmonic Motion (SHM)</b>. SHM is a <i>\"type of periodic motion or oscillation motion where the restoring force is directly proportional to the displacement and acts in the direction opposite to that of displacement.\"</i> Classic examples of SHM are a mass on a swinging pendulum or a mass on an oscillating spring. Imagine a pendulum attached to a pen swinging back and forth in simple harmonic motion over a moving treadmill of paper as seen below. The result is a sine curve.<br><br>\n",
    "\n",
    "\n",
    "The equation for the position of a particle on a sine wave curve is given by the following equation.\n",
    "\n",
    "<center><img src=\"http://www.hermonswebsites.com/PyNotebooks/Excelling/7_sine1.png\"></center>\n",
    "\n"
   ]
  },
  {
   "cell_type": "markdown",
   "metadata": {},
   "source": [
    "## Program Parameters"
   ]
  },
  {
   "cell_type": "markdown",
   "metadata": {},
   "source": [
    "<b>INPUTS:</b>\n",
    "<ul>\n",
    "<li>A user can update a mass of 1-10 kg by 1 kg increments.</li>\n",
    "<li>A user can update the elastic constant (k) of 1-100 N/m by increments of 5</li>\n",
    "<li>A user can choose from a dropdown of planets.</li>\n",
    "</ul><br>\n",
    "<b>OUTPUTS:</b>\n",
    "<ul>\n",
    "<li>Graphical output of Total Energy, GPE, EPE and KE</li>\n",
    "<li>The period of oscillation will be printed on the screen.</li>\n",
    "<li>The maximum velocity will be printed on the screen.</li>\n",
    "</ul><br>\n",
    "<b>CRITERIA & CONSTRAINTS:</b>\n",
    "<ul>\n",
    "<li>The x-axis of this graph will be the displacement of the spring but should cover one complete oscillation.</li>\n",
    "<li>Your program should have an impressive interface. (colors and graphics)</li>\n",
    "<li>Specify in what units the user is entering data.</li>\n",
    "<li>Make sure your name is printed somewhere on the interface of your program. (ex. \"Hermon's Programming\")</li>\n",
    "<li>When you upload your program name it accordingly: (firstname_lastname_programtitle.xlsm)</li>\n",
    "<li>Make a title for your program at the top of the user window.</li>\n",
    "</ul>"
   ]
  },
  {
   "cell_type": "markdown",
   "metadata": {},
   "source": [
    "Here is a video of a Spring Energy Excel Program in action.\n",
    "<br>\n",
    "<center><iframe width=\"560\" height=\"315\" src=\"https://www.youtube.com/embed/z9xLK5dlVGM\" frameborder=\"0\" allowfullscreen></iframe></center>"
   ]
  },
  {
   "cell_type": "markdown",
   "metadata": {},
   "source": [
    "<table width=\"100%\" cellpadding=\"2\" cellspacing=\"2\">\n",
    "<tr>\n",
    "<td style=\"border: 1px solid white;\" width=\"100px\">\n",
    "<div>\n",
    "<a href=\"http://nbviewer.ipython.org/github/CSP-UHS/Excelling_at_Physics/blob/master/Chapter07.ipynb\"><img src=\"http://www.hermonswebsites.com/PyNotebooks/Excelling/leftA.png\"  height=\"50px\" width=\"50px\"></a>\n",
    "</div>\n",
    "</td>\n",
    "<td style=\"border: 1px solid white;\">\n",
    "<div align=\"center\">\n",
    "<a href=\"http://nbviewer.ipython.org/github/CSP-UHS/Excelling_at_Physics/blob/master/Chapter00.ipynb\"><h2>Table of Contents</h2></a>\n",
    "</div>\n",
    "</td>\n",
    "<td style=\"border: 1px solid white;\" width=\"100px\">\n",
    "<div>\n",
    "<a href=\"http://nbviewer.ipython.org/github/CSP-UHS/Excelling_at_Physics/blob/master/Chapter09.ipynb\"><img src=\"http://www.hermonswebsites.com/PyNotebooks/Excelling/rightA.png\"  height=\"50px\" width=\"50px\"  align=\"right\"></a>\n",
    "</div>\n",
    "</td>\n",
    "</tr></table>"
   ]
  }
 ],
 "metadata": {
  "kernelspec": {
   "display_name": "Python 2",
   "language": "python",
   "name": "python2"
  },
  "language_info": {
   "codemirror_mode": {
    "name": "ipython",
    "version": 2
   },
   "file_extension": ".py",
   "mimetype": "text/x-python",
   "name": "python",
   "nbconvert_exporter": "python",
   "pygments_lexer": "ipython2",
   "version": "2.7.10"
  }
 },
 "nbformat": 4,
 "nbformat_minor": 0
}
