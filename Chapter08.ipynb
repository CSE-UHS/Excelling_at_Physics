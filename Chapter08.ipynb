{
 "cells": [
  {
   "cell_type": "markdown",
   "metadata": {},
   "source": [
    "<div align=\"right\">\n",
    "<a href=\"http://nbviewer.ipython.org/github/CSP-UHS/Excelling_at_Physics/blob/master/Chapter00.ipynb\" align=\"right\"><h2>Table of Contents</h2></a>\n",
    "</div>"
   ]
  },
  {
   "cell_type": "markdown",
   "metadata": {},
   "source": [
    "# Chapter 8: Spring Energy"
   ]
  },
  {
   "cell_type": "markdown",
   "metadata": {},
   "source": [
    "## The Physics Explanation"
   ]
  },
  {
   "cell_type": "markdown",
   "metadata": {},
   "source": [
    "<img src=\"http://www.hermonswebsites.com/PyNotebooks/Excelling/8_spring.gif\" style=\"float: right;\">In this chapter we will examine the conservation of energy within the harmonic motion of an oscillating spring. A user will enter only two inputs: the elasticity constant (k) of a spring and the mass (kg) that is oscillating on the spring. The maximum velocity of the mass and the period of the oscillation will be the two outputs. We also will be able to click a spinner button to lower and raise the spring. When this happens we will see the conservation of energy in a bar graph.\n",
    "\n",
    "When the given mass is hung on the spring it stretches down to a rest position. By using the following equation for the elasticity constant we can rearrange and solve for the distance the spring will be stretched. We will have to first convert the mass to weight (force).\n",
    "<center><img src=\"http://www.hermonswebsites.com/PyNotebooks/Excelling/Eqt8-5.png\"></center>\n",
    "<center><img src=\"http://www.hermonswebsites.com/PyNotebooks/Excelling/Eqt8-6.png\"></center>\n",
    "This will be the half-way point if the mass was dropped. It will also be the location where the velocity of the falling mass will be a maximum. At this point the Gravitational Potential Energy (GPE) will be 1/2 as much as the total energy (TE) and the rest of the energy will be split evenly between Elastic Potential Energy (EPE) and the Kinetic Energy (KE). So according to the following derivation we will be able to calculate the maximum velocity and output it onto the userform.\n",
    "<center><img src=\"http://www.hermonswebsites.com/PyNotebooks/Excelling/Eqt8-8.png\"></center>\n",
    "\n",
    "We also can very simply calculate the Period (T) of oscillation for the mass and output it onto the userform using the following equation:\n",
    "<center><img src=\"http://www.hermonswebsites.com/PyNotebooks/Excelling/Eqt8-7.png\"></center>\n",
    "\n",
    "\n",
    "\n",
    "To get the entire height that the mass will fall we will multiply the distance we calculated earlier by 2. When the mass is first dropped all of the energy is in the form of GPE. The spring has not been stretched at all and the mass is not moving. Once the mass starts falling, the GPE will decrease because it is losing height. The KE will increase because the mass is gaining velocity. The EPE will also increase because the spring is being stretched. \n",
    "<center><img src=\"http://www.hermonswebsites.com/PyNotebooks/Excelling/Eqt8-2.png\"></center>\n",
    "\n",
    "At the midpoint, the GPE will be 1/2 of what it was and the EPE and the KE will be equal. The KE will be at a maximum because at this point the mass will have its maximum velocity.\n",
    "\n",
    "<center><img src=\"http://www.hermonswebsites.com/PyNotebooks/Excelling/Eqt8-1.png\"></center>\n",
    "At the bottom, the GPE will now be zero. Since the mass is no longer moving the KE will also be zero. The EPE will be at its maximum since the spring is stretched the entire distance.\n",
    "<center><img src=\"http://www.hermonswebsites.com/PyNotebooks/Excelling/Eqt8-3.png\"></center>\n",
    "\n",
    "At any point along the oscillation of the mass, the total energy will not change according the following conservation law. At the top, the total energy is all GPE and at the bottom it is all EPE.\n",
    "<center><img src=\"http://www.hermonswebsites.com/PyNotebooks/Excelling/Eqt8-4.png\"></center>"
   ]
  },
  {
   "cell_type": "markdown",
   "metadata": {},
   "source": [
    "## Program Parameters"
   ]
  },
  {
   "cell_type": "markdown",
   "metadata": {},
   "source": [
    "<b>INPUTS:</b>\n",
    "<ul>\n",
    "<li>A user can update a mass of 1-10 kg by 1 kg increments.</li>\n",
    "<li>A user can update the elastic constant (k) of 1-100 N/m by increments of 5</li>\n",
    "</ul><br>\n",
    "<b>OUTPUTS:</b>\n",
    "<ul>\n",
    "<li>Graphical output of Total Energy, GPE, EPE and KE.</li>\n",
    "<li>Graphical output of the spring position.</li>\n",
    "<li>The period of oscillation will be printed on the screen.</li>\n",
    "<li>The maximum velocity will be printed on the screen.</li>\n",
    "</ul><br>\n",
    "<b>CRITERIA & CONSTRAINTS:</b>\n",
    "<ul>\n",
    "<li>An up-down spinner will update the graph to show the energy conversion.</li>\n",
    "<li>Your program should have an impressive interface. (colors and graphics)</li>\n",
    "<li>Specify in what units the user is entering data.</li>\n",
    "<li>Make sure your name is printed somewhere on the interface of your program. (ex. \"Hermon's Programming\")</li>\n",
    "<li>When you upload your program name it accordingly: (firstname_lastname_programtitle.xlsm)</li>\n",
    "<li>Make a title for your program at the top of the user window.</li>\n",
    "</ul>"
   ]
  },
  {
   "cell_type": "markdown",
   "metadata": {},
   "source": [
    "Here is a video of a Spring Energy Excel Program in action.\n",
    "<br>\n",
    "<center><iframe width=\"800\" height=\"600\" src=\"https://www.youtube.com/embed/d58NLGsHTZ0?rel=0&amp;showinfo=0\" frameborder=\"0\" allowfullscreen></iframe></center>"
   ]
  },
  {
   "cell_type": "markdown",
   "metadata": {},
   "source": [
    "## Spreadsheet Calculations"
   ]
  },
  {
   "cell_type": "markdown",
   "metadata": {},
   "source": [
    "<img src=\"http://www.hermonswebsites.com/PyNotebooks/Excelling/8-table.JPG\">\n",
    "\n",
    "In cells <b>E3</b> and <b>F3</b> we will be entering our mass and elasticity constant that the user entered into the userform. We will look at that code later. For now just enter 10 as the mass and 25 as the elasticity. In cell <b>G3</b> enter the gravity. In cell <b>H3</b> we will calculate the weight (force) of the mass like this: <b>=E3*G3</b>\n",
    "\n",
    "In cell <b>I3</b>, we will calculate what I will call the rest distance or the distance the spring will be stretched if the mass is hanging on it. We can calculate this by dividing the force by the elasticity constant. It will look like this: <b>=H3/F3</b>\n",
    "\n",
    "In cell <b>J3</b>, we will calculate the entire distance the mass will travel downward if placed on the spring and dropped. This will be twice the rest distance so it will look like this: <b>=I3*2</b>\n",
    "\n",
    "Finally, we are going to want to see how the energy conservation graphs change as the mass drops, so we are going to take the total distance and divide it up into 10 increments. We will do this in <b>K3</b> like this: <b>=J3/10</b>\n",
    "\n",
    "<img src=\"http://www.hermonswebsites.com/PyNotebooks/Excelling/8-velocity.JPG\">\n",
    "\n",
    "Next, we will calculate the maximum velocity in cell <b>J7</b> as seen above. This is using the derived equation below:\n",
    "<img src=\"http://www.hermonswebsites.com/PyNotebooks/Excelling/Eqt8-8.png\">\n",
    "We also want to calculate the period of the oscillating spring in cell K7 as seen below:\n",
    "<img src=\"http://www.hermonswebsites.com/PyNotebooks/Excelling/8-period.JPG\">\n",
    "As you can see we used the period equation:\n",
    "<img src=\"http://www.hermonswebsites.com/PyNotebooks/Excelling/Eqt8-7.png\">\n",
    "\n",
    "We will want to print both the period and velocity back on the userform with VBA code. We will do that later.\n",
    "\n",
    "Finally, we want to set up the data for our graph. We will do this based on the distance that the spring is being stretched and the height that the mass is falling from. These distance are of course, related to each other.\n",
    "In cell <b>C8</b> for the height that the mass will be following we can go ahead and enter any height between 0 and the total distance. It doesn't matter what we enter in here right now because we will be changing this value with a spinner on the userform anyway. For now let's enter a height of 3.6. \n",
    "\n",
    "Later we are going to use a spinner on the userform to increase and decrease the height by the <b>K3</b> interval each time. Sometimes this will mean that we might accidentally go above the maximum height or decrease below zero. To solve this we will correct the height in cell <b>D8</b> as follows:\n",
    "\n",
    "<img src=\"http://www.hermonswebsites.com/PyNotebooks/Excelling/8-D8.JPG\">\n",
    "\n",
    "Also in cell <b>A8</b> we will calculate the distance the spring is being pulled by taking the total distance in <b>J3</b> and subtracting the height in cell <b>D8</b>. \n",
    "\n",
    "<img src=\"http://www.hermonswebsites.com/PyNotebooks/Excelling/8-A8.JPG\">\n",
    "\n",
    "Next, we will make four data series of different types of energies to insert into our bar graph. We will make four columns of GPE, EPE, KE and TE. We will start each column with zero.\n",
    "<img src=\"http://www.hermonswebsites.com/PyNotebooks/Excelling/8-graphdata.JPG\">\n",
    "\n",
    "We will calculate our GPE as follows:\n",
    "\n",
    "<img src=\"http://www.hermonswebsites.com/PyNotebooks/Excelling/8-GPE.JPG\">\n",
    "\n",
    "We will calculate our EPE as follows:\n",
    "\n",
    "<img src=\"http://www.hermonswebsites.com/PyNotebooks/Excelling/8-EPE.JPG\">\n",
    "\n",
    "We will calculate our TE as follows:\n",
    "\n",
    "<img src=\"http://www.hermonswebsites.com/PyNotebooks/Excelling/8-TE.JPG\">\n",
    "\n",
    "We will calculate our KE from whatever energy is left:\n",
    "\n",
    "<img src=\"http://www.hermonswebsites.com/PyNotebooks/Excelling/8-KE.JPG\">\n",
    "\n",
    "You will now create a bar chart with those four data series, which we will eventually insert back onto the userform. I'm going to assume you can figure out how to make that chart.\n",
    "\n",
    "Finally, we're going to try to create a graph that will look like a spring oscillating up and down. We will do this by making 2 data series on the same graph. The first point in each data series will be <b>(0,0)</b>. The second point for the 1st data series will be <b>(0, -A8)</b>. When I graphed these two points I made the line be yellow and I put a marker on the end that was red which represents the mass. <b>A8</b> of course will be changing as the spinner on the userform is controlled. This graph won't actually work unless we put another full length spring on the same graph. The second point of the second data series is <b>(0, -J3)</b>. <b>J3</b> is never changing and therefore will allow the other graph to move correctly. The second data series graph should be made the same color as the background because we don't actually want it to be visible.\n",
    "\n",
    "<img src=\"http://www.hermonswebsites.com/PyNotebooks/Excelling/8-springgraph.JPG\">\n",
    "\n",
    "<img src=\"http://www.hermonswebsites.com/PyNotebooks/Excelling/8-springgraph1.JPG\">\n"
   ]
  },
  {
   "cell_type": "markdown",
   "metadata": {},
   "source": [
    "## Userform Objects"
   ]
  },
  {
   "cell_type": "markdown",
   "metadata": {},
   "source": [
    "<img src=\"http://www.hermonswebsites.com/PyNotebooks/Excelling/8-userform.JPG\">\n",
    "\n",
    "On the userform above I added two text boxes which I named <b>Velocity</b> and <b>Period</b> and two images which I called <b>graph</b> and <b>spring</b>. I then added two more text boxes and two scroll bars that the user can manipulate. The first text box is called <b>Mass</b> and the scroll bar under it is called <b>Mscroll</b>. The second text box is called <b>Elasticity</b> and the second scroll bar is called <b>Kscroll</b>. Below that is a spin button called <b>drop_spin</b>. All of these object names will be important to refer to when you read through the VBA code.\n",
    "\n",
    "In the Caption property for <b>Mass</b> we entered 5 and in the <b>Caption</b> property for Elasticity we entered 50. \n",
    "\n",
    "For <b>Mscroll</b> the properties were as follows:<br>\n",
    "Delay: 100<br>\n",
    "LargeChange: 1<br>\n",
    "Max: 10<br>\n",
    "Min: 1<br>\n",
    "Orientation: Horizontal<br>\n",
    "SmallChange: 1<br>\n",
    "\n",
    "For <b>Kscroll</b> the properties were as follows:<br>\n",
    "Delay: 100<br>\n",
    "LargeChange: 5<br>\n",
    "Max: 100<br>\n",
    "Min: 1<br>\n",
    "Orientation: Horizontal<br>\n",
    "SmallChange: 5<br>\n",
    "\n",
    "For the <b>drop_spin</b> spin button the properties were as follows:<br>\n",
    "Delay: 50<br>\n",
    "Max: 100<br>\n",
    "Min: 0<br>\n",
    "Orientation: Vertical<br>\n",
    "SmallChange: 1<br>\n"
   ]
  },
  {
   "cell_type": "markdown",
   "metadata": {},
   "source": [
    "## VBA Code"
   ]
  },
  {
   "cell_type": "markdown",
   "metadata": {},
   "source": [
    "### Kscroll_Change( )\n",
    "<img src=\"http://www.hermonswebsites.com/PyNotebooks/Excelling/8a-kscroll.JPG\">\n",
    "\n",
    "If you double click on the <b>Kscroll</b> scroll bar it will set up a subroutine called <b>Kscroll_Change( )</b> as seen above. Everything in this subroutine will happen whenever a user changes the Kscroll slider position.<br><br>\n",
    "Line 1: We set the Caption of the Elasticity text box to whatever the Value is on the Kscroll scrollbar.<br>\n",
    "Line 2: We take whatever is in the Elasticity text box and enter it into cell <b>F3</b> on our spreadsheet.<br>\n",
    "Line 3: We format the period from cell <b>K7</b> on our spreadsheet and enter into the Caption of our Period text box.<br>\n",
    "Line 4: We format the velocity from cell <b>J7</b> on our spreadsheet and enter into the Caption of our Velocity text box.<br>\n",
    "Lines 5-8 update the Energy Graph. There is no need to update the Spring Graph since we aren't changing that.\n",
    "### Mscroll_Change( )\n",
    "<img src=\"http://www.hermonswebsites.com/PyNotebooks/Excelling/8a-mscroll.JPG\">\n",
    "If you double click on the <b>Mscroll</b> scroll bar it will set up a subroutine called <b>Mscroll_Change( )</b> as seen above. Everything in this subroutine will happen whenever a user changes the Mscroll slider position.<br><br>\n",
    "Line 1: We set the Caption of the Mass text box to whatever the Value is on the Mscroll scrollbar.<br>\n",
    "Line 2: We take whatever is in the Mass text box and enter it into cell <b>E3</b> on our spreadsheet.<br>\n",
    "Line 3: We format the period from cell <b>K7</b> on our spreadsheet and enter into the Caption of our Period text box.<br>\n",
    "Line 4: We format the velocity from cell <b>J7</b> on our spreadsheet and enter into the Caption of our Velocity text box.<br>\n",
    "Lines 5-8 update the Energy Graph. There is no need to update the Spring Graph since we aren't changing that. \n",
    "### UserForm_Intitialize( )\n",
    "<img src=\"http://www.hermonswebsites.com/PyNotebooks/Excelling/8a-initialize.JPG\">\n",
    "Double click on the userform and then choose <b>initialize</b> from the upper right dropdown. This will set up a subroutine called <b>Userform_Initialize( )</b> as seen above. Everything in this subroutine will happen when the Userform is first opened.<br><br>\n",
    "Line 1: We take the Mscroll Value and enter it into cell <b>E3</b> on our spreadsheet.<br>\n",
    "Line 2: We take the Kscroll Value and enter it into cell <b>F3</b> on our spreadsheet.<br>\n",
    "Line 3: We take the value in <b>E3</b> on our spreadsheet and enter into the Caption of our our Mass text box.<br>\n",
    "Line 3: We take the value in <b>F3</b> on our spreadsheet and enter into the Caption of our our Elasticity text box.<br>\n",
    "Line 5: We format the period from cell <b>K7</b> on our spreadsheet and enter into the Caption of our Period text box.<br>\n",
    "Line 6: We format the velocity from cell <b>J7</b> on our spreadsheet and enter into the Caption of our Velocity text box.<br>\n",
    "Lines 7-10 update the Energy Graph.<br>\n",
    "Lines 11-14 update the Spring Graph.<br>\n",
    "### drop_spin_SpinDown( )\n",
    "<img src=\"http://www.hermonswebsites.com/PyNotebooks/Excelling/8a-spindown.JPG\">\n",
    "Double click on the spin button and then choose <b>SpinDown</b> from the upper right dropdown. This will set up a subroutine called <b>drop_spin_SpinDown( )</b> as seen above. Everything in this subroutine will happen when the down arrow on the Spin Button is clicked.<br><br>\n",
    "Line 1: We check to see if the current height in cell <b>C8</b> is greater than zero.<br>\n",
    "Line 2: We subtract the interval in <b>K3</b> from the current height in cell <b>C8</b>.<br>\n",
    "Line 3: End the IF statement.<br>\n",
    "Lines 4-7 update the Energy Graph.<br>\n",
    "Lines 8-11 update the Spring Graph.<br> \n",
    "### drop_spin_SpinUp( )\n",
    "<img src=\"http://www.hermonswebsites.com/PyNotebooks/Excelling/8a-spinup.JPG\">\n",
    "Double click on the spin button and then choose <b>SpinUp</b> from the upper right dropdown. This will set up a subroutine called <b>drop_spin_SpinUp( )</b> as seen above. Everything in this subroutine will happen when the up arrow on the Spin Button is clicked.<br><br>\n",
    "Line 1: We check to see if the current height in cell <b>C8</b> is less than the max height in cell <b>J3</b>.<br>\n",
    "Line 2: We add the interval in <b>K3</b> to the current height in cell <b>C8</b>.<br>\n",
    "Line 3: End the IF statement.<br>\n",
    "Lines 4-7 update the Energy Graph.<br>\n",
    "Lines 8-11 update the Spring Graph.<br><br>\n",
    "\n",
    "Hopefully, your program now works. You should be able to click the up/down spin button and see the spring go up and down as well as the energy graph changing.\n"
   ]
  },
  {
   "cell_type": "markdown",
   "metadata": {},
   "source": [
    "<table width=\"100%\" cellpadding=\"2\" cellspacing=\"2\">\n",
    "<tr>\n",
    "<td style=\"border: 1px solid white;\" width=\"100px\">\n",
    "<div>\n",
    "<a href=\"http://nbviewer.ipython.org/github/CSP-UHS/Excelling_at_Physics/blob/master/Chapter07.ipynb\"><img src=\"http://www.hermonswebsites.com/PyNotebooks/Excelling/leftA.png\"  height=\"50px\" width=\"50px\"></a>\n",
    "</div>\n",
    "</td>\n",
    "<td style=\"border: 1px solid white;\">\n",
    "<div align=\"center\">\n",
    "<a href=\"http://nbviewer.ipython.org/github/CSP-UHS/Excelling_at_Physics/blob/master/Chapter00.ipynb\"><h2>Table of Contents</h2></a>\n",
    "</div>\n",
    "</td>\n",
    "<td style=\"border: 1px solid white;\" width=\"100px\">\n",
    "<div>\n",
    "<a href=\"http://nbviewer.ipython.org/github/CSP-UHS/Excelling_at_Physics/blob/master/Chapter09.ipynb\"><img src=\"http://www.hermonswebsites.com/PyNotebooks/Excelling/rightA.png\"  height=\"50px\" width=\"50px\"  align=\"right\"></a>\n",
    "</div>\n",
    "</td>\n",
    "</tr></table>"
   ]
  }
 ],
 "metadata": {
  "kernelspec": {
   "display_name": "Python 2",
   "language": "python",
   "name": "python2"
  },
  "language_info": {
   "codemirror_mode": {
    "name": "ipython",
    "version": 2
   },
   "file_extension": ".py",
   "mimetype": "text/x-python",
   "name": "python",
   "nbconvert_exporter": "python",
   "pygments_lexer": "ipython2",
   "version": "2.7.10"
  }
 },
 "nbformat": 4,
 "nbformat_minor": 0
}
