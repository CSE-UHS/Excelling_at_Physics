{
 "cells": [
  {
   "cell_type": "markdown",
   "metadata": {},
   "source": [
    "<div align=\"right\">\n",
    "<a href=\"http://nbviewer.ipython.org/github/CSP-UHS/Excelling_at_Physics/blob/master/Chapter00.ipynb\" align=\"right\"><h2>Table of Contents</h2></a>\n",
    "</div>"
   ]
  },
  {
   "cell_type": "markdown",
   "metadata": {},
   "source": [
    "# Chapter 7: Oscilloscope Lissajou Program"
   ]
  },
  {
   "cell_type": "markdown",
   "metadata": {},
   "source": [
    "## Simple Harmonic Motion"
   ]
  },
  {
   "cell_type": "markdown",
   "metadata": {},
   "source": [
    "<img src=\"http://www.hermonswebsites.com/PyNotebooks/Excelling/7_liss.jpg\" style=\"float: right;\">In this chapter we will make a really cool albeit fairly simple program. Our goal is to build an Oscilloscope simulator that can generate Lissajou patterns from horizontal and vertical input frequencies. In physics we often deal with examples of <b>Simple Harmonic Motion (SHM)</b>. SHM is a <i>\"type of periodic motion or oscillation motion where the restoring force is directly proportional to the displacement and acts in the direction opposite to that of displacement.\"</i> Classic examples of SHM are a mass on a swinging pendulum or a mass on an oscillating spring. Imagine a pendulum attached to a pen swinging back and forth in simple harmonic motion over a moving treadmill of paper as seen below. The result is a sine curve.<br><br>\n",
    "<center><img src=\"http://www.hermonswebsites.com/PyNotebooks/Excelling/7_sandsine.jpg\"></center>\n",
    "<br>\n",
    "We would also get a sine curve for an oscillating mass on a spring as you can see in the image and animation below:\n",
    "\n",
    "<center><img src=\"http://www.hermonswebsites.com/PyNotebooks/Excelling/7_spring2.gif\"></center>\n",
    "\n",
    "<center><img src=\"http://www.hermonswebsites.com/PyNotebooks/Excelling/7_spring1.gif\"></center>\n",
    "\n",
    "The equation for the position of a particle on a sine wave curve is given by the following equation.\n",
    "\n",
    "<center><img src=\"http://www.hermonswebsites.com/PyNotebooks/Excelling/7_sine1.png\"></center>\n",
    "\n",
    "So if we graphed this equation against time we would have a sine curve that would start wherever the phase shift was. If we entered a phase shift of 90 the graph would start at a maximum of +1. If we entered a phase shift of 30, our graph would start at a +0.5.\n",
    "\n",
    "An interesting thing occurs if you graph this sine curve against a second sine curve. Notice this second curve will not have a phase shift parameter. \n",
    "\n",
    "<center><img src=\"http://www.hermonswebsites.com/PyNotebooks/Excelling/7_sine2.png\"></center>\n",
    "<br>\n",
    "The differences between the two signals will be different frequencies and the phase shift. When these two equations are graphed against each other we form \"spirograph\" type images called <b>\"Lissajou Figures\"</b>. We can interpret Lissajou patterns we see on an oscilloscope to determine unknown frequencies when we compare it to a known frequency.\n",
    "\n",
    "Here is a really good visualization of how the two sine curves of different frequencies are being graphed to create Lissajou figures. Notice that the vertical input frequency is actually controlling the horizontal component and the horizontal frequency is controlling the vertical component of the Lissajou figure.\n",
    "<center><iframe width=\"560\" height=\"315\" src=\"https://www.youtube.com/embed/aUi8SnGGfG8\" frameborder=\"0\" allowfullscreen></iframe></center>\n",
    "\n",
    "The easiest way to interpret Lissajou figures and determine the ratio between the horizontal and vertical frequencies is to circumscribe the Lissajou pattern with a box. The horizontal signal is related to how many times the pattern touches the side of the box. The vertical signal is related to how many times the pattern touches the top of the box. Notice in the animation below that the pattern touches the side of the box 3 times and the top of the box 2 times. These are not the actual frequencies, rather they describe the RATIO of the frequencies. H:V = 3:2\n",
    "<center><img src=\"http://www.hermonswebsites.com/PyNotebooks/Excelling/7_Lissajousnew.gif\"></center>\n",
    "<br>\n",
    "\n",
    "Below are a couple more examples. In the first example there is 1 point of horizontal tangency and 2 points of vertical tangency so the ratio is:  H:V = 1:2. In the second example there are 5 points of horizontal tangency and 4 points of vertical tangency for a ratio of H:V = 5:4. This is why a simple circle is a 1:1 ratio.\n",
    "<center><table><tr><td><img src=\"http://www.hermonswebsites.com/PyNotebooks/Excelling/7_2-1.png\">\n",
    "</td><td><img src=\"http://www.hermonswebsites.com/PyNotebooks/Excelling/7_5-4.png\">\n",
    "</td></tr></table></center>\n",
    "<br>"
   ]
  },
  {
   "cell_type": "markdown",
   "metadata": {},
   "source": [
    "## Program Parameters"
   ]
  },
  {
   "cell_type": "markdown",
   "metadata": {},
   "source": [
    "<b>INPUTS:</b>\n",
    "<ul>\n",
    "<li>A user can update two frequencies from 0-10 Hz in 1 Hz increments.</li>\n",
    "<li>A user can update the phase change from 0-360 in 0.1 degree increments.</li>\n",
    "</ul><br>\n",
    "<b>OUTPUTS:</b>\n",
    "<ul>\n",
    "<li>Graphical output of the Lissajou pattern</li>\n",
    "</ul><br>\n",
    "<b>CRITERIA & CONSTRAINTS:</b>\n",
    "<ul>\n",
    "<li>Your program should have an impressive interface. (colors and graphics)</li>\n",
    "<li>Specify in what units the user is entering data.</li>\n",
    "<li>Make sure your name is printed somewhere on the interface of your program. (ex. \"Hermon's Programming\")</li>\n",
    "<li>When you upload your program name it accordingly: (firstname_lastname_programtitle.xlsm)</li>\n",
    "<li>Make a title for your program at the top of the user window.</li>\n",
    "</ul>"
   ]
  },
  {
   "cell_type": "markdown",
   "metadata": {},
   "source": [
    "## Building the GUI"
   ]
  },
  {
   "cell_type": "markdown",
   "metadata": {},
   "source": [
    "Here is a video of a Oscilloscope Excel Program in action.\n",
    "<br>\n",
    "<center><iframe width=\"560\" height=\"315\" src=\"https://www.youtube.com/embed/z9xLK5dlVGM\" frameborder=\"0\" allowfullscreen></iframe></center>\n",
    "<br>\n",
    "As you can see in this userform we used 3 spinners to change 3 output labels for the frequencies and the phase shift. We also again used an image for the graph. To begin add your three output labels to the userform. I named mine <b>Horizontal, Vertical and Phase</b>. In the Properties panel on the left I entered <b>10,10 and 90</b> into the Caption parameters respectively. I also added an image so I will be able to embed the graph. I named it <b>Liss</b>. We have not used spinners in our user forms yet. Here is how you do it.\n",
    "\n",
    "<h3>Spinners</h3>\n",
    "\n",
    "<br>\n",
    "Select the spinner icon from the toolbox and drag the size you want on your interface behind each label. We will be using these to change the Caption parameter of each label.\n",
    "\n",
    "<center><img src=\"http://www.hermonswebsites.com/PyNotebooks/Excelling/7_spinner.jpg\"></center>\n",
    "\n",
    "\n",
    "When you've added spinners to your userform you can give them names over in the Properties box on the left. I named all of mine like this: <b>H_spin, V_spin and P_spin</b>.  "
   ]
  },
  {
   "cell_type": "markdown",
   "metadata": {},
   "source": [
    "## Spreadsheet Calculations"
   ]
  },
  {
   "cell_type": "markdown",
   "metadata": {},
   "source": [
    "We are going to first look at our calculations in our spreadsheet. We will come back to the userform later. We will set up three cells where our user input will come into our spreadsheet. I used D3, E3 and F3 for the horizontal frequency, vertical frequency and phase shift. I went ahead and entered 10,10 and 90 into these cells respectively.\n",
    "\n",
    "<center><img src=\"http://www.hermonswebsites.com/PyNotebooks/Excelling/7_SS1.JPG\"></center>"
   ]
  },
  {
   "cell_type": "markdown",
   "metadata": {},
   "source": [
    "## Data Table"
   ]
  },
  {
   "cell_type": "markdown",
   "metadata": {},
   "source": [
    "For our time we want to be able to make it through one wave cycle (360&ordm;) in one second, therefore we will increment our time column by 1/360th of a second. In cell B3 I inserted this change (Delta) in time as seen below.\n",
    "\n",
    "<center><img src=\"http://www.hermonswebsites.com/PyNotebooks/Excelling/7_360.JPG\"></center>\n",
    "\n",
    "In Column A, we need to make a time column. Start with 0 in cell A5. In cell A6 we will add the previous cell to our time interval B2 with dollar signs so that it will always locate that static value. Drag this all the way down to row 365. The time in that final cell should be 1 second if you did it correctly.\n",
    "<center><img src=\"http://www.hermonswebsites.com/PyNotebooks/Excelling/7_timecolumn.JPG\"></center>\n",
    "\n",
    "In Column B, we entered our x(t) formula. We then dragged that formula down to row 365.\n",
    "\n",
    "<center><img src=\"http://www.hermonswebsites.com/PyNotebooks/Excelling/7_xvalues.JPG\"></center>\n",
    "\n",
    "In Column C, we entered our y(t) formula. This time we didn't have to add in the phase shift. We then dragged that formula down to row 365 as well.\n",
    "\n",
    "<center><img src=\"http://www.hermonswebsites.com/PyNotebooks/Excelling/7_yvalues.JPG\"></center><br>\n"
   ]
  },
  {
   "cell_type": "markdown",
   "metadata": {},
   "source": [
    "## Creating the Graph"
   ]
  },
  {
   "cell_type": "markdown",
   "metadata": {},
   "source": [
    "To create the graph of the Lissajou figure, simply select your x and y values all the way down to row 365 and Insert - Scatter - Smooth Line. You can then work on the formatting of the graph so that it looks like an oscilloscope screen. Feel free to change the horizontal and vertical frequencies as well as the phase shift to see how the Lissajou pattern changes. Next, we will examine how to let the userform interact with this spreadsheet."
   ]
  },
  {
   "cell_type": "markdown",
   "metadata": {},
   "source": [
    "## Coding the Userform"
   ]
  },
  {
   "cell_type": "markdown",
   "metadata": {},
   "source": [
    "If you haven't already done it, add an image to your userform which you will use to embed your graph as we have done on the last several programs. I named mine <b>Liss</b>.\n",
    "\n",
    "Now double click on your userform. This should automatically add a <b>Userform_Initialize( )</b> subroutine. If it doesn't, then choose Userform from the top left dropdown and then Initialize from the top right dropdown. In this code we would like for the Lissajou graph to be embedded into the userform immediately when it is first opened. We will enter the following code which hopefully by now looks familiar to you. Notice I used <b>Liss.Picture</b> in this code to load the graph into the <b>Picture</b> property of my image which, as you recall, I named <b>Liss</b>.\n",
    "\n",
    "<center><img src=\"http://www.hermonswebsites.com/PyNotebooks/Excelling/7_initialize.JPG\"></center>\n",
    "\n",
    "You might have noticed in the demo video that we are not using a command button to change the data in this program. Instead we will be using our three spinners. Each time we spin up or spin down, the VBA code will be run to update the Lissajou pattern. Also the <b>Caption</b> parameter of the corresponding label will also change. I am going to explain the code for the <b>SpinDown( )</b> method only. It will be up to you to figure out how to program the other spinners. \n",
    "\n",
    "Start by double clicking on your Horizontal frequency spinner. This should start a new subroutine called, <b>H_spin_SpinDown( )</b>. If you called this spinner something other than H_spin, then of course it will say something different. If the code is not inserted automatically, you can choose the name of your spinner from the top left dropdown and then <b>SpinDown</b> from the top right dropdown.\n",
    "\n",
    "The idea will be that everytime you click SpinDown, the Caption of the Horizontal label will decrease by 1 and then the graph will change. We don't want the frequency to go below zero, however, so the very first thing we will do in this subroutine is to ask if the Horizontal.Caption is greater than zero. If it is we will run our Spin_Down code. If it is not we won't run it. We do this with an If-Then statement as follows:<br><br>\n",
    "\n",
    "<b><font color=\"blue\">Private Sub</font> H_spin_SpinDown( )</b><br>\n",
    "<b><font color=\"blue\">If</font> Horizontal.Caption > 0 <font color=\"blue\">Then</font></b><br>\n",
    "<b><font color=\"blue\">End If</font></b><br>\n",
    "<b><font color=\"blue\">End Sub</font></b>\n",
    "\n",
    "<center>So...if the Horizontal.Caption is indeed greater than zero, we want to subtract 1 from the Horizontal.Caption as follows:</center>\n",
    "\n",
    "<b><font color=\"blue\">Private Sub</font> H_spin_SpinDown( )</b><br>\n",
    "<b><font color=\"blue\">If</font> Horizontal.Caption > 0 <font color=\"blue\">Then</font></b><br>\n",
    "<b>Horizontal.Caption = Horizontal.Caption - 1</b><br>\n",
    "<b><font color=\"blue\">End If</font></b><br>\n",
    "<b><font color=\"blue\">End Sub</font></b>\n",
    "<br><br>\n",
    "\n",
    "<center>Then we want to add that frequency to the spreadsheet to be part of our graph. You should remember how to do this:</center>\n",
    "\n",
    "<b><font color=\"blue\">Private Sub</font> H_spin_SpinDown( )</b><br>\n",
    "<b><font color=\"blue\">If</font> Horizontal.Caption > 0 <font color=\"blue\">Then</font></b><br>\n",
    "<b>Horizontal.Caption = Horizontal.Caption - 1</b><br>\n",
    "<b>Worksheets(\"Sheet1\").Range(\"D3\").Value = Horizontal.Caption</b><br>\n",
    "<b><font color=\"blue\">End If</font></b><br>\n",
    "<b><font color=\"blue\">End Sub</font></b>\n",
    "<br><br>\n",
    "\n",
    "<center>Finally, we need to update our graph with the new data.<br>This graph update code will have to be included in every Spin_Down or Spin_Up subroutine.<br>Below is the full code for the <b>H_spin_Spin_Down( )</b> subroutine.</center>\n",
    "\n",
    "\n",
    "<img src=\"http://www.hermonswebsites.com/PyNotebooks/Excelling/7_Hcode.JPG\">\n",
    "<br>\n",
    "For the <b>H_spin_Spin_Up( )</b> subroutine you will make two changes: You will <b>ADD</b> 1 to the Horizontal.Caption and also your <b>If statement</b> will check if Horizontal.Caption is < 10.\n",
    "\n",
    "The <b>V_spin_Spin_Up( )</b> and <b>V_spin_Spin_Down( )</b> subroutines will look the same, but the frequency will be added to cell E3.\n",
    "\n",
    "The <b>P_spin_Spin_Up( )</b> and <b>P_spin_Spin_Down( )</b> subroutines will also have some subtle differences. In the Spin_Down we will check if Phase.Caption > 0. If so, we will subtract 0.1 from Phase.Caption. In the Spin_Up we will check if Phase.Caption < 360. If so, we will add 0.1 to Phase.Caption. We also will be entering those values into F3 on the spreadsheet. (Note: In the demo video I had the phase shift increasing and decreasing by 10)\n",
    "\n",
    "GOOD LUCK! I hope you can get the code to work. If it does you should be able to hold down the up or down buttons of the phase spinner and see the Lissajou pattern rotate. Once you've thoroughly tested your program and have an impressive GUI, name it according to the following format: firstname_lastname_programtitle.xlsm and upload it to your instructor."
   ]
  },
  {
   "cell_type": "markdown",
   "metadata": {},
   "source": [
    "<table width=\"100%\" cellpadding=\"2\" cellspacing=\"2\">\n",
    "<tr>\n",
    "<td style=\"border: 1px solid white;\" width=\"100px\">\n",
    "<div>\n",
    "<a href=\"http://nbviewer.ipython.org/github/CSP-UHS/Excelling_at_Physics/blob/master/Chapter06.ipynb\"><img src=\"http://www.hermonswebsites.com/PyNotebooks/Excelling/leftA.png\"  height=\"50px\" width=\"50px\"></a>\n",
    "</div>\n",
    "</td>\n",
    "<td style=\"border: 1px solid white;\">\n",
    "<div align=\"center\">\n",
    "<a href=\"http://nbviewer.ipython.org/github/CSP-UHS/Excelling_at_Physics/blob/master/Chapter00.ipynb\"><h2>Table of Contents</h2></a>\n",
    "</div>\n",
    "</td>\n",
    "<td style=\"border: 1px solid white;\" width=\"100px\">\n",
    "<div>\n",
    "<a href=\"http://nbviewer.ipython.org/github/CSP-UHS/Excelling_at_Physics/blob/master/Chapter08.ipynb\"><img src=\"http://www.hermonswebsites.com/PyNotebooks/Excelling/rightA.png\"  height=\"50px\" width=\"50px\"  align=\"right\"></a>\n",
    "</div>\n",
    "</td>\n",
    "</tr></table>"
   ]
  }
 ],
 "metadata": {
  "kernelspec": {
   "display_name": "Python 2",
   "language": "python",
   "name": "python2"
  },
  "language_info": {
   "codemirror_mode": {
    "name": "ipython",
    "version": 2
   },
   "file_extension": ".py",
   "mimetype": "text/x-python",
   "name": "python",
   "nbconvert_exporter": "python",
   "pygments_lexer": "ipython2",
   "version": "2.7.10"
  }
 },
 "nbformat": 4,
 "nbformat_minor": 0
}
