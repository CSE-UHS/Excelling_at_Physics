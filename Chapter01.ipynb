{
 "cells": [
  {
   "cell_type": "markdown",
   "metadata": {
    "deletable": true,
    "editable": true
   },
   "source": [
    "<div align=\"right\">\n",
    "<a href=\"http://nbviewer.ipython.org/github/CSP-UHS/Excelling_at_Physics/blob/master/Chapter00.ipynb\" align=\"right\"><h2>Table of Contents</h2></a>\n",
    "</div>"
   ]
  },
  {
   "cell_type": "markdown",
   "metadata": {
    "deletable": true,
    "editable": true
   },
   "source": [
    "# Introduction to VBA"
   ]
  },
  {
   "cell_type": "markdown",
   "metadata": {
    "deletable": true,
    "editable": true
   },
   "source": [
    "## What is VBA?"
   ]
  },
  {
   "cell_type": "markdown",
   "metadata": {
    "deletable": true,
    "editable": true
   },
   "source": [
    "Microsoft Excel is an incredibly useful tool in the fields of Physics and Engineering. This book will take you step by step through the creation of several physics programs (apps) that you can create in Excel. This book assumes that you already have a basic understanding of how to create formulas in Excel and will try to build on that understanding by introducing the reader to VBA.\n",
    "\n",
    "VBA stands for <b>Visual Basic for Applications</b>. It's a programming language that enables you to control just about everything in Excel. Learning Excel VBA will enable you to do a lot more with the software than you can through the normal spreadsheet view. Although you could create each physics program with all VBA code, this book won't be taking it that far. We will still be using the spreadsheet to do most of our work for us, however we will be creating VBA userforms which act as impressive GUIs (Graphic User Interfaces). When a user opens up your Excel program instead of seeing a spreadsheet, they will see what looks like a GUI for an app. The user can enter some data and click a button and the GUI will display output data in the form of text or even graphs.\n",
    "\n",
    "To get started building your programs you will first have to add the Developer Tab to Excel and then learn about the VBA editor."
   ]
  },
  {
   "cell_type": "markdown",
   "metadata": {
    "deletable": true,
    "editable": true
   },
   "source": [
    "## Adding the Developer Toolbar"
   ]
  },
  {
   "cell_type": "markdown",
   "metadata": {
    "deletable": true,
    "editable": true
   },
   "source": [
    "If you are trying to do any of this on Excel for Mac you will have to research it online. Excel for Mac 2016 no longer even has userforms so you will have to find another option.\n",
    "\n",
    "If you have Excel 2007, click the round Office button, then click Excel Options at the bottom. When you get the Options dialogue box up, click on Popular from the left in 2007. In the section labelled \"Top options for working with Excel\" check the box for \"Show Developer tab in the Ribbon\":\n",
    "\n",
    "In Excel 2010 and 2013 (seen below) click the File menu then select Options. From the dialogue box, click on Customize Ribbon on the left side. From the right hand side you'll then see an area called \"Customize the Ribbon\". Under \"Main Tabs\" check the box for Developer:<br>\n",
    "<center><img src=\"http://www.hermonswebsites.com/PyNotebooks/Excelling/1a_Developer.png\"></center>\n",
    "\n",
    "When you have the developer toolbar, you'll see the following tab in the Ribbon (this is from Excel 2013, so you may not have all the items below):\n",
    "\n",
    "<center><img src=\"http://www.hermonswebsites.com/PyNotebooks/Excelling/1b_ribbon.png\"></center>\n"
   ]
  },
  {
   "cell_type": "markdown",
   "metadata": {
    "deletable": true,
    "editable": true
   },
   "source": [
    "## Disabling Macro-Security"
   ]
  },
  {
   "cell_type": "markdown",
   "metadata": {
    "deletable": true,
    "editable": true
   },
   "source": [
    "When trying to open your macro-enabled workbooks, security warnings pop-up and you have to actually click a button to enable or disable macros. In order to run your programs without any of these annoying security warnings, click on Macro Security, on the Code panel. Select the option for Enable all macros. Then make sure that \"Trust access to the VBA object model\" is checked:\n",
    "\n",
    "<center><img src=\"http://www.hermonswebsites.com/PyNotebooks/Excelling/1c_MacroSecurity.png\"></center>\n",
    "\n",
    "\n",
    "If you're worried about macro security then you can always bring this box up again and disable the macros before you exit Excel.\n",
    "\n",
    "Now we will examine the Visual Basic Editor."
   ]
  },
  {
   "cell_type": "markdown",
   "metadata": {
    "deletable": true,
    "editable": true
   },
   "source": [
    "## VBA Editor"
   ]
  },
  {
   "cell_type": "markdown",
   "metadata": {
    "deletable": true,
    "editable": true
   },
   "source": [
    "In the Developer tab, on the Code panel, click the Visual Basic button. Below is what the VBA editor screen will look like. It's a little daunting at first glance. But the more your work with the editor the less scary it will become.\n",
    "\n",
    "\n",
    "<center><img src=\"http://www.hermonswebsites.com/PyNotebooks/Excelling/1d_editor.png\"></center>\n",
    "\n",
    "\n",
    "\n",
    "\n",
    "Let's take a tour of the editor. First, there's an area on the left called Project - VBA Project. In this area are all the objects that your project currently has. There is a Sheet1 object which represents the Excel worksheet. (There could possibly be a Sheet 2 and a Sheet 3 in your list also.) The other object is called ThisWorkbook and refers to the workbook where all your current macros are.\n",
    "\n",
    "The big grey area on the right is where you'll write your VBA code. The reason it's grey above is because no coding window has been opened yet. To open up a coding screen double click an object on your left. Double click the Sheet1 object and you should see a coding window open that says, <b>Book1 - Sheet1(Code)</b> at the top of the window."
   ]
  },
  {
   "cell_type": "markdown",
   "metadata": {
    "deletable": true,
    "editable": true
   },
   "source": [
    "## Adding a Subroutine"
   ]
  },
  {
   "cell_type": "markdown",
   "metadata": {
    "collapsed": false,
    "deletable": true,
    "editable": true
   },
   "source": [
    "You will write all of your VBA code on this white screen. Because we double-clicked Sheet1 the code written here will only affect the worksheet called Sheet1. To give you a quick idea of what VBA code looks like, add the following in the white area for Sheet1 as seen below:\n",
    "\n",
    "\n",
    "<center><img src=\"http://www.hermonswebsites.com/PyNotebooks/Excelling/1e_helloworld.png\"></center>\n",
    "\n",
    "\n",
    "The <b>Sub</b> at the start of our code is short for <b>Subroutine</b>. A Subroutine is just a snippet of code that does a particular thing. At the end of the Subroutine is the <b>End Sub</b> to show where the code snippet ends. Perhaps you noticed, that as soon as you typed the first line and hit the Return key, VBA adds the End Sub automatically.\n",
    "\n",
    "A Subroutine needs a name followed by a pair of round brackets. There is a space between Sub and the name. In between Sub and End Sub is where you add the code for your macro. You can name your Subroutines anything you like, but good coders try to keep them related to what the code will be doing. There are two rules about naming Subroutines.\n",
    "\n",
    "<b>1.) You can't use spaces, periods, or any of these characters: &#35;, &#36;, &#37;, &#38;, &#33;</b> \n",
    "\n",
    "<b>2.) Subroutines also can't start with a number, only alphabetical characters.</b>\n",
    "\n",
    "Let's run our program. Click the green triangle in the toolbar at the top of the editor. When the Macros box pops up select Run. A Microsoft Excel pop-up window will appear that says your message. You can click the OK button to close it. The <b>MsgBox</b> in our code stands for Message Box. In between double quotes, we type what we wanted the message box to display. Feel free to change your code to say something else."
   ]
  },
  {
   "cell_type": "markdown",
   "metadata": {
    "deletable": true,
    "editable": true
   },
   "source": [
    "## Save as Macro-Enabled"
   ]
  },
  {
   "cell_type": "markdown",
   "metadata": {
    "deletable": true,
    "editable": true
   },
   "source": [
    "Go ahead and save your simple \"Hello World\" program. When you save it you will get a screen that looks something like the following. You need to remember something very important here when saving all of your programs. Change the FileType to <b>\"Excel Macro-Enabled Workbook\"</b> as seen below. This will actually append the <b>.xlsm</b> extension on to your program name.\n",
    "<center><img src=\"http://www.hermonswebsites.com/PyNotebooks/Excelling/1f_enabled.png\"></center>"
   ]
  },
  {
   "cell_type": "markdown",
   "metadata": {
    "deletable": true,
    "editable": true
   },
   "source": [
    "<table width=\"100%\" cellpadding=\"2\" cellspacing=\"2\">\n",
    "<tr>\n",
    "<td style=\"border: 1px solid white;\" width=\"100px\">\n",
    "\n",
    "</td>\n",
    "<td style=\"border: 1px solid white;\">\n",
    "<div align=\"center\">\n",
    "<a href=\"http://nbviewer.ipython.org/github/CSP-UHS/Excelling_at_Physics/blob/master/Chapter00.ipynb\"><h2>Table of Contents</h2></a>\n",
    "</div>\n",
    "</td>\n",
    "<td style=\"border: 1px solid white;\" width=\"100px\">\n",
    "<div>\n",
    "<a href=\"http://nbviewer.ipython.org/github/CSP-UHS/Excelling_at_Physics/blob/master/Chapter02.ipynb\"><img src=\"http://www.hermonswebsites.com/PyNotebooks/Excelling/rightA.png\"  height=\"50px\" width=\"50px\"  align=\"right\"></a>\n",
    "</div>\n",
    "</td>\n",
    "</tr></table>"
   ]
  }
 ],
 "metadata": {
  "kernelspec": {
   "display_name": "Python 3",
   "language": "python",
   "name": "python3"
  },
  "language_info": {
   "codemirror_mode": {
    "name": "ipython",
    "version": 3
   },
   "file_extension": ".py",
   "mimetype": "text/x-python",
   "name": "python",
   "nbconvert_exporter": "python",
   "pygments_lexer": "ipython3",
   "version": "3.5.2"
  }
 },
 "nbformat": 4,
 "nbformat_minor": 0
}
