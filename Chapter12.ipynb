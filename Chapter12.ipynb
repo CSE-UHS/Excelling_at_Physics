{
 "cells": [
  {
   "cell_type": "markdown",
   "metadata": {},
   "source": [
    "<div align=\"right\">\n",
    "<a href=\"http://nbviewer.ipython.org/github/CSP-UHS/Excelling_at_Physics/blob/master/Chapter00.ipynb\" align=\"right\"><h2>Table of Contents</h2></a>\n",
    "</div>"
   ]
  },
  {
   "cell_type": "markdown",
   "metadata": {},
   "source": [
    "# Project 10: Mirror Optical Bench"
   ]
  },
  {
   "cell_type": "markdown",
   "metadata": {},
   "source": [
    "## The Physics Explanation"
   ]
  },
  {
   "cell_type": "markdown",
   "metadata": {},
   "source": [
    "<p><img src=\"http://www.hermonswebsites.com/PyNotebooks/Excelling/12-cases.jpg\" style=\"float: right; width: 400px;\">Two types of images can be formed by reflection: Real and Virtual.</p>\n",
    "\n",
    "<p>Real images are formed by converging rays of light actually passing through the image point, which means they can actually be projected onto a screen. This can only happen with parabolic (concave) mirrors. Real images are always inverted (upside down) relative to the object and can be larger or smaller than the object.</p>\n",
    "\n",
    "<p>Virtual images are formed by rays of light that appear to have diverged from the image but do not actually pass through it. They cannot be projected on to a screen. They are always erect (right side up) with respect to the object and can also be larger or smaller than the object. Plane mirrors always produce virtual upright images that are the same size as the object and appear to be as far behind the mirror as the object is in front of it. Virtual images are also formed when an object is located inside the focal length of a concave mirror. This image will be bigger than the object. Convex mirrors also form virtual images but these will always be smaller than the object.</p>\n",
    "\n",
    "<p>When discussing images formed by concave mirrors students must understand the terminology seen in the image below:</p>\n",
    "<center><img src=\"http://www.hermonswebsites.com/PyNotebooks/Excelling/12-terminology.jpg\"></center>\n",
    "\n",
    "<p><b>Aperture:</b> The amount of light intercepted by mirror (MN or angle MCN)<br>\n",
    "<b>Center of Curvature (COC):</b> The center of the original sphere. The distance from COC to Vertex is the radius of the curved mirror.<br>\n",
    "\n",
    "<b>Vertex:</b> The center of the mirror.<br>\n",
    "\n",
    "<b>Principal Axis:</b> The line drawn through COC and the vertex.<br>\n",
    "\n",
    "<b>Secondary Axis:</b> Any other line drawn through COC to mirror (SS') <br>\n",
    "\n",
    "<b>Normal:</b> The perpendicular line to the mirror surface drawn at the point of incidence of a ray.<br> \n",
    "<b>Principal Focus (Focal Point) F:</b> Point on the principal axis where light rays close to and parallel to the principal axis will reflect and converge. <br>\n",
    "\n",
    "<b>Focal Length:</b> distance from the vertex to the focal point. (app. 1/2 of distance to COC)</p> \n",
    "\n",
    "\n",
    "<p>There are four possible geometric lines you can use to locate an image:<br>\n",
    "\n",
    "<center><img src=\"http://www.hermonswebsites.com/PyNotebooks/Excelling/12-raydiagrams.jpg\"></center>\n",
    "\n",
    "<b>Parallel Ray:</b> A ray parallel to the principal axis always reflects through the focal point.<br> \n",
    "\n",
    "<b>Principal Focus Ray:</b> A ray which travels through the focal point will always reflect parallel to the principal axis<br> \n",
    "\n",
    "<b>Secondary Axis Ray:</b> A secondary axis ray is traveling along a normal and thus reflects back on itself.<br> \n",
    "<b>Vertex Ray:</b> (not shown) A ray traveling from the object to the vertex and reflecting at the same angle as it's incident angle.</p>\n",
    "\n",
    "<p>When discussing images formed by concave mirrors we usually divide the possibilities into six different cases as seen below:</p>\n",
    "  \n",
    "<center><img src=\"http://www.hermonswebsites.com/PyNotebooks/Excelling/12-cases2.jpg\"></center>\n",
    "\n",
    "\n",
    " <p> \n",
    "<b>CASE 1:</b> Object at infinite distance. Image will be point of light located at F.<br>\n",
    "<b>CASE 2:</b> Object beyond COC. Image is real, inverted, reduced and located between COC and F.<br>\n",
    "<b>CASE 3:</b> Object at COC. Image is real, inverted, same size, and also located at COC.<br>\n",
    "<b>CASE 4:</b> Object between COC and F. Image is real, inverted, enlarged and located beyond COC.<br>\n",
    "<b>CASE 5:</b> Object at F. All rays reflect parallel and no image is formed.<br>\n",
    "<b>CASE 6:</b> Object between F and V. Image is virtual, erect, enlarged and located behind the mirror.\n",
    "</p>\n",
    "\n",
    "<p><b>The image at the top of the page is a recap of all the mirror cases. The red numbered object corresponds to the blue numbered image formed. Notice there is no \\#6 image. Also \\#7-9 are virtual images.</b></p>\n",
    "  \n",
    " \n",
    "<p>\n",
    "The focal length, object distance and image distance are all related to each other by the mirror equation below:</p>\n",
    "<center><img src=\"http://www.hermonswebsites.com/PyNotebooks/Excelling/12-mirrorequation.jpg\"></center>\n",
    "\n",
    "<p>In the mirror equation, f = focal length, s<sub>i</sub> = distance to image and s<sub>o</sub> = distance to object. s<sub>i</sub> is negative for virtual images and positive for real images. f is negative only for the convex mirror, which we won't discuss in this project. <b>All distances are measured from the vertex of the mirror.</b>\n",
    "<center><img src=\"http://www.hermonswebsites.com/PyNotebooks/Excelling/12-ratio.jpg\"></center>\n",
    "<p>The ratio of the heights of an object and its image is the same ratio as their distances from the COC so we can use the following ratio to solve mirror optics physics problems. Either side of the equation can be used to determine the magnification of the mirror.</p>"
   ]
  },
  {
   "cell_type": "markdown",
   "metadata": {},
   "source": [
    "## Program Parameters"
   ]
  },
  {
   "cell_type": "markdown",
   "metadata": {},
   "source": [
    "<b>INPUTS:</b>\n",
    "<ul>\n",
    "<li>A user can spin a button up or down to change the object distance from 0 to 50 cm in increments of 1 cm.</li>\n",
    "</ul><br>\n",
    "<b>OUTPUTS:</b>\n",
    "<ul>\n",
    "<li>A graphical diagram of the image location will be displayed.</li>\n",
    "<li>A vertex ray, parallel ray and focal ray will be used to locate the image.</li>\n",
    "<li>The image distance and height will be printed on the userform.</li>\n",
    "<li>The image type: Real, Virtual or No Image will be printed to the screen.</li>\n",
    "</ul><br>\n",
    "<b>CRITERIA & CONSTRAINTS:</b>\n",
    "<ul>\n",
    "<li>Your x-axis should be set at a max of 50 and a min of -50.</li>\n",
    "<li>Your y-axis should be set at a max of 4 and a min of -4.</li>\n",
    "<li>Make the light beams yellow with arrows. Your object and image should also be arrows.\n",
    "<li>If the object is at the focal length make it so the light rays do not show up.\n",
    "<li>Make sure your name is printed somewhere on the interface of your program. (ex. \"Hermon's Programming\")</li>\n",
    "<li>When you upload your program name it accordingly: (firstname_lastname_programtitle.xlsm)</li>\n",
    "<li>Make a title for your program at the top of the user window.</li>\n",
    "</ul>"
   ]
  },
  {
   "cell_type": "markdown",
   "metadata": {},
   "source": [
    "Here is a video of a Mirror Optical Bench Program in action.\n",
    "<br>\n",
    "<center><iframe width=\"800\" height=\"600\" src=\"https://www.youtube.com/embed/SGGAYySE7Fw\" frameborder=\"0\" allowfullscreen></iframe></center>"
   ]
  },
  {
   "cell_type": "markdown",
   "metadata": {},
   "source": [
    "## Spreadsheet Calculations"
   ]
  },
  {
   "cell_type": "markdown",
   "metadata": {},
   "source": [
    "\n",
    "<p>For this program I would again suggest making a copy of the Oscilloscope program since we will again be using a spin button. Save one of the spin buttons and corresponding label and also save the image object so we will be able to embed our graphic. I renamed my spinner <b>D_spin</b>. I used four labels: <b>ObjectDistance</b>,  <b>ImageDistance</b>, <b>ImageHeight</b> and <b>ImageType</b>. I renamed my image <b>Bench</b>.</p> \n",
    "\n",
    "<p>The first thing we will do on the spreadsheet is to establish an object height, an object distance, a focal length and the center of curvature. I entered 1 cm for my object height, 48 cm for my object distance and 15 cm for my focal length. Since the COC is twice the focal length in cell D1 we will enter <b>=D2*2</b></p> \n",
    "\n",
    "<center><img src=\"http://www.hermonswebsites.com/PyNotebooks/Excelling/12-userentry.jpg\"></center><br>\n",
    "<p>Let's first calculate where the image will be located. We will be using the mirror equation since we know f and s<sub>o</sub>. If the object is located at the focal length this will cause an error in our equation. We will use the IFERROR statement here and enter a zero if the error occurs.</p> \n",
    "\n",
    "<center><img src=\"http://www.hermonswebsites.com/PyNotebooks/Excelling/12-imagedistance.jpg\"></center>\n",
    "\n",
    "<p>Now we want to determine what the image type will be. We can determine this by what is in cell F2. We will use a nested IF statement. If the image distance is negative the image type will be \"Virtual\". If it is zero, there is \"No Image\" and if it is positive the image will be \"Real\". </p> \n",
    "\n",
    "<center><img src=\"http://www.hermonswebsites.com/PyNotebooks/Excelling/12-imagetype.jpg\"></center>\n",
    "<p>To determine the image height we will use the height ratio to distance ratio equation since we know h<sub>o</sub>,  s<sub>o</sub>, and s<sub>i</sub>. We will put a negative in front of this equation so the image will be pointing opposite.</p> \n",
    "\n",
    "<center><img src=\"http://www.hermonswebsites.com/PyNotebooks/Excelling/12-imageheight.jpg\"></center>\n",
    "\n",
    "<p>The image height could also end up being an error if the object is at the focal point, so we will use an IFERROR and again insert a zero if there is an error.</p> \n",
    "\n",
    "<center><img src=\"http://www.hermonswebsites.com/PyNotebooks/Excelling/12-heighterror.jpg\"></center>\n",
    "\n",
    "\n",
    "<p>We will be drawing several things on the same graph so we will need to enter multiple data series. Let's first draw the Principal Axis. We only need two points to add this to the graph. Change the color of the line and make it very thin so it just blends in with the axis. Click on the x-axis and then on the histogram \"Axis Options\" enter a minimum of -50 and a maximum of +50. Do this even if it already has them entered.</p> \n",
    "\n",
    "<center><img src=\"http://www.hermonswebsites.com/PyNotebooks/Excelling/12-principalaxis.jpg\"></center>\n",
    "\n",
    "<p>Now we will draw the mirror. We could make it slightly curved but it will just be easier to make a straight line. Here is the data series to add to your graph. Click on the y-axis and then on the histogram \"Axis Options\" enter a minimum of -4 and a maximum of +4. Do this even if it already has them entered.</p> \n",
    "\n",
    "<center><img src=\"http://www.hermonswebsites.com/PyNotebooks/Excelling/12-drawmirror.jpg\"></center>\n",
    "\n",
    "<p>Now we will draw the object. The numbers below are NOT hard-coded in. The x-values are determined by entering <b>=-B2</b>. The first y-value is a hard coded zero. The second y-value is <b>=B1</b>. Hopefully, you can understand how that will always plot the object at the correct location on the graph. Also, later if we want to change the height of the object we will be able to do this in cell B1 and it will cascade throughout the whole program. Make sure you change the color of the object to what you want and make sure it has an ending arrow on it.</p> \n",
    "\n",
    "<center><img src=\"http://www.hermonswebsites.com/PyNotebooks/Excelling/12-drawobject.jpg\"></center>\n",
    "\n",
    "<p>Now we will draw the image. The numbers below are again NOT hard-coded in. The x-values are determined by entering <b>=-F2</b>. The first y-value is a hard coded zero. The second y-value is <b>=H2</b>. Hopefully, you can understand how this also always plots the image at the correct location on the graph and points in the correct direction. Make sure you change the color of the image to match the object and make sure it has an ending arrow on it.</p> \n",
    "\n",
    "<center><img src=\"http://www.hermonswebsites.com/PyNotebooks/Excelling/12-drawimage.jpg\"></center>\n",
    "\n",
    "<p>Now the tricky part! We need to graph the three geometric light rays. Below is the table that you should try to reproduce but not all of these values are hard coded. We actually don't want any of these geometric light rays to be graphed if the object is located at the focal point. When this happens, F3 will say \"No Image\". To start with, enter the following formula into each cell in the table. This equation will print a NA( ) function if there is \"No Image\". This looks ugly but means that the light rays will NOT be graphed, which is what we want.</p>\n",
    "\n",
    "<p>Now, see if you can figure out what you should replace the zero (0) with in each equation to get the ray to be drawn correctly and to match the output of the table. Please give this a try on your own before looking at the answers below.</p>\n",
    "\n",
    "<center><h3>=IF(\\$F\\$3&lt;&gt;\"No Image\",0,NA( ))</h3></center>\n",
    "\n",
    "<br>\n",
    "<center><img src=\"http://www.hermonswebsites.com/PyNotebooks/Excelling/12-rays1.jpg\"></center>\n",
    "\n",
    "\n",
    "\n",
    "<p>If you couldn't figure out how to duplicate the above table, use this chart and plug in the following references  for the zero (0) in each equation. Hopefully, then the results will match the table above. If they do, change the light rays to yellow and make sure they have ending arrows on them.</p>\n",
    "<center><img src=\"http://www.hermonswebsites.com/PyNotebooks/Excelling/12-rayanswers.jpg\"></center>\n",
    "\n",
    "<p>Now clean up the graph so it's ready to be embedded into your userform. Change the object distance several times to see if your optical bench is working.</p>\n"
   ]
  },
  {
   "cell_type": "markdown",
   "metadata": {},
   "source": [
    "## Coding the GUI\n",
    "\n",
    "\n",
    "<p>The VBA code is pretty straight forward and by now you should be able to do this by yourself. Remember, it's important to know the names you gave to the objects (labels and spinners) on your userform so you can reference them in your VBA code. Let's examine the first block of code.</p>\n",
    "<center><img src=\"http://www.hermonswebsites.com/PyNotebooks/Excelling/12-initialize.jpg\"></center>\n",
    "\n",
    "<p>In this first subroutine we write code that will execute when the userform is \"initialized\" or first opened. We first enter into the <b>Caption</b> properties of our <b>ObjectDistance</b>, <b>ImageDistance</b>, <b>ImageHeight</b> and <b>ImageType</b> labels on our userform whatever values are on our spreadsheet. We formatted most of these to the hundredths place. We also pre-load our graph into our <b>Picture</b> property of the <b>Bench</b> image on the userform. Next we want to program the <b>D_Spin</b> spinner...</p>\n",
    "<center><img src=\"http://www.hermonswebsites.com/PyNotebooks/Excelling/12-spindown.jpg\"></center>\n",
    "\n",
    "<p><b>D_spin_SpinDown( )</b></p>\n",
    "<p>If the <b>Caption</b> property of the <b>ObjectDistance</b> label is greater than 0 we will subract 1 from it whenever the SpinDown button is clicked. We then send the new <b>Caption</b> to our spreadsheet so new values can be calculated. We send the ImageDistance, ImageHeight and ImageType back to the userform and also reload the graph. We then end the IF statement with an <b>End If</b>.</p>\n",
    "\n",
    "<center><img src=\"http://www.hermonswebsites.com/PyNotebooks/Excelling/12-spinup.jpg\"></center>\n",
    "<p><b>D_spin_SpinUp( )</b></p>\n",
    "<p>If the <b>Caption</b> property of the <b>ObjectDistance</b> label is less than 50 we will add 1 to it whenever the SpinUp button is clicked. We then send the new <b>Caption</b> to our spreadsheet so new values can be calculated. We send the ImageDistance, ImageHeight and ImageType back to the userform and also reload the graph. We then end the IF statement with an <b>End If</b>.</p>\n",
    "\n",
    "\n",
    "<p>Hopefully, when you run your program you can now see what happens as an object approaches a concave mirror.</p>\n"
   ]
  },
  {
   "cell_type": "markdown",
   "metadata": {},
   "source": [
    "<table width=\"100%\" cellpadding=\"2\" cellspacing=\"2\">\n",
    "<tr>\n",
    "<td style=\"border: 1px solid white;\" width=\"100px\">\n",
    "<div>\n",
    "<a href=\"http://nbviewer.ipython.org/github/CSP-UHS/Excelling_at_Physics/blob/master/Chapter11.ipynb\"><img src=\"http://www.hermonswebsites.com/PyNotebooks/Excelling/leftA.png\"  height=\"50px\" width=\"50px\"></a>\n",
    "</div>\n",
    "</td>\n",
    "<td style=\"border: 1px solid white;\">\n",
    "<div align=\"center\">\n",
    "<a href=\"http://nbviewer.ipython.org/github/CSP-UHS/Excelling_at_Physics/blob/master/Chapter00.ipynb\"><h2>Table of Contents</h2></a>\n",
    "</div>\n",
    "</td>\n",
    "<td style=\"border: 1px solid white;\" width=\"100px\">\n",
    "<div>\n",
    "<a href=\"http://nbviewer.ipython.org/github/CSP-UHS/Excelling_at_Physics/blob/master/Chapter00.ipynb\"><img src=\"http://www.hermonswebsites.com/PyNotebooks/Excelling/rightA.png\"  height=\"50px\" width=\"50px\"  align=\"right\"></a>\n",
    "</div>\n",
    "</td>\n",
    "</tr></table>"
   ]
  }
 ],
 "metadata": {
  "kernelspec": {
   "display_name": "Python 2",
   "language": "python",
   "name": "python2"
  },
  "language_info": {
   "codemirror_mode": {
    "name": "ipython",
    "version": 2
   },
   "file_extension": ".py",
   "mimetype": "text/x-python",
   "name": "python",
   "nbconvert_exporter": "python",
   "pygments_lexer": "ipython2",
   "version": "2.7.10"
  }
 },
 "nbformat": 4,
 "nbformat_minor": 0
}
