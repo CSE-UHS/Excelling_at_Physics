{
 "cells": [
  {
   "cell_type": "markdown",
   "metadata": {},
   "source": [
    "<div align=\"right\">\n",
    "<a href=\"http://nbviewer.ipython.org/github/CSE-UHS/Excelling_at_Physics/blob/master/Chapter00.ipynb\" align=\"right\"><h2>Table of Contents</h2></a>\n",
    "</div>"
   ]
  },
  {
   "cell_type": "markdown",
   "metadata": {},
   "source": [
    "# Chapter 3: Grade Calculator"
   ]
  },
  {
   "cell_type": "markdown",
   "metadata": {},
   "source": [
    "## Creating a Userform"
   ]
  },
  {
   "cell_type": "markdown",
   "metadata": {},
   "source": [
    "In the physics programs we will be creating we will need the user to interact with a GUI to input data. In VBA, these are called userforms. In this chapter, we will create a simple userform that you can save as a template and then always use when beginning a new program. This userform will simply contain a button and a text box.\n",
    "\n",
    "Start a new spreadsheet and name it userform.xlsm. Bring up the VBA Editor and from the menu bar at the top of the Editor, click Insert > User Form as seen below:\n",
    "\n",
    "<br><br>\n",
    "<center><img src=\"https://dl.dropboxusercontent.com/u/90219577/Hermon/Physics_Website/Excelling/2c_insert_menu.gif\"></center>\n",
    "<br><br>\n",
    "\n",
    "When you click on User Form, you should see a grey square appear with a toolbox beside it as seen below:\n",
    "\n",
    "<br><br>\n",
    "<center><img src=\"https://dl.dropboxusercontent.com/u/90219577/Hermon/Physics_Website/Excelling/2a_userform.png\"></center>\n",
    "<br><br>\n",
    "\n",
    "If you can't see the toolbox, or accidentally lose it, click the View menu at the top of the Editor and select Toolbox.\n",
    "\n",
    "Now have a look at the Project Explorer on the left. You should see a new folder appear, along with your User Form. If you accidentally get rid of the form, double click here to bring it back.\n",
    "\n",
    "<br><br>\n",
    "<center><img src=\"https://dl.dropboxusercontent.com/u/90219577/Hermon/Physics_Website/Excelling/2b_userproperties.png\"></center>\n",
    "<br><br>\n",
    "\n",
    "All objects you draw such as userforms or items on a userform come with a list of properties that you can change. The properties area should appear on the left of the Editor, just below the Project Explorer as seen above. If you can't see the Properties area, click the View menu at the top of the Editor. From the menu, select Properties Window. The word to the left of the list is the property itself. To the right is the value for the property. \n",
    "\n",
    "By default, the property <b>name</b> has a value of UserForm1. Go ahead and change the name of the userform to MyUserForm. You might notice that the name of an object cannot have spaces in it. The property <b>Caption</b> also has a value of UserForm1. The Caption is the title that shows up at the top of the userform. This property can contain spaces. Change it to <b>User Form Template</b> You can change the height and width of the form by changing the height and width properties in the Properties Window or by simply clicking and dragging the white resizing handles. There are many other properties of the userform you can change here. Try to change the color of the form."
   ]
  },
  {
   "cell_type": "markdown",
   "metadata": {},
   "source": [
    "## Adding a Command Button"
   ]
  },
  {
   "cell_type": "markdown",
   "metadata": {},
   "source": [
    "Let's add an object to our Userform. If you look at the toolbox, you'll see it's a grid of items that you can add to the form. Click on the Command Button item to select it, circled in red below:\n",
    "<br>\n",
    "<center><img src=\"https://dl.dropboxusercontent.com/u/90219577/Hermon/Physics_Website/Excelling/2d_tools.gif\"></center>\n",
    "<br><br>\n",
    "\n",
    "\n",
    "With the Command Button selected, move your mouse over to your form. Hold down your left mouse button and drag to the right to draw a button on the form as seen below:\n",
    "\n",
    "<br>\n",
    "<center><img src=\"https://dl.dropboxusercontent.com/u/90219577/Hermon/Physics_Website/Excelling/2e_button.png\"></center>\n",
    "<br><br>\n",
    "\n",
    "Now with your button selected, you will see a new set of properties listed for this button in the Properties Window. You can again change the height and width parameters of the button in the Properties Window or by using the white resizing handles. The default value for the Name of a button is CommandButton, then a number. As you see above the button we created says <b>CommandButton1</b> Change the name property value to <b>cmdGetNumber</b>. Again you will probably notice that the button on the form still says CommandButton1. This is because this is the text on the button, and not its name and is changed with the <b>Caption</b> property. Change the caption of the button to <b>\"Get Number!\"</b>"
   ]
  },
  {
   "cell_type": "markdown",
   "metadata": {},
   "source": [
    "## Adding a Text Box"
   ]
  },
  {
   "cell_type": "markdown",
   "metadata": {},
   "source": [
    "Now let's add a textbox to our Userform. In the toolbox, click on the Text Box item to select it, circled in red below:\n",
    "<br>\n",
    "<center><img src=\"https://dl.dropboxusercontent.com/u/90219577/Hermon/Physics_Website/Excelling/2f_textbox.gif\"></center>\n",
    "<br><br>\n",
    "\n",
    "Now draw one out on your form. Change the Name property of the text box to txtValue. Change the Width property to 50 and the Height to 25. In the image below the button was dragged over to the right.\n",
    "\n",
    "<br>\n",
    "<center><img src=\"https://dl.dropboxusercontent.com/u/90219577/Hermon/Physics_Website/Excelling/2g_text.png\"></center>\n",
    "<br><br>\n"
   ]
  },
  {
   "cell_type": "markdown",
   "metadata": {},
   "source": [
    "## Adding a Label"
   ]
  },
  {
   "cell_type": "markdown",
   "metadata": {},
   "source": [
    "The textbox will be used for user input. We will use a <b>label</b> for the program output. In the toolbox, click on the Label item to select it, circled in red below:\n",
    "<br>\n",
    "<center><img src=\"https://dl.dropboxusercontent.com/u/90219577/Hermon/Physics_Website/Excelling/2h_label.png\"></center>\n",
    "<br><br>\n",
    "\n",
    "Now draw one out on your form. Feel free to change the background color, foreground color and font size. Then delete the value of the <b>Caption</b>\n",
    "\n",
    "<br>\n",
    "<center><img src=\"https://dl.dropboxusercontent.com/u/90219577/Hermon/Physics_Website/Excelling/2i_labelform.png\"></center>\n",
    "<br><br>\n",
    "\n",
    "Now that the form is designed, click the green play button to see what it looks like when it's running. You'll see that the dots on the form have vanished. The dots are only present in design mode to help you position controls on the form.\n",
    "\n",
    "Although you can click inside of the text area, nothing will happen when you click the button. That's because we haven't written any code for it yet. Click the red X to get rid of the form and return to the VBA Editor."
   ]
  },
  {
   "cell_type": "markdown",
   "metadata": {},
   "source": [
    "## Coding the Command Button"
   ]
  },
  {
   "cell_type": "markdown",
   "metadata": {
    "collapsed": false
   },
   "source": [
    "When we click our command button in our physics programs we want the user input to be submitted to our spreadsheet. After some mathematical calculations, output data will be sent from our spreadsheet back to our userform to be displayed. In this practice userform, when the command button is clicked, we will take the text input and insert it into cell C1 on the spreadsheet. In cell C2 we will divide C1 by 2. We will then send C2 back to the userform as the caption for the label.\n",
    "\n",
    "To write code for our button, simply double click it on the form. When you do, you'll see this:\n",
    "\n",
    "<br><br>\n",
    "<center><img src=\"https://dl.dropboxusercontent.com/u/90219577/Hermon/Physics_Website/Excelling/2j.gif\"></center>\n",
    "<br><br>\n",
    "\n",
    "\n",
    "If you remember, we changed the name of our button to cmdGetNumber. You'll see this name in two places: at the very top, in a dropdown list, and just after Sub in the coding window.\n",
    "\n",
    "If you click the dropdown list at the top, you'll see this:\n",
    "\n",
    "<br><br>\n",
    "<center><img src=\"https://dl.dropboxusercontent.com/u/90219577/Hermon/Physics_Website/Excelling/2k.gif\"></center>\n",
    "<br><br>\n",
    "\n",
    "The items on the list are all the controls you have placed on the form, as well as the form itself. Each item has something called an event attached to it. You can see a list of all the events by clicking the second dropdown list:\n",
    "\n",
    "<br><br>\n",
    "<center><img src=\"https://dl.dropboxusercontent.com/u/90219577/Hermon/Physics_Website/Excelling/2l.gif\"></center>\n",
    "<br><br>\n",
    "\n",
    "An event is what happens when you do something with a control. For a button, this \"something\" is usually a click. But you can also write code for what happens when the button is double clicked, when the mouse is over the button, or any events on the list above. By double clicking the button on the form, the Editor automatically takes you into the Click event, which is what you'll want most of the time.<br><br>\n",
    "\n",
    "\n",
    "This is a Private Sub. The name of the Sub is cmdGetNumber. After an underscore, comes the name of the event, Click. After the event, you'll see a pair of round brackets. Any code you want to execute when the button is clicked goes between the two lines above.<br><br>\n",
    "\n",
    "To manipulate a control on a form with code the syntax looks like this:<br><br>\n",
    "\n",
    "<b>Control_Name.Property</b>\n",
    "<br><br>\n",
    "You can access a control from any other control. So the button can access certain properties of a textbox and the textbox can access certain properties of the button. We want to get at the text in the textbox when the button is clicked. We also want to place this text into cell C1 on a spreadsheet. The code, then, is this:<br><br>\n",
    "\n",
    "<h2><center><i><b>Worksheets(\"Sheet1\").Range(\"C1\").Value = txtValue.Text</b></i></center></h2>\n",
    "\n",
    "To the left of the equal sign we have the code to determine where on the spreadsheet we are going to place our input data. To the right of the equal sign we have this:<br><br>\n",
    "\n",
    "<b>txtValue.Text</b>\n",
    "<br><br>\n",
    "If you remember, we changed the name of our textbox to txtValue. This is the control name. The property of the textbox we want to access is the Text property. As its name suggest, this will get you the text in the textbox and place it in cell C1 on our spreadsheet.<br><br>\n",
    "\n",
    "If instead you wanted to set a value for the textbox, the code would go to the left of the equal sign:<br><br>\n",
    "\n",
    "<b>txtValue.Text = \"Some Text\"</b><br><br>\n",
    "\n",
    "Here, we would be assigning the string \"Some Text\" to the Text property of the textbox control.<br><br>\n",
    "\n",
    "There are lots and lots of properties of a control that you can manipulate. As soon as you type a dot after the control name, you should see a list appear:\n",
    "\n",
    "<br><br>\n",
    "<center><img src=\"https://dl.dropboxusercontent.com/u/90219577/Hermon/Physics_Website/Excelling/2m.gif\"></center>\n",
    "<br><br>\n",
    "\n",
    "A lot of the items in the above list are also in the Properties area in the VBA Editor. For example, the Top, Left, Height and Width properties. This means that you can change these properties with code, as well as from the Editor. If you wanted to, you could change the Top and Left properties of the textbox like this when the button is clicked:\n",
    "<br><br>\n",
    "<b>txtValue.Left = 10<br>\n",
    "txtValue.Top = 10</b>\n",
    "<br><br>\n",
    "When you change a property from an event like a button click you are said to be making changes <i>\"on the fly\"</i>, or making changes <i>\"at runtime\"</i>. So be aware that any properties in the Properties area in the Editor can also be changed with code.<br><br>\n",
    "\n",
    "Now click in cell C2 on your spreadsheet and enter the following formula:<br><br>\n",
    "<h3><center><b>=C1/2</b></center></h3><br><br>\n",
    "This will of course divide the value the user entered by 2 and place the value in cell C2. Now we want to send that value back to the userform. We need to add another line of code to our command button. <br><br>\n",
    "\n",
    "<h2><center><i><b>Label1.Caption = Worksheets(\"Sheet1\").Range(\"C2\").Value</b></i></center></h2>\n",
    "\n",
    "This will look like a reverse of our earlier line of code and hopefully you can see why. This time we are taking what we find in cell C2 and assigning it to the <b>Caption</b> property of the <b>Label1</b> object. In this example we were lazy and never changed the Name property of our Label. So all together the VBA code for our command button looks like the following:\n",
    "\n",
    "<br><br>\n",
    "<center><img src=\"https://dl.dropboxusercontent.com/u/90219577/Hermon/Physics_Website/Excelling/2n.png\"></center>\n",
    "<br><br>\n",
    "\n",
    "\n",
    "\n",
    "\n",
    "Let's try it out! Click anywhere inside of your code and then click the green play button. Type a number into your textbox and click your button. You should see that number be entered into cell C1 in the spreadsheet. Cell C2 will then be half of cell C1 and that value will be placed back in the label on the userform. <b>Don't pretend that you aren't totally excited about this!!!</b> <br><br>\n",
    "\n",
    "You might have tried typing in a letter instead of a number. This will give you an error and we will have to anticipate and fix possible user mistakes in our programs. There are ways to code all of our physics programs in VBA but as I said earlier we will do most of our calculations within the spreadsheet itself."
   ]
  },
  {
   "cell_type": "markdown",
   "metadata": {},
   "source": [
    "## Launching Your Userform"
   ]
  },
  {
   "cell_type": "markdown",
   "metadata": {},
   "source": [
    "It would be nice if when a user tries to open up our excel workbook the userform launches automatically. This will make our programs look like real applications where the user doesn't actually see the background spreadsheet and all of the calculations. This is not that hard. We need to write a Subroutine on the worksheet to Hide Excel and Display Userform when the workbook is opening. To do this, double-click on <b>ThisWorkbook</b> in your project panel. This will start a subroutine called, <b>Workbook_Open()</b>. Your first line of code within this subroutine turns off the visibility of the Application which means the Excel spreadsheet will not display when someone opens the workbook. The second line of code tells the userform to display or show. Remember to use the correct name of your userform. The code looks like the following:\n",
    "\n",
    "<br><br>\n",
    "<center><img src=\"https://dl.dropboxusercontent.com/u/90219577/Hermon/Physics_Website/Excelling/2o.png\"></center>\n",
    "<br><br>\n",
    "\n"
   ]
  },
  {
   "cell_type": "markdown",
   "metadata": {},
   "source": [
    "## Closing Your Userform"
   ]
  },
  {
   "cell_type": "markdown",
   "metadata": {},
   "source": [
    "This would be great once your program was all complete or if you were giving it to someone else and they never had a need to actually view the spreadsheet. However, while you are working on your program you will probably want to be able to see your spreadsheet. We are going to add some more code to our userform so that when we close the userform (click the x) the Application.Visible will be set back to True. To do this double click somewhere in your userform. A Subroutine called <b>UserForm_Click()</b> will be displayed. CLICK is not the action that we want so in the upper right drop down select <b>QueryClose</b>. You then can delete the UserForm_Click() subroutine.\n",
    "\n",
    "In the <b>QueryClose</b> subroutine we only need one line of code which again makes the Application visible as can be seen below:\n",
    "\n",
    "\n",
    "<br><br>\n",
    "<center><img src=\"https://dl.dropboxusercontent.com/u/90219577/Hermon/Physics_Website/Excelling/2p.png\"></center>\n",
    "<br><br>\n",
    "\n",
    "Try this out to make sure it's working correctly. Save your workbook and then close out of Excel. Reopen your Excel Program and the userform alone should open up so that it looks like an actual App. Run your app several times and then click the close (x) button. Your spreadsheet should now open up if you want to do more work with it.\n",
    "\n",
    "<h4>You can use this program as a starting template for all of the physics programs that you will create in this book.</h4>\n"
   ]
  },
  {
   "cell_type": "markdown",
   "metadata": {},
   "source": [
    "<table width=\"100%\" cellpadding=\"2\" cellspacing=\"2\">\n",
    "<tr>\n",
    "<td style=\"border: 1px solid white;\" width=\"100px\">\n",
    "<div>\n",
    "<a href=\"http://nbviewer.ipython.org/github/CSE-UHS/Excelling_at_Physics/blob/master/Chapter02.ipynb\"><img src=\"https://dl.dropboxusercontent.com/u/90219577/Hermon/CSE_Website/webdev/leftA.png\"  height=\"50px\" width=\"50px\"></a>\n",
    "</div>\n",
    "</td>\n",
    "<td style=\"border: 1px solid white;\">\n",
    "<div align=\"center\">\n",
    "<a href=\"http://nbviewer.ipython.org/github/CSE-UHS/Excelling_at_Physics/blob/master/Chapter00.ipynb\"><h2>Table of Contents</h2></a>\n",
    "</div>\n",
    "</td>\n",
    "<td style=\"border: 1px solid white;\" width=\"100px\">\n",
    "<div>\n",
    "<a href=\"http://nbviewer.ipython.org/github/CSE-UHS/Excelling_at_Physics/blob/master/Chapter04.ipynb\"><img src=\"https://dl.dropboxusercontent.com/u/90219577/Hermon/CSE_Website/webdev/rightA.png\"  height=\"50px\" width=\"50px\"  align=\"right\"></a>\n",
    "</div>\n",
    "</td>\n",
    "</tr></table>"
   ]
  }
 ],
 "metadata": {
  "kernelspec": {
   "display_name": "Python 2",
   "language": "python",
   "name": "python2"
  },
  "language_info": {
   "codemirror_mode": {
    "name": "ipython",
    "version": 2
   },
   "file_extension": ".py",
   "mimetype": "text/x-python",
   "name": "python",
   "nbconvert_exporter": "python",
   "pygments_lexer": "ipython2",
   "version": "2.7.10"
  }
 },
 "nbformat": 4,
 "nbformat_minor": 0
}
