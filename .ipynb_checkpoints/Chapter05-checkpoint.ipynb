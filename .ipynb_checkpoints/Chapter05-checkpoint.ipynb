{
 "cells": [
  {
   "cell_type": "markdown",
   "metadata": {},
   "source": [
    "<div align=\"right\">\n",
    "<a href=\"http://nbviewer.ipython.org/github/CSP-UHS/Excelling_at_Physics/blob/master/Chapter00.ipynb\" align=\"right\"><h2>Table of Contents</h2></a>\n",
    "</div>"
   ]
  },
  {
   "cell_type": "markdown",
   "metadata": {},
   "source": [
    "# Chapter 5: Projectile Program"
   ]
  },
  {
   "cell_type": "markdown",
   "metadata": {},
   "source": [
    "<img src=\"https://dl.dropboxusercontent.com/u/90219577/Hermon/Physics_Website/Excelling/vector.jpeg\" width=\"100\" height=\"100\" style=\"float: right;\">In Physics we deal a lot with vector quantities. A vector is a measurement with a magnitude and a direction and drawn as an arrow. By direction we mean an angle. For example, 50 Newtons @ 23˚. In this book, our direction will be what we call a \"heading\" which means we will measure clockwise from North. Therefore due North is 0˚, due East is 90˚, due South is 180˚ and due West is 270˚.<br><br>\n",
    "When we have multiple vectors all working on the same object we often want to determine what single vector applied to the object would give the same result. To determine this, we \"add\" all the component vectors together to give us what we call a <b>\"resultant\"</b> vector.\n",
    "<h1>Vector Example Review</h1><br>\n",
    "Let's do an example problem to review how to add vectors. What is the resultant vector that you would get by adding the following three vectors togther?\n",
    "<h3><ul>\n",
    "<li>Vector A is 100.0 units @ 63.0 deg S of W.</li>\n",
    "<li>Vector B is 198.0 units @ 40.0 deg S of E.</li>\n",
    "<li>Vector C is 150.0 units @ 20.0 deg N of E</li>\n",
    "</ul></h3>\n",
    "\n",
    "In college you most likely will use linear algebra to solve this problem. To begin, we will draw all three of these vectors on a grid with the angles to each of them from North.<br><br>\n",
    "<center><img src=\"https://dl.dropboxusercontent.com/u/90219577/Hermon/Physics_Website/Excelling/4b.png\"></center>\n",
    "<br>\n",
    "\n",
    "We then can use trig functions to \"resolve\" all three of them into their x and y components. A unit length in the x-direction is written as <b>î</b> and pronounced <b>i-hat</b>. A unit length in the y-direction is written as <b>ĵ</b> and pronounced <b>j-hat</b>. If you always use the angles from North then the following formulas will always work where <b>&theta;</b> is the angle from North and <b>V</b> is the magnitude of the vector.\n",
    "\n",
    "<h3><b>î = Vsin&theta;<br>\n",
    "ĵ = Vcos&theta;</b></h3>\n",
    "\n",
    "Anything to the right is +x and to the left is -x and anything up is +y and down is -y. If you convert the three vectors into i-hat and j-hat form then you should arrive at the following:\n",
    "<h3><b>\n",
    "<font color=\"green\">A = -45.4î - 89.1ĵ</font><br>\n",
    "<font color=\"blue\">B = 152î - 127ĵ</font><br>\n",
    "<font color=\"red\">C = 141î + 51.3ĵ</font></b></h3>\n",
    "\n",
    "<center><img src=\"https://dl.dropboxusercontent.com/u/90219577/Hermon/Physics_Website/Excelling/4c.png\"></center>\n",
    "<br>\n",
    "\n",
    "To get your resultant (R) we simply add the above components of each vector, which gives:\n",
    "<h3><b>R = 248î - 165ĵ</b></h3>\n",
    "\n",
    "Since î and ĵ are the two perpendicular components, to determine the actual magnitude of the resultant you simply use Pythagorean's theorem as seen below.<br>\n",
    "<center><img src=\"https://dl.dropboxusercontent.com/u/90219577/Hermon/Physics_Website/Excelling/4a.png\"></center>\n",
    "<br>\n",
    "\n",
    "So, how do we get our direction? We can now draw out our resultant î and ĵ components as seen below. To find the angle we would of course take the inverse tangent of î/ĵ. In the lower right and upper left quadrants this would mean that our angle is negative. Don't worry about this right now. You can just take the absolute value and call it 56.4˚. Of course, we want to always give the heading from north so we will subtract it from 180˚ for a final heading of 124˚.<br>\n",
    "<center><img src=\"https://dl.dropboxusercontent.com/u/90219577/Hermon/Physics_Website/Excelling/4d.png\"></center><br>\n",
    "<center><h1><b>Final Resultant: 298 units @ 124˚</b></h1></center>\n",
    "<br>\n",
    "Now that we hopefully have a better grasp of vector addition let's look at the parameters for this program. This program is a little more difficult as it involves several trig functions as well as creating a graph and embedding it back into the user interface."
   ]
  },
  {
   "cell_type": "markdown",
   "metadata": {},
   "source": [
    "## Program Parameters"
   ]
  },
  {
   "cell_type": "markdown",
   "metadata": {},
   "source": [
    "<b>INPUTS:</b>\n",
    "<ul>\n",
    "<li>A user can enter up to 5 vectors</li>\n",
    "<li>A magnitude and a direction in degrees from North will be entered for each vector.</li>\n",
    "</ul><br>\n",
    "<b>OUTPUTS:</b>\n",
    "<ul>\n",
    "<li>Graphical output of the vector components added head to tail.</li>\n",
    "<li>Resultant vector drawn from the tail of the first to the head of the last.</li>\n",
    "<li>Magnitude and direction in degrees from north of resultant vector should be the printed to the tenths place.</li> \n",
    "</ul><br>\n",
    "<b>CRITERIA & CONSTRAINTS:</b> \n",
    "<ul>\n",
    "<li>Your program should have an impressive interface. (colors and graphics)</li>\n",
    "<li>Specify in what units the user is entering data.</li>\n",
    "<li>If the resultant is zero, print \"none\" instead of the resultant and the angle.</li>\n",
    "<li>Make sure your name is printed somewhere on the interface of your program. (ex. \"Hermon's Programming\")</li>\n",
    "<li>When you upload your program name it accordingly: (marc_hermon_program.xlsx)</li>\n",
    "<li>Make a title for your program at the top of the user window.</li>\n",
    "</ul>"
   ]
  },
  {
   "cell_type": "markdown",
   "metadata": {},
   "source": [
    "## Building the GUI"
   ]
  },
  {
   "cell_type": "markdown",
   "metadata": {},
   "source": [
    "Here is a video of a Vector Addition Program in action.\n",
    "<br>\n",
    "<center><iframe width=\"420\" height=\"315\" src=\"https://www.youtube.com/embed/NqkETe4tUzU\" frameborder=\"0\" allowfullscreen></iframe></center>\n",
    "<br>\n",
    "As you can see in this userform we used 10 input text boxes and 3 output labels. One of the labels we will use to import our vector addition graph. \n",
    "<br><br>\n",
    "This time I renamed my Command Button, \"AddVectors\"\n",
    "<br><br>\n",
    "In the subroutine for <b>AddVectors.Click()</b> we took all 5 magnitudes and directions and inserted them into the spreadsheet to do some calculations. As you can see from the spreadsheet below when the button was clicked the data was transferred from the Userform to cells A2:B6. At this time, you should build your User Interface and load the data into the spreadsheet when the command button is clicked.\n",
    "<br><br>\n",
    "<center><img src=\"https://dl.dropboxusercontent.com/u/90219577/Hermon/Physics_Website/Excelling/4e.png\"></center>"
   ]
  },
  {
   "cell_type": "markdown",
   "metadata": {},
   "source": [
    "## Calculating the Magnitude"
   ]
  },
  {
   "cell_type": "markdown",
   "metadata": {},
   "source": [
    "The first thing we will do will be to calculate the î and ĵ for each of the 5 vectors by using the following two equations:\n",
    "<h3><b>î = Vsin&theta;<br>\n",
    "ĵ = Vcos&theta;</b></h3>\n",
    "\n",
    "The problem is that our angles are currently in degrees and when Excel does any trig, it is expecting the angles to be in radians. So in cell C2 we inserted the following Excel equation:<br>\n",
    "<h3>=SIN(RADIANS(B2))*A2</h3>\n",
    "<br>and then we can drag it down for all 5 vectors. In cell D2 we inserted the following similar equation:<br>\n",
    "<h3>=COS(RADIANS(B2))*A2</h3>\n",
    "<br>and also dragged it down for all 5 vectors.\n",
    "\n",
    "<br>\n",
    "<center><img src=\"https://dl.dropboxusercontent.com/u/90219577/Hermon/Physics_Website/Excelling/4f.PNG\"></center>\n",
    "<br>\n",
    "Next, we will add up the i-hats and j-hats to get a resultant. In cell C7 we write:<br>\n",
    "<h3>=SUM(C2:C6)</h3><br>\n",
    "and in cell D7 we write:<br>\n",
    "<h3>=SUM(D2:D6)</h3><br>\n",
    "\n",
    "<br>\n",
    "<center><img src=\"https://dl.dropboxusercontent.com/u/90219577/Hermon/Physics_Website/Excelling/4g.PNG\"></center>\n",
    "<br>\n",
    "\n",
    "Now, using the i-hat and j-hat for the resultant we can use Pythagorean's Theorem to calculate the magnitude of the resultant. In cell C9 we enter:<br>\n",
    "<h3>=((C7)^2 + (D7)^2)^.5</h3><br>\n",
    "where ^.5 (raising to the one-half exponent) is the same as taking the square root of the quantity.<br><br>\n",
    "In cell C10 we want to check if the resultant is really close to zero because if it is, the program parameters tell us we need to print \"None\" instead. We can use an <b>if statement</b> to do this such as the following:<br>\n",
    "<h3>=IF(C9&#60;0.01,&#34;None&#34;,C9)</h3><br>\n",
    "We first see if C9 is really close to zero. If it is close enough we print \"None\". If it isn't we print the original resultant.\n",
    "\n",
    "\n",
    "<br><br>\n",
    "<center><img src=\"https://dl.dropboxusercontent.com/u/90219577/Hermon/Physics_Website/Excelling/4h.PNG\"></center><br>\n",
    "\n",
    "Although the following video does not match up with the text of this book, it does show how we can determine a resultant vector magnitude. If you got stuck in the reading above see if this video helps you get back on track.\n",
    "<center><iframe width=\"560\" height=\"315\" src=\"https://www.youtube.com/embed/9CuPMI07j5w?list=PLhy-Ne6FAXKYFM-tQsYrm3TxoG2hXt2CZ\" frameborder=\"0\" allowfullscreen></iframe></center>\n",
    "\n",
    "<h2>Calculating the Direction Angle</h2>\n",
    "\n",
    "<br>\n",
    "To calculate the angle in cell C12 we will take the ATAN(î/ĵ). The answer will be in radians so we will need to convert it to Degrees. The excel formula looks like this:<br>\n",
    "<center><img src=\"https://dl.dropboxusercontent.com/u/90219577/Hermon/Physics_Website/Excelling/4i.PNG\"></center><br>\n",
    "\n",
    "This, however, is not necessarily the angle from North. In fact, it will only be the angle from North if the resultant is in the upper right quadrant. How do we know if the resultant is in the upper right quadrant? Because both the î and the ĵ would both be positive. If you look at the following diagram we can determine how to calculate the actual angle from North depending on the signs of the î and the ĵ. <br>\n",
    "<table border=\"0\" cellpadding=\"0\" cellspacing=\"0\"><tr><td style=\"vertical-align: top;\">\n",
    "<img src=\"https://dl.dropboxusercontent.com/u/90219577/Hermon/Physics_Website/Excelling/4k.PNG\"></td><td style=\"vertical-align: top;\">\n",
    "\n",
    "<ul>\n",
    "<li>If î>=0 and ĵ>=0, the resultant is in the upper right quadrant and the angle from North equals &theta;.</li><br>\n",
    "<li>If î>=0 and ĵ&#60;=0, the resultant is in the lower right quadrant. &theta; is negative and so the angle from North equals 180 + &theta;.</li><br>\n",
    "<li>If î&#60;=0 and ĵ&#60;=0, the resultant is in the lower left quadrant. &theta; is positive and so again the angle from North equals 180 + &theta;.</li><br>\n",
    "<li>If î&#60;=0 and ĵ>=0, the resultant is in the upper left quadrant. &theta; is negative and so the angle from North equals 360 + &theta;.</li>\n",
    "</ul>\n",
    "</td></tr></table>\n",
    "<br>We have used <b>if statements</b> before in Excel that look like this.<br> <h3>=IF(condition,\"True\",\"False\")</h3><br>\n",
    "So, how do we do <b>\"IF-AND\"</b> statements? They would look like this:<br>\n",
    "<h3>=IF(AND(condition1,condition2),\"True\",\"False\")</h3><br>\n",
    "We will actually do some nested \"IF-AND\" statements, which means instead of printing something in the \"False\" parameter we will just start a new \"IF-AND\" statement. This will look pretty complicated so I will try to spell out the entire line of code that I put in cell C13.<br>\n",
    "\n",
    "Since, in the upper right quadrant we will not have to correct the angle we will leave that until the end. Our first check will be to see if the resultant is in the lower right quadrant which means î is positive and ĵ is negative. This means that the angle will be negative and we will \"add\" it to 180. (which really means it will be subtracted from 180). \n",
    "\n",
    "Our next check is to see if the resultant is in the lower left quadrant which means î is negative and ĵ is negative. This means that the angle will be positive and we will add it to 180 again.\n",
    "\n",
    "Our final check it to see if the resultant is in the upper left quadrant which means î is negative and ĵ is positive. This means that the angle will be negative and we will \"add\" it to 360. (which really means it will be subtracted from 360).\n",
    "\n",
    "Instead of starting another Nested \"IF-AND\" statement we will just print the angle in C12 because we would have to be in the upper right quadrant.\n",
    "\n",
    "<center><img src=\"https://dl.dropboxusercontent.com/u/90219577/Hermon/Physics_Website/Excelling/4j.PNG\"></center><br>\n",
    "\n",
    "Finally, in cell C14, we will correct the angle one more time. If you remember, in cell C10 we printed \"None\" if the resultant was really close to zero. In cell C14 we will check if the resultant is \"None\" and if it is we will print a \"\" for the angle. The image below shows how to do this with an \"IF\" statement.\n",
    "\n",
    "<center><img src=\"https://dl.dropboxusercontent.com/u/90219577/Hermon/Physics_Website/Excelling/4m1.PNG\"></center>\n",
    "Although the following video does not match up with the text of this book, it does show how we can determine a vector direction (angle). If you got stuck in the reading above see if this video helps you get back on track.\n",
    "<center><iframe width=\"560\" height=\"315\" src=\"https://www.youtube.com/embed/XMCgtI-ZJvo?list=PLhy-Ne6FAXKYFM-tQsYrm3TxoG2hXt2CZ\" frameborder=\"0\" allowfullscreen></iframe></center>\n",
    "\n",
    "\n",
    "\n",
    "<h2>Embedding Magnitude and Direction</h2>\n",
    "\n",
    "Now we need to embed the resultant magnitude and direction back into the two labels that we set up on our userform. Hopefully, you still remember how to send the userform your calculated output data. If not here are two lines of VBA code that I used. Remember to double click on the \"Add Vectors\" button to open the subroutine. Then you can add in the next two lines of code. I named the labels where I will be embedding the resultant magnitude and direction, <b>\"ResultM\"</b> and <b>\"ResultD\"</b> respectively. You will notice from the code that we will be using the <b>\"Caption\"</b> parameters of the labels. Make sure you are also pulling from the correct cell locations on your Worksheet. Finally, you should also notice that we are formatting this output to the tenths place.\n",
    "\n",
    "<center><img src=\"https://dl.dropboxusercontent.com/u/90219577/Hermon/Physics_Website/Excelling/4z.PNG\"></center>\n"
   ]
  },
  {
   "cell_type": "markdown",
   "metadata": {},
   "source": [
    "## Creating the Graph"
   ]
  },
  {
   "cell_type": "markdown",
   "metadata": {},
   "source": [
    "So, we now need to create a graph that we can embed back into our userform. We are going to add 6 series to our graph. One for each vector being added head to tail and then one for the resultant vector going from the tail of the first vector to the head of the last vector. We will start by making a table for our component vectors in columns F and G. Our first vector will start at the origin so we can enter our first point as (0,0) as seen below:\n",
    "<br>\n",
    "<center><img src=\"https://dl.dropboxusercontent.com/u/90219577/Hermon/Physics_Website/Excelling/4m2.PNG\"></center>\n",
    "<br><br>\n",
    "Our next point will be at the end of the first vector which of course is the i-hat and j-hat of vector 1. So, in cells F4 and G4 we will but =C2 and =D2 respectively.\n",
    "<br>\n",
    "<center><img src=\"https://dl.dropboxusercontent.com/u/90219577/Hermon/Physics_Website/Excelling/4w.PNG\"></center>\n",
    "<br><br>\n",
    "Now as we continue down our chart we want to \"add\" our vectors on to the previous vector. So, you will notice in cell F5 we put the equation, <b>=F4+C3</b> and in cell G5 we put the equation, <b>=G4+D3</b>. We then can drag those equations down 3 more cells. If you did this correctly you will notice that the final cells are the same as the i-hat and j-hat for the resultant.\n",
    "<br>\n",
    "<center><img src=\"https://dl.dropboxusercontent.com/u/90219577/Hermon/Physics_Website/Excelling/4x.PNG\"></center><br>\n",
    "Although the following video does not match up with the text of this book, it does show how we can create the data to make a graph of our vector components. If you got stuck in the reading above see if this video helps you get back on track.\n",
    "<center><iframe width=\"560\" height=\"315\" src=\"https://www.youtube.com/embed/nvlsPAJb6qY?list=PLhy-Ne6FAXKYFM-tQsYrm3TxoG2hXt2CZ\" frameborder=\"0\" allowfullscreen></iframe></center>\n",
    "\n",
    "Finally, in columns I and J, we made a quick chart for the resultant vector. Starting with (0,0) and a second point of (=C7,=D7).\n",
    "<br>\n",
    "<center><img src=\"https://dl.dropboxusercontent.com/u/90219577/Hermon/Physics_Website/Excelling/4y.PNG\"></center>\n",
    "<br><br>\n",
    "Now, that you have your data ready to go, let's build a graph. You can watch the following video to see how to make it.<br>\n",
    "<center><iframe width=\"420\" height=\"315\" src=\"https://www.youtube.com/embed/JQnlrucYrm4\" frameborder=\"0\" allowfullscreen></iframe></center>\n",
    "\n",
    "\n"
   ]
  },
  {
   "cell_type": "markdown",
   "metadata": {},
   "source": [
    "## Embedding the Graph"
   ]
  },
  {
   "cell_type": "markdown",
   "metadata": {},
   "source": [
    "We now need to somehow export the chart we made as an image and then load it into the <b>\"Picture\"</b> parameter of our graph label that we have already added to our userform. We can do this with VBA. This code may look daunting but I think you will be able to understand it if we go through it line by line.\n",
    "<ul>\n",
    "<li><b>Line 1:</b> We set the <b>\"CurrentChart\"</b> to the chart on our Worksheet we want. We have chosen <b>ChartObjects(1).Chart</b> because it's the only chart we've made. If you made another one, you would have to change that code to a (2).</li><br>\n",
    "\n",
    "<li><b>Line 2:</b> We made a variable called, <b>\"Fname\"</b> which stored the pathway address to the .GIF file of the chart that we will be making. The first part of the pathway is called, <b>ThisWorkbook.Path</b> which gives us the pathway address up to wherever the actual workbook is saved. Then we have \"concatenated\" (joined) with the \"&#38;\" sign \"\\temp.gif\" which will be the name of the .GIF file that we will be exporting from the chart.</li><br>\n",
    "\n",
    "<li><b>Line 3:</b> We called the <b>Export</b> method on the <b>CurrentChart</b> and assigned it's Filename.</li><br>\n",
    "\n",
    "<li><b>Line 4:</b> We used the <b>LoadPicture</b> method to load the exported .GIF file into the <b>Picture</b> parameter of our label, which I happened to name <b>\"Vectorgraph\"</b></li>\n",
    "</ul>\n",
    "<br>\n",
    "<center><img src=\"https://dl.dropboxusercontent.com/u/90219577/Hermon/Physics_Website/Excelling/graphembed.PNG\"></center>\n",
    "<br>\n",
    "Once you've thoroughly tested your program and have an impressive GUI, name it according to the following format: firstname_lastname_programtitle.xlsm and upload it to your instructor."
   ]
  },
  {
   "cell_type": "markdown",
   "metadata": {},
   "source": [
    "<table width=\"100%\" cellpadding=\"2\" cellspacing=\"2\">\n",
    "<tr>\n",
    "<td style=\"border: 1px solid white;\" width=\"100px\">\n",
    "<div>\n",
    "<a href=\"http://nbviewer.ipython.org/github/CSP-UHS/Excelling_at_Physics/blob/master/Chapter04.ipynb\"><img src=\"https://dl.dropboxusercontent.com/u/90219577/Hermon/CSE_Website/webdev/leftA.png\"  height=\"50px\" width=\"50px\"></a>\n",
    "</div>\n",
    "</td>\n",
    "<td style=\"border: 1px solid white;\">\n",
    "<div align=\"center\">\n",
    "<a href=\"http://nbviewer.ipython.org/github/CSP-UHS/Excelling_at_Physics/blob/master/Chapter00.ipynb\"><h2>Table of Contents</h2></a>\n",
    "</div>\n",
    "</td>\n",
    "<td style=\"border: 1px solid white;\" width=\"100px\">\n",
    "<div>\n",
    "<a href=\"http://nbviewer.ipython.org/github/CSP-UHS/Excelling_at_Physics/blob/master/Chapter06.ipynb\"><img src=\"https://dl.dropboxusercontent.com/u/90219577/Hermon/CSE_Website/webdev/rightA.png\"  height=\"50px\" width=\"50px\"  align=\"right\"></a>\n",
    "</div>\n",
    "</td>\n",
    "</tr></table>"
   ]
  }
 ],
 "metadata": {
  "kernelspec": {
   "display_name": "Python 2",
   "language": "python",
   "name": "python2"
  },
  "language_info": {
   "codemirror_mode": {
    "name": "ipython",
    "version": 2
   },
   "file_extension": ".py",
   "mimetype": "text/x-python",
   "name": "python",
   "nbconvert_exporter": "python",
   "pygments_lexer": "ipython2",
   "version": "2.7.10"
  }
 },
 "nbformat": 4,
 "nbformat_minor": 0
}
