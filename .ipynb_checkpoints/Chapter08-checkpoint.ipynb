{
 "cells": [
  {
   "cell_type": "markdown",
   "metadata": {},
   "source": [
    "<div align=\"right\">\n",
    "<a href=\"http://nbviewer.ipython.org/github/CSP-UHS/Excelling_at_Physics/blob/master/Chapter00.ipynb\" align=\"right\"><h2>Table of Contents</h2></a>\n",
    "</div>"
   ]
  },
  {
   "cell_type": "markdown",
   "metadata": {},
   "source": [
    "# Chapter 8: Hooke's Law Program"
   ]
  },
  {
   "cell_type": "markdown",
   "metadata": {},
   "source": [
    "## Simple Harmonic Motion"
   ]
  },
  {
   "cell_type": "markdown",
   "metadata": {},
   "source": [
    "<img src=\"http://www.hermonswebsites.com/PyNotebooks/Excelling/7_liss.jpg\" style=\"float: right;\">In this chapter we will make a really cool albeit fairly simple program. Our goal is to build an Oscilloscope simulator that can generate Lissajou patterns from horizontal and vertical input frequencies. In physics we often deal with examples of <b>Simple Harmonic Motion (SHM)</b>. SHM is a <i>\"type of periodic motion or oscillation motion where the restoring force is directly proportional to the displacement and acts in the direction opposite to that of displacement.\"</i> Classic examples of SHM are a mass on a swinging pendulum or a mass on an oscillating spring. Imagine a pendulum attached to a pen swinging back and forth in simple harmonic motion over a moving treadmill of paper as seen below. The result is a sine curve.<br><br>\n",
    "<center><img src=\"http://www.hermonswebsites.com/PyNotebooks/Excelling/7_sandsine.jpg\"></center>\n",
    "<br>\n",
    "We would also get a sine curve for an oscillating mass on a spring as you can see in the image and animation below:\n",
    "\n",
    "<center><img src=\"http://www.hermonswebsites.com/PyNotebooks/Excelling/7_spring2.gif\"></center>\n",
    "\n",
    "<center><img src=\"http://www.hermonswebsites.com/PyNotebooks/Excelling/7_spring1.gif\"></center>\n",
    "\n",
    "The equation for the position of a particle on a sine wave curve is given by the following equation.\n",
    "\n",
    "<center><img src=\"http://www.hermonswebsites.com/PyNotebooks/Excelling/7_sine1.png\"></center>\n",
    "\n",
    "So if we graphed this equation against time we would have a sine curve that would start wherever the phase shift was. If we entered a phase shift of 90 the graph would start at a maximum of +1. If we entered a phase shift of 30, our graph would start at a +.5.\n",
    "\n",
    "An interesting thing occurs if you graph this sine curve against a second sine curve. Notice this second curve will not have a phase shift parameter. \n",
    "\n",
    "<center><img src=\"http://www.hermonswebsites.com/PyNotebooks/Excelling/7_sine2.png\"></center>\n",
    "<br>\n",
    "The differences between the two signals will be different frequencies and the phase shift. When these two equations are graphed against each other we form \"spirograph\" type images called <b>\"Lissajou Figures\"</b>. We can interpret Lissajou patterns we see on an oscilloscope to determine unknown frequencies when we compare it to a known frequency.\n",
    "\n",
    "Here is a really good visualization of how the two sine curves of different frequencies are being graphed to create Lissajou figures. Notice that the vertical input frequency is actually controlling the horizontal component and the horizontal frequency is controlling the vertical component of the Lissajou figure.\n",
    "<center><iframe width=\"560\" height=\"315\" src=\"https://www.youtube.com/embed/aUi8SnGGfG8\" frameborder=\"0\" allowfullscreen></iframe></center>\n",
    "\n",
    "The easiest way to interpret Lissajou figures and determine the ratio between the horizontal and vertical frequencies is to circumscribe the Lissajou pattern with a box. The horizontal signal is related to how many times the pattern touches the side of the box. The vertical signal is related to how many times the pattern touches the top of the box. Notice in the animation below that the pattern touches the side of the box 3 times and the top of the box 2 times. These are not the actual frequencies, rather they describe the RATIO of the frequencies. H:V = 3:2\n",
    "<center><img src=\"http://www.hermonswebsites.com/PyNotebooks/Excelling/7_Lissajousnew.gif\"></center>\n",
    "<br>\n",
    "\n",
    "Below are a couple more examples. In the first example there is 1 point of horizontal tangency and 2 points of vertical tangency so the ratio is:  H:V = 1:2. In the second example there are 5 points of horizontal tangency and 4 points of vertical tangency for a ratio of H:V = 5:4. This is why a simple circle is a 1:1 ratio.\n",
    "<center><table><tr><td><img src=\"http://www.hermonswebsites.com/PyNotebooks/Excelling/7_2-1.png\">\n",
    "</td><td><img src=\"http://www.hermonswebsites.com/PyNotebooks/Excelling/7_5-4.png\">\n",
    "</td></tr></table></center>\n",
    "<br>"
   ]
  },
  {
   "cell_type": "markdown",
   "metadata": {},
   "source": [
    "## Program Parameters"
   ]
  },
  {
   "cell_type": "markdown",
   "metadata": {},
   "source": [
    "<b>INPUTS:</b>\n",
    "<ul>\n",
    "<li>A user can update two frequencies from 0-10 Hz in 1 Hz increments.</li>\n",
    "<li>A user can update teh phase change from 0-360 in 1 degree increments.</li>\n",
    "</ul><br>\n",
    "<b>OUTPUTS:</b>\n",
    "<ul>\n",
    "<li>Graphical output of the Lissajou pattern</li>\n",
    "</ul><br>\n",
    "<b>CRITERIA & CONSTRAINTS:</b>\n",
    "<ul>\n",
    "<li>Your program should have an impressive interface. (colors and graphics)</li>\n",
    "<li>Specify in what units the user is entering data.</li>\n",
    "<li>Make sure your name is printed somewhere on the interface of your program. (ex. \"Hermon's Programming\")</li>\n",
    "<li>When you upload your program name it accordingly: (firstname_lastname_programtitle.xlsm)</li>\n",
    "<li>Make a title for your program at the top of the user window.</li>\n",
    "</ul>"
   ]
  },
  {
   "cell_type": "markdown",
   "metadata": {},
   "source": [
    "Here is a video of a Oscilloscope Excel Program in action.\n",
    "<br>\n",
    "<center><iframe width=\"560\" height=\"315\" src=\"https://www.youtube.com/embed/z9xLK5dlVGM\" frameborder=\"0\" allowfullscreen></iframe></center>"
   ]
  },
  {
   "cell_type": "markdown",
   "metadata": {},
   "source": [
    "<table width=\"100%\" cellpadding=\"2\" cellspacing=\"2\">\n",
    "<tr>\n",
    "<td style=\"border: 1px solid white;\" width=\"100px\">\n",
    "<div>\n",
    "<a href=\"http://nbviewer.ipython.org/github/CSP-UHS/Excelling_at_Physics/blob/master/Chapter07.ipynb\"><img src=\"http://www.hermonswebsites.com/PyNotebooks/Excelling/leftA.png\"  height=\"50px\" width=\"50px\"></a>\n",
    "</div>\n",
    "</td>\n",
    "<td style=\"border: 1px solid white;\">\n",
    "<div align=\"center\">\n",
    "<a href=\"http://nbviewer.ipython.org/github/CSP-UHS/Excelling_at_Physics/blob/master/Chapter00.ipynb\"><h2>Table of Contents</h2></a>\n",
    "</div>\n",
    "</td>\n",
    "<td style=\"border: 1px solid white;\" width=\"100px\">\n",
    "<div>\n",
    "<a href=\"http://nbviewer.ipython.org/github/CSP-UHS/Excelling_at_Physics/blob/master/Chapter09.ipynb\"><img src=\"http://www.hermonswebsites.com/PyNotebooks/Excelling/rightA.png\"  height=\"50px\" width=\"50px\"  align=\"right\"></a>\n",
    "</div>\n",
    "</td>\n",
    "</tr></table>"
   ]
  }
 ],
 "metadata": {
  "kernelspec": {
   "display_name": "Python 2",
   "language": "python",
   "name": "python2"
  },
  "language_info": {
   "codemirror_mode": {
    "name": "ipython",
    "version": 2
   },
   "file_extension": ".py",
   "mimetype": "text/x-python",
   "name": "python",
   "nbconvert_exporter": "python",
   "pygments_lexer": "ipython2",
   "version": "2.7.10"
  }
 },
 "nbformat": 4,
 "nbformat_minor": 0
}
