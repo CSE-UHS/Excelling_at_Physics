{
 "cells": [
  {
   "cell_type": "markdown",
   "metadata": {},
   "source": [
    "<div align=\"right\">\n",
    "<a href=\"http://nbviewer.ipython.org/github/CSP-UHS/Excelling_at_Physics/blob/master/Chapter00.ipynb\" align=\"right\"><h2>Table of Contents</h2></a>\n",
    "</div>"
   ]
  },
  {
   "cell_type": "markdown",
   "metadata": {},
   "source": [
    "# Chapter 8: Spring Energy"
   ]
  },
  {
   "cell_type": "markdown",
   "metadata": {},
   "source": [
    "## The Physics Explanation"
   ]
  },
  {
   "cell_type": "markdown",
   "metadata": {},
   "source": [
    "<img src=\"http://www.hermonswebsites.com/PyNotebooks/Excelling/8_spring.gif\" style=\"float: right;\">In this chapter we will examine the conservation of energy within the harmonic motion of an oscillating spring. A user will enter only two inputs: the elasticity constant (k) of a spring and the mass (kg) that is oscillating on the spring. The maximum velocity of the mass and the period of the oscillation will be the two outputs. We also will be able to click a spinner button to lower and raise the spring. When this happens we will see the conservation of energy in a bar graph.\n",
    "\n",
    "When the given mass is hung on the spring it stretches down to a rest position. By using the following equation for the elasticity constant we can rearrange and solve for the distance the spring will be stretched. We will have to first convert the mass to weight (force).\n",
    "<center><img src=\"http://www.hermonswebsites.com/PyNotebooks/Excelling/Eqt8-5.png\"></center>\n",
    "<center><img src=\"http://www.hermonswebsites.com/PyNotebooks/Excelling/Eqt8-6.png\"></center>\n",
    "This will be the half-way point if the mass was dropped. It will also be the location where the velocity of the falling mass will be a maximum. At this point the Gravitational Potential Energy (GPE) will be 1/2 as much as the total energy (TE) and the rest of the energy will be split evenly between Elastic Potential Energy (EPE) and the Kinetic Energy (KE). So according to the following derivation we will be able to calculate the maximum velocity and output it onto the userform.\n",
    "<center><img src=\"http://www.hermonswebsites.com/PyNotebooks/Excelling/Eqt8-8.png\"></center>\n",
    "\n",
    "We also can very simply calculate the Period (T) of oscillation for the mass and output it onto the userform using the following equation:\n",
    "<center><img src=\"http://www.hermonswebsites.com/PyNotebooks/Excelling/Eqt8-7.png\"></center>\n",
    "\n",
    "\n",
    "\n",
    "To get the entire height that the mass will fall we will multiply the distance we calculated earlier by 2. When the mass is first dropped all of the energy is in the form of GPE. The spring has not been stretched at all and the mass is not moving. Once the mass starts falling, the GPE will decrease because it is losing height. The KE will increase because the mass is gaining velocity. The EPE will also increase because the spring is being stretched. \n",
    "<center><img src=\"http://www.hermonswebsites.com/PyNotebooks/Excelling/Eqt8-2.png\"></center>\n",
    "\n",
    "At the midpoint, the GPE will be 1/2 of what it was and the EPE and the KE will be equal. The KE will be at a maximum because at this point the mass will have its maximum velocity.\n",
    "\n",
    "<center><img src=\"http://www.hermonswebsites.com/PyNotebooks/Excelling/Eqt8-1.png\"></center>\n",
    "At the bottom, the GPE will now be zero. Since the mass is no longer moving the KE will also be zero. The EPE will be at its maximum since the spring is stretched the entire distance.\n",
    "<center><img src=\"http://www.hermonswebsites.com/PyNotebooks/Excelling/Eqt8-3.png\"></center>\n",
    "\n",
    "At any point along the oscillation of the mass, the total energy will not change according the following conservation law. At the top, the total energy is all GPE and at the bottom it is all EPE.\n",
    "<center><img src=\"http://www.hermonswebsites.com/PyNotebooks/Excelling/Eqt8-4.png\"></center>"
   ]
  },
  {
   "cell_type": "markdown",
   "metadata": {},
   "source": [
    "## Program Parameters"
   ]
  },
  {
   "cell_type": "markdown",
   "metadata": {},
   "source": [
    "<b>INPUTS:</b>\n",
    "<ul>\n",
    "<li>A user can update a mass of 1-10 kg by 1 kg increments.</li>\n",
    "<li>A user can update the elastic constant (k) of 1-100 N/m by increments of 5</li>\n",
    "</ul><br>\n",
    "<b>OUTPUTS:</b>\n",
    "<ul>\n",
    "<li>Graphical output of Total Energy, GPE, EPE and KE.</li>\n",
    "<li>Graphical output of the spring position.</li>\n",
    "<li>The period of oscillation will be printed on the screen.</li>\n",
    "<li>The maximum velocity will be printed on the screen.</li>\n",
    "</ul><br>\n",
    "<b>CRITERIA & CONSTRAINTS:</b>\n",
    "<ul>\n",
    "<li>An up-down spinner will update the graph to show the energy conversion.</li>\n",
    "<li>Your program should have an impressive interface. (colors and graphics)</li>\n",
    "<li>Specify in what units the user is entering data.</li>\n",
    "<li>Make sure your name is printed somewhere on the interface of your program. (ex. \"Hermon's Programming\")</li>\n",
    "<li>When you upload your program name it accordingly: (firstname_lastname_programtitle.xlsm)</li>\n",
    "<li>Make a title for your program at the top of the user window.</li>\n",
    "</ul>"
   ]
  },
  {
   "cell_type": "markdown",
   "metadata": {},
   "source": [
    "Here is a video of a Spring Energy Excel Program in action.\n",
    "<br>\n",
    "<center><iframe width=\"800\" height=\"600\" src=\"https://www.youtube.com/embed/d58NLGsHTZ0?rel=0&amp;showinfo=0\" frameborder=\"0\" allowfullscreen></iframe></center>"
   ]
  },
  {
   "cell_type": "markdown",
   "metadata": {},
   "source": [
    "## Spreadsheet Calculations"
   ]
  },
  {
   "cell_type": "markdown",
   "metadata": {},
   "source": [
    "<img src=\"http://www.hermonswebsites.com/PyNotebooks/Excelling/8-table.JPG\">\n",
    "\n",
    "In cells <b>E3</b> and <b>F3</b> we will be entering our mass and elasticity constant that the user entered into the userform. We will look at that code later. For now just enter 10 as the mass and 25 as the elasticity. In cell <b>G3</b> enter the gravity. In cell <b>H3</b> we will calculate the weight (force) of the mass like this: <b>=E3*G3</b>\n",
    "\n",
    "In cell <b>I3</b>, we will calculate what I will call the rest distance or the distance the spring will be stretched if the mass is hanging on it. We can calculate this by dividing the force by the elasticity constant. It will look like this: <b>=H3/F3</b>\n",
    "\n",
    "In cell <b>J3</b>, we will calculate the entire distance the mass will travel downward if placed on the spring and dropped. This will be twice the rest distance so it will look like this: <b>=I3*2</b>\n",
    "\n",
    "Finally, we are going to want to see how the energy conservation graphs change as the mass drops, so we are going to take the total distance and divide it up into 10 increments. We will do this in <b>K3</b> like this: <b>=J3/10</b>\n",
    "\n",
    "<img src=\"http://www.hermonswebsites.com/PyNotebooks/Excelling/8-velocity.JPG\">\n",
    "\n",
    "Next, we will calculate the maximum velocity in cell <b>J7</b> as seen above. This is using the derived equation below:\n",
    "<img src=\"http://www.hermonswebsites.com/PyNotebooks/Excelling/Eqt8-8.png\">\n",
    "We also want to calculate the period of the oscillating spring in cell K7 as seen below:\n",
    "<img src=\"http://www.hermonswebsites.com/PyNotebooks/Excelling/8-period.JPG\">\n",
    "As you can see we used the period equation:\n",
    "<img src=\"http://www.hermonswebsites.com/PyNotebooks/Excelling/Eqt8-7.png\">\n",
    "\n",
    "We will want to print both the period and velocity back on the userform with VBA code. We will do that later.\n",
    "\n",
    "Finally, we want to set up the data for our graph. We will do this based on the distance that the spring is being stretched and the height that the mass is falling from. These distance are of course, related to each other.\n",
    "In cell <b>C8</b> for the height that the mass will be following we can go ahead and enter any height between 0 and the total distance. It doesn't matter what we enter in here right now because we will be changing this value with a spinner on the userform anyway. For now let's enter a height of 3.6. "
   ]
  },
  {
   "cell_type": "markdown",
   "metadata": {},
   "source": [
    "<table width=\"100%\" cellpadding=\"2\" cellspacing=\"2\">\n",
    "<tr>\n",
    "<td style=\"border: 1px solid white;\" width=\"100px\">\n",
    "<div>\n",
    "<a href=\"http://nbviewer.ipython.org/github/CSP-UHS/Excelling_at_Physics/blob/master/Chapter07.ipynb\"><img src=\"http://www.hermonswebsites.com/PyNotebooks/Excelling/leftA.png\"  height=\"50px\" width=\"50px\"></a>\n",
    "</div>\n",
    "</td>\n",
    "<td style=\"border: 1px solid white;\">\n",
    "<div align=\"center\">\n",
    "<a href=\"http://nbviewer.ipython.org/github/CSP-UHS/Excelling_at_Physics/blob/master/Chapter00.ipynb\"><h2>Table of Contents</h2></a>\n",
    "</div>\n",
    "</td>\n",
    "<td style=\"border: 1px solid white;\" width=\"100px\">\n",
    "<div>\n",
    "<a href=\"http://nbviewer.ipython.org/github/CSP-UHS/Excelling_at_Physics/blob/master/Chapter09.ipynb\"><img src=\"http://www.hermonswebsites.com/PyNotebooks/Excelling/rightA.png\"  height=\"50px\" width=\"50px\"  align=\"right\"></a>\n",
    "</div>\n",
    "</td>\n",
    "</tr></table>"
   ]
  }
 ],
 "metadata": {
  "kernelspec": {
   "display_name": "Python 2",
   "language": "python",
   "name": "python2"
  },
  "language_info": {
   "codemirror_mode": {
    "name": "ipython",
    "version": 2
   },
   "file_extension": ".py",
   "mimetype": "text/x-python",
   "name": "python",
   "nbconvert_exporter": "python",
   "pygments_lexer": "ipython2",
   "version": "2.7.10"
  }
 },
 "nbformat": 4,
 "nbformat_minor": 0
}
