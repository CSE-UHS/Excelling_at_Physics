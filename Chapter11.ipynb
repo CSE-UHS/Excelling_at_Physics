{
 "cells": [
  {
   "cell_type": "markdown",
   "metadata": {
    "deletable": true,
    "editable": true
   },
   "source": [
    "<div align=\"right\">\n",
    "<a href=\"http://nbviewer.ipython.org/github/CSP-UHS/Excelling_at_Physics/blob/master/Chapter00.ipynb\" align=\"right\"><h2>Table of Contents</h2></a>\n",
    "</div>"
   ]
  },
  {
   "cell_type": "markdown",
   "metadata": {
    "deletable": true,
    "editable": true
   },
   "source": [
    "# Project 9: Interference"
   ]
  },
  {
   "cell_type": "markdown",
   "metadata": {
    "deletable": true,
    "editable": true
   },
   "source": [
    "## The Physics Explanation"
   ]
  },
  {
   "cell_type": "markdown",
   "metadata": {
    "deletable": true,
    "editable": true
   },
   "source": [
    "<p><img src=\"http://www.hermonswebsites.com/PyNotebooks/Excelling/11_interference.jpeg\" style=\"float: right;\">When light goes through small openings, new wavelets begin again at each opening and these waves can interfere with each other. Wherever crests hit each other they make lines of maximum displacement called <b>antinodal lines</b>. Wherever crests hit troughs they cancel each other out and form <b>nodal lines</b>. If projected on a wall, the ends of antinodal lines will show up as bright spots and the ends of nodal lines will be dark spots.</p>\n",
    "\n",
    "<p>If a wave that comes through the right opening interferes with a wave that comes through the left opening one wavelength later, their antinodal line will point more to the left. We call this a 1st order image. If the wave is two wavelengths behind the antinodal line will point even more to the left and created a 2nd order image. The order is given by the letter (n).</p>\n",
    "\n",
    "<p>From the geometry below we can derive an interference equation that relates the width of the opening <b>(d)</b>, the wavelength of the incoming light <b>(&lambda;)</b>, the order <b>(n)</b> and the diffraction angle <b>(&Theta;)</b> at which the antinodal line is displaced from straight forward.</p>\n",
    "<center><img src=\"http://www.hermonswebsites.com/PyNotebooks/Excelling/11-formula.jpg\"></center>\n",
    "<center><img src=\"http://www.hermonswebsites.com/PyNotebooks/Excelling/11-geo.jpg\"></center>\n",
    "\n",
    "<p>Another way to calculate the angle is according to the following geomety where x is the distance from the zeroeth order over to whichever order we are measuring to and L is the distance from the openings to the display wall. In our program we are going to assume that the display wall is one meter away so that the <b>tan &Theta; = x</b>.</p>\n",
    "<center><img src=\"http://www.hermonswebsites.com/PyNotebooks/Excelling/11-orders.jpg\"></center>\n",
    "\n",
    "<h3>Practice Problems</h3>\n",
    "\n",
    "<p>Before we try to create the Excel program we probably need to practice some interference math problems.</p>\n",
    "\n",
    "<p><b> Problem 1: A diffraction grating is ruled with 6500 lines/cm. The grating produces a 2nd order image of a monochromatic light source at a diffraction angle of 55.0˚. Calculate the wavelength of the light source in nanometers?</b></p>\n",
    "\n",
    "<p>To solve this problem we first need to determine <b>d</b>, which is the distance BETWEEN two lines in a diffraction grating.</p>\n",
    "<h3><center> So...  d = 1/6500 = 1.54 x 10<sup>-4</sup> cm</center></h3>\n",
    "<p>Now using the first wavelength equation above we have...</p>\n",
    "<h3><center> &lambda; = [(1.54 x 10<sup>-4</sup>)*sin(55)] / 2 = 6.31 x 10<sup>-5</sup> cm</center></h3>\n",
    "<p>Now we convert the wavelength to nanometers using the conversion 1 cm = 1 x 10<sup>7</sup> nm</p>\n",
    "<h3><center> &lambda; = (6.31 x 10<sup>-5</sup>)(1 x 10<sup>7</sup>) = 631 nm</center></h3>\n",
    "\n",
    "<p><b> Problem 2: When 500.0 nm light is shone through a diffraction grating the distance from one 3rd order image to the other 3rd order image on the display wall is 30.0 cm. If the distance from the grating to the projection screen is 2.0 meters what is the diffraction grating in lines/inch?</b></p>\n",
    "\n",
    "<p>To solve this problem we first need to determine <b>&Theta;</b>. <b>(x)</b> is the distance on the display wall from the zeroeth order to the 3rd order so it would only be 15.0 cm or 0.15 meters.</p>\n",
    "<h3><center> So...  tan&Theta; = x/L = 0.15/2 = 0.075</center></h3>\n",
    "<h3><center> And then...  tan<sup>-1</sup>(0.075) = 4.3˚</center></h3>\n",
    "<p>This time we want to rearrange the interference equation and solve for d! Below we already converted the wavelength into centimeters.</p>\n",
    "<h3><center> d = n&lambda;/sin&Theta;</center></h3>\n",
    "<h3><center> d = [(3)*(5.00 x 10<sup>-5</sup>)] / sin(4.3˚) = 2.00 x 10<sup>-3</sup> cm</center></h3>\n",
    "<p>Now we convert (d) using the conversion 1 inch = 2.54 cm</p>\n",
    "<h3><center> d = (2.00 x 10<sup>-3</sup>)/(2.54) = 7.87 x 10<sup>-4</sup> inches</center></h3>\n",
    "<p>The problem, however, does not ask for (d). It asks for the diffraction grating in lines/inch, so...</p>\n",
    "<h3><center> diffraction grating = 1/(7.87 x 10<sup>-4</sup>) = 1270 lines/inch</center></h3>\n",
    "\n"
   ]
  },
  {
   "cell_type": "markdown",
   "metadata": {
    "deletable": true,
    "editable": true
   },
   "source": [
    "## Program Parameters"
   ]
  },
  {
   "cell_type": "markdown",
   "metadata": {
    "deletable": true,
    "editable": true
   },
   "source": [
    "<b>INPUTS:</b>\n",
    "<ul>\n",
    "<li>A user can spin a button up or down to change the diffraction grating from 1000 to 3000 lines/inch in increments of 50.</li>\n",
    "<li>A user can also spin a button up or down to change the wavelength of incident light from 400 to 740 nm in increments of 10.</li>\n",
    "</ul><br>\n",
    "<b>OUTPUTS:</b>\n",
    "<ul>\n",
    "<li>A graphical diagram of antinodal lines will be displayed.</li>\n",
    "<li>The color of the graphical display will change colors for various wavelength intervals. The colors to be used are blue, green, yellow, orange and red.</li>\n",
    "</ul><br>\n",
    "<b>CRITERIA & CONSTRAINTS:</b>\n",
    "<ul>\n",
    "<li>Your x-axis should be set at a max of 50 and a min of -50.</li>\n",
    "<li>You will show orders of 1-5.</li>\n",
    "<li>Color ranges are: Blue (400-526), Green (526-577), Yellow (577-600), Orange (600-668) and Red (668-740)\n",
    "<li>Make sure your name is printed somewhere on the interface of your program. (ex. \"Hermon's Programming\")</li>\n",
    "<li>When you upload your program name it accordingly: (firstname_lastname_programtitle.xlsm)</li>\n",
    "<li>Make a title for your program at the top of the user window.</li>\n",
    "</ul>"
   ]
  },
  {
   "cell_type": "markdown",
   "metadata": {
    "deletable": true,
    "editable": true
   },
   "source": [
    "Here is a video of an Interference Excel Program in action.\n",
    "<br>\n",
    "<center><iframe width=\"800\" height=\"600\" src=\"https://www.youtube.com/embed/_ZRArypr8xo\" frameborder=\"0\" allowfullscreen></iframe></center>"
   ]
  },
  {
   "cell_type": "markdown",
   "metadata": {
    "deletable": true,
    "editable": true
   },
   "source": [
    "## Spreadsheet Calculations"
   ]
  },
  {
   "cell_type": "markdown",
   "metadata": {
    "deletable": true,
    "editable": true
   },
   "source": [
    "\n",
    "<p>For this program I would suggest making a copy of the Oscilloscope program since we will again be using some spin buttons. Save two of the spin buttons and corresponding labels and also save the image object so we will be able to embed our graphic. I renamed my spinners <b>D_spin</b> and <b>W_spin</b>. I renamed the relative labels <b>Diffraction</b> and <b>Wavelength</b>. I accidentally forgot to rename my image so it it still named <b>Liss</b>. That's bad programming. I should have named it something like <b>I_pattern</b>.</p> \n",
    "\n",
    "<p>The first thing we will do on the spreadsheet is to establish our starting diffraction grating and wavelength. Whatever the user spins the <b>D_spin</b> and <b>W_spin</b> buttons to on the userform will be sent to these cells.</p> \n",
    "\n",
    "<center><img src=\"http://www.hermonswebsites.com/PyNotebooks/Excelling/11-userentry.jpg\"></center><br>\n",
    "\n",
    "<p>In cell E4 we calculate <b>(d)</b> and then convert it to meters.</p> \n",
    "\n",
    "<center><img src=\"http://www.hermonswebsites.com/PyNotebooks/Excelling/11-grating.jpg\"></center>\n",
    "\n",
    "<p>In cell F4 we convert the wavelength in cell C2 from nm to meters.</p>\n",
    "<center><img src=\"http://www.hermonswebsites.com/PyNotebooks/Excelling/11-wavelength.jpg\"></center>\n",
    "\n",
    "<p>Next, is the tricky part...setting up the data table to make the interference display. In the first column, we will list the orders, starting with -5 and going to +5. We will leave a blank in between each order. We will have one (x) column and five (y) columns. Each (y) column will be a different color. </p>\n",
    "<center><img src=\"http://www.hermonswebsites.com/PyNotebooks/Excelling/11-table1.jpg\"></center>\n",
    "\n",
    "<p>To draw the antinodal lines in one continuous line we will need to start at the -5th order and draw up to the diffraction grating point source. Then draw down to the -4th order and then back up to the point source. We continue this until we are at the +5th order.</p>\n",
    "\n",
    "<p>For our x column we need to determine how far over from the zeroeth order we are. We will first try to determine the diffraction angle with the following equation:</p>\n",
    "<h3><center>sin&Theta; = n&lambda;/d</center></h3> \n",
    "<p>We can then take the Arcsine of this to determine the angle. Finally, since we are pretending to be 1.0 meter away from the diffraction grating, we can simply take the tan&Theta; to determine the x value. This will be in meters so we will multiply by 100 to measure the x value in centimeters. We can drag this equation down the column. Since we left blanks between the orders, every other line will be a zero which is what we want.</p>\n",
    "<center><img src=\"http://www.hermonswebsites.com/PyNotebooks/Excelling/11-x.jpg\"></center>\n",
    "\n",
    "<p>Now in the first (y) column in the first cell we are going to see if the wavelength in F4 falls within the red range. If it does we will print a zero. If it doesn't we will print a \"NA()\". In the second cell we will do the same thing but print a 1 if it is true. The IF-AND statements look like the following:</p>\n",
    "\n",
    "<p><b>Red column...</b></p>\n",
    "<p><center><b>=IF(AND(\\$F\\$4&lt;0.000000801,\\$F\\$4&gt;=0.000000668),0,NA( ))<br>=IF(AND(\\$F\\$4&lt;0.000000801,\\$F\\$4&gt;=0.000000668),1,NA( ))</b></center></p> \n",
    "\n",
    "<p>When you highlight these first two cells and drag them down, if the wavelength is within the red range you will see 0,1,0,1,0...all the way down the column. If not you will see #N/A all the way down the column. This is good because the only graph that will show up will be the colored lines that we want. Below are the IF-AND statements for the rest of the (y) columns.</p>\n",
    "\n",
    "<p><b>Orange column...</b></p>\n",
    "<p><center><b>=IF(AND(\\$F\\$4&lt;0.000000668,\\$F\\$4&gt;=0.000000600),0,NA( ))<br>=IF(AND(\\$F\\$4&lt;0.000000668,\\$F\\$4&gt;=0.000000600),1,NA( ))</b></center></p> \n",
    "\n",
    "<p><b>Yellow column...</b></p>\n",
    "<p><center><b>=IF(AND(\\$F\\$4&lt;0.000000600,\\$F\\$4&gt;=0.000000577),0,NA( ))<br>=IF(AND(\\$F\\$4&lt;0.000000600,\\$F\\$4&gt;=0.000000577),1,NA( ))</b></center></p> \n",
    "\n",
    "<p><b>Green column...</b></p>\n",
    "<p><center><b>=IF(AND(\\$F\\$4&lt;0.000000577,\\$F\\$4&gt;=0.000000526),0,NA( ))<br>=IF(AND(\\$F\\$4&lt;0.000000577,\\$F\\$4&gt;=0.000000526),1,NA( ))</b></center></p> \n",
    "\n",
    "<p><b>Blue column...</b></p>\n",
    "<p><center><b>=IF(AND(\\$F\\$4&lt;0.000000526,\\$F\\$4&gt;=0.000000400),0,NA( ))<br>=IF(AND(\\$F\\$4&lt;0.000000526,\\$F\\$4&gt;=0.000000400),1,NA( ))</b></center></p> \n",
    "\n",
    "<p>Depending on the wavelength only one column should have the 0,1,0,1,0...pattern down the column. That will be the only column versus the (x) column that will show up in the graph. Highlight the entire table from cell D7 down to I27 and Insert Scatter Plot with straight lines and markers. Delete the title, vertical axis, horizontal gridlines and vertical gridlines. Change the background and border of the chart to black. In the legend click on each Series and change the Fill and Border to the correct color. Click on the x-axis and then the histogram \"Axis Options\" symbol. Set the Minimum to -50 and the Maximum to +50. Change the wavelength in cell C2 to make sure the graph displays all the colors correctly depending on the wavelength. If it is working then delete the legend.</p>\n"
   ]
  },
  {
   "cell_type": "markdown",
   "metadata": {
    "deletable": true,
    "editable": true
   },
   "source": [
    "## Coding the GUI\n",
    "\n",
    "\n",
    "<p>The VBA code is pretty straight forward and by now you should be able to do this by yourself. Remember, it's important to know the names you gave to the objects (labels and spinners) on your userform so you can reference them in your VBA code. Let's examine the first block of code.</p>\n",
    "<center><img src=\"http://www.hermonswebsites.com/PyNotebooks/Excelling/11-initialize.jpg\"></center>\n",
    "\n",
    "<p>In this first subroutine we write code that will execute when the userform is \"initialized\" or first opened. We first enter into the <b>Caption</b> properties of our <b>Diffraction</b> and <b>Wavelength</b> labels on our userform whatever values are on our spreadsheet. We also pre-load our graph into our <b>Picture</b> property of the <b>Liss</b> image on the userform. Next we want to program the <b>D_Spin</b> spinner...</p>\n",
    "<center><img src=\"http://www.hermonswebsites.com/PyNotebooks/Excelling/11-Dspin.jpg\"></center>\n",
    "\n",
    "<p><b>D_spin_SpinDown( )</b></p>\n",
    "<p>If the <b>Caption</b> property of the <b>Diffraction</b> label is greater than 1000 we will subract 50 from it whenever the SpinDown button is clicked. We also add the new <b>Caption</b> to our spreadsheet and load the graph again. We then end the IF statement with an <b>End If</b>.</p>\n",
    "<p><b>D_spin_SpinUp( )</b></p>\n",
    "<p>If the <b>Caption</b> property of the <b>Diffraction</b> label is less than 3000 we will add 50 to it whenever the SpinUp button is clicked. We again add the new <b>Caption</b> to our spreadsheet and load the graph again. We then end the IF statement with an <b>End If</b>.</p>\n",
    "\n",
    "<center><img src=\"http://www.hermonswebsites.com/PyNotebooks/Excelling/11-Wspin.jpg\"></center>\n",
    "<p><b>W_spin_SpinDown( )</b></p>\n",
    "<p>If the <b>Caption</b> property of the <b>Wavelength</b> label is greater than 400 we will subract 10 from it whenever the SpiinDown button is clicked. We also add the new <b>Caption</b> to our spreadsheet and load the graph again. We then end the IF statement with an <b>End If</b>.</p>\n",
    "<p><b>W_spin_SpinUp( )</b></p>\n",
    "<p>If the <b>Caption</b> property of the <b>Wavelength</b> label is less than 740 we will add 10 to it whenever the SpinUp button is clicked. We again add the new <b>Caption</b> to our spreadsheet and load the graph again. We then end the IF statement with an <b>End If</b>.</p>\n",
    "\n",
    "<p>Hopefully, when you run your program you can quickly see what happens to the interference pattern as you increase the diffraction grating or increase the incident wavelength.</p>\n"
   ]
  },
  {
   "cell_type": "markdown",
   "metadata": {
    "deletable": true,
    "editable": true
   },
   "source": [
    "<table width=\"100%\" cellpadding=\"2\" cellspacing=\"2\">\n",
    "<tr>\n",
    "<td style=\"border: 1px solid white;\" width=\"100px\">\n",
    "<div>\n",
    "<a href=\"http://nbviewer.ipython.org/github/CSP-UHS/Excelling_at_Physics/blob/master/Chapter10.ipynb\"><img src=\"http://www.hermonswebsites.com/PyNotebooks/Excelling/leftA.png\"  height=\"50px\" width=\"50px\"></a>\n",
    "</div>\n",
    "</td>\n",
    "<td style=\"border: 1px solid white;\">\n",
    "<div align=\"center\">\n",
    "<a href=\"http://nbviewer.ipython.org/github/CSP-UHS/Excelling_at_Physics/blob/master/Chapter00.ipynb\"><h2>Table of Contents</h2></a>\n",
    "</div>\n",
    "</td>\n",
    "<td style=\"border: 1px solid white;\" width=\"100px\">\n",
    "<div>\n",
    "<a href=\"http://nbviewer.ipython.org/github/CSP-UHS/Excelling_at_Physics/blob/master/Chapter12.ipynb\"><img src=\"http://www.hermonswebsites.com/PyNotebooks/Excelling/rightA.png\"  height=\"50px\" width=\"50px\"  align=\"right\"></a>\n",
    "</div>\n",
    "</td>\n",
    "</tr></table>"
   ]
  }
 ],
 "metadata": {
  "kernelspec": {
   "display_name": "Python 3",
   "language": "python",
   "name": "python3"
  },
  "language_info": {
   "codemirror_mode": {
    "name": "ipython",
    "version": 3
   },
   "file_extension": ".py",
   "mimetype": "text/x-python",
   "name": "python",
   "nbconvert_exporter": "python",
   "pygments_lexer": "ipython3",
   "version": "3.5.2"
  }
 },
 "nbformat": 4,
 "nbformat_minor": 0
}
