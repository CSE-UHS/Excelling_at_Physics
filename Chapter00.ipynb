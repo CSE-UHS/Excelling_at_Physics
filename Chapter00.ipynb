{
 "cells": [
  {
   "cell_type": "markdown",
   "metadata": {},
   "source": [
    "<table border: solid black 0px; cellpadding=\"2\" width=\"100%\"><tr><td><br><center><font size=\"+5\" color=\"black\"><b><font color=\"green\"><b>EXCEL</b></font>ling at Physics</b></font></center><br><br><br><br><div align=\"left\"><b>Instructor:</b> Marc Hermon<br>Urbandale High School<br><a href=\"http://EngineeringU.com\">EngineeringU.com</a></div></td><td><center><img src=\"https://dl.dropboxusercontent.com/u/90219577/Hermon/Physics_Website/Excelling/excel.png\" height=\"100\" width=\"100\"></center></td></tr></table>"
   ]
  },
  {
   "cell_type": "markdown",
   "metadata": {},
   "source": [
    "<table border=\"0\" cellpadding=\"2\" width=\"100%\">\n",
    "<tr>\n",
    "<td style=\"vertical-align:top\">\n",
    "<font size=\"+1\">\n",
    "<a href=\"http://nbviewer.ipython.org/github/CSP-UHS/Excelling_at_Physics/blob/master/Chapter01.ipynb\">Chapter 01: Introduction to VBA</a>\n",
    "<br>\n",
    "&nbsp;&nbsp;&nbsp;&nbsp;&nbsp;&nbsp;&nbsp;&nbsp;What is VBA?\n",
    "<br>\n",
    "&nbsp;&nbsp;&nbsp;&nbsp;&nbsp;&nbsp;&nbsp;&nbsp;Adding the Developer Toolbar\n",
    "<br>\n",
    "&nbsp;&nbsp;&nbsp;&nbsp;&nbsp;&nbsp;&nbsp;&nbsp;Disabling Macro-Security\n",
    "<br>\n",
    "&nbsp;&nbsp;&nbsp;&nbsp;&nbsp;&nbsp;&nbsp;&nbsp;VBA Editor\n",
    "<br>\n",
    "&nbsp;&nbsp;&nbsp;&nbsp;&nbsp;&nbsp;&nbsp;&nbsp;Adding a Subroutine\n",
    "<br>\n",
    "&nbsp;&nbsp;&nbsp;&nbsp;&nbsp;&nbsp;&nbsp;&nbsp;Save as Macro-Enabled\n",
    "<br><br>\n",
    "<a href=\"http://nbviewer.ipython.org/github/CSP-UHS/Excelling_at_Physics/blob/master/Chapter02.ipynb\">Chapter 02: Userforms</a>\n",
    "<br>\n",
    "&nbsp;&nbsp;&nbsp;&nbsp;&nbsp;&nbsp;&nbsp;&nbsp;Creating a Userform\n",
    "<br>\n",
    "&nbsp;&nbsp;&nbsp;&nbsp;&nbsp;&nbsp;&nbsp;&nbsp;Adding a Command Button\n",
    "<br>\n",
    "&nbsp;&nbsp;&nbsp;&nbsp;&nbsp;&nbsp;&nbsp;&nbsp;Adding a Textbox\n",
    "<br>\n",
    "&nbsp;&nbsp;&nbsp;&nbsp;&nbsp;&nbsp;&nbsp;&nbsp;Adding a Label\n",
    "<br>\n",
    "&nbsp;&nbsp;&nbsp;&nbsp;&nbsp;&nbsp;&nbsp;&nbsp;Coding the Command Button\n",
    "<br>\n",
    "&nbsp;&nbsp;&nbsp;&nbsp;&nbsp;&nbsp;&nbsp;&nbsp;Launching a Userform\n",
    "<br>\n",
    "&nbsp;&nbsp;&nbsp;&nbsp;&nbsp;&nbsp;&nbsp;&nbsp;Closing a Userform\n",
    "<br><br>\n",
    "<a href=\"http://nbviewer.ipython.org/github/CSP-UHS/Web-Development/blob/master/Chapter03.ipynb\">Chapter 03: Grade Calculator</a>\n",
    "\n",
    "</td>\n",
    "\n",
    "<td style=\"vertical-align:top\">\n",
    "</td></tr></table>"
   ]
  }
 ],
 "metadata": {
  "kernelspec": {
   "display_name": "Python 2",
   "language": "python",
   "name": "python2"
  },
  "language_info": {
   "codemirror_mode": {
    "name": "ipython",
    "version": 2
   },
   "file_extension": ".py",
   "mimetype": "text/x-python",
   "name": "python",
   "nbconvert_exporter": "python",
   "pygments_lexer": "ipython2",
   "version": "2.7.10"
  }
 },
 "nbformat": 4,
 "nbformat_minor": 0
}
