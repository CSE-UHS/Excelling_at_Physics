{
 "cells": [
  {
   "cell_type": "markdown",
   "metadata": {},
   "source": [
    "<center><font size=\"+5\" color=\"black\"><b><font color=\"green\"><b>EXCEL</b></font>-ling at Physics</b></font></center><br><div align=\"right\"><b>Contact: <a href=\"mailto:hermonm@urbandaleschools.com\">Marc Hermon</a></b><br>Urbandale High School</div>"
   ]
  },
  {
   "cell_type": "markdown",
   "metadata": {
    "canopy_exercise": {
     "cell_type": "<None>"
    },
    "slideshow": {
     "slide_type": "-"
    }
   },
   "source": [
    "\n",
    "<img src=\"http://www.hermonswebsites.com/PyNotebooks/Excelling/cover1a.png\" width=\"50px\" height=\"50px\">\n",
    "<center><a href=\"http://nbviewer.ipython.org/github/CSP-UHS/Excelling_at_Physics/blob/master/Chapter01.ipynb\"><font size=\"+1\">Chapter 01: Introduction to VBA</font></a></center><br>\n",
    "\n",
    "<img src=\"http://www.hermonswebsites.com/PyNotebooks/Excelling/cover2.jpg\" width=\"50px\" height=\"50px\">\n",
    "<center><a href=\"http://nbviewer.ipython.org/github/CSP-UHS/Excelling_at_Physics/blob/master/Chapter02.ipynb\"><font size=\"+1\">Chapter 02: Userforms</font></a></center><br>\n",
    "\n",
    "<img src=\"http://www.hermonswebsites.com/PyNotebooks/Excelling/cover3.jpg\" width=\"50px\" height=\"50px\">\n",
    "<center><a href=\"http://nbviewer.ipython.org/github/CSP-UHS/Excelling_at_Physics/blob/master/Chapter03.ipynb\"><font size=\"+1\">Chapter 03: Grade Calculator</font></a></center><br>\n",
    "\n",
    "<img src=\"http://www.hermonswebsites.com/PyNotebooks/Excelling/cover4.png\" width=\"100px\" height=\"100px\">\n",
    "<center><a href=\"http://nbviewer.ipython.org/github/CSP-UHS/Excelling_at_Physics/blob/master/Chapter04.ipynb\"><font size=\"+1\">Chapter 04: Vector Addition</font></a></center><br>\n",
    "\n",
    "<img src=\"http://www.hermonswebsites.com/PyNotebooks/Excelling/projectile1.png\" width=\"100px\" height=\"100px\">\n",
    "<center><a href=\"http://nbviewer.ipython.org/github/CSP-UHS/Excelling_at_Physics/blob/master/Chapter05.ipynb\"><font size=\"+1\">Chapter 05: Projectile Program</font></a></center><br>\n",
    "\n",
    "<img src=\"http://www.hermonswebsites.com/PyNotebooks/Excelling/dd.jpg\" width=\"75px\" height=\"75px\">\n",
    "<center><a href=\"http://nbviewer.ipython.org/github/CSP-UHS/Excelling_at_Physics/blob/master/Chapter06.ipynb\"><font size=\"+1\">Chapter 06: Demolition Derby Program</font></a></center><br>\n",
    "\n",
    "<img src=\"http://www.hermonswebsites.com/PyNotebooks/Excelling/lissajou.png\" width=\"75px\" height=\"75px\">\n",
    "<center><a href=\"http://nbviewer.ipython.org/github/CSP-UHS/Excelling_at_Physics/blob/master/Chapter07.ipynb\"><font size=\"+1\">Chapter 07: Oscilloscope Lissajou Program</font></a></center><br>\n",
    "\n",
    "<img src=\"http://www.hermonswebsites.com/PyNotebooks/Excelling/excel.jpg\" width=\"100px\" height=\"100px\">\n",
    "<center><a href=\"http://nbviewer.ipython.org/github/CSP-UHS/Excelling_at_Physics/blob/master/Chapter08.ipynb\"><font size=\"+1\">Chapter 08: Hooke's Law</font></a><br>\n",
    "<a href=\"http://nbviewer.ipython.org/github/CSP-UHS/Excelling_at_Physics/blob/master/Chapter09.ipynb\"><font size=\"+1\">Chapter 09: Sound Program</font></a><br>\n",
    "<a href=\"http://nbviewer.ipython.org/github/CSP-UHS/Excelling_at_Physics/blob/master/Chapter10.ipynb\"><font size=\"+1\">Chapter 10: Interference Program</font></a><br>\n",
    "<a href=\"http://nbviewer.ipython.org/github/CSP-UHS/Excelling_at_Physics/blob/master/Chapter11.ipynb\"><font size=\"+1\">Chapter 11: Photoelectric Effect Program</font></a><br>\n",
    "<a href=\"http://nbviewer.ipython.org/github/CSP-UHS/Excelling_at_Physics/blob/master/Chapter12.ipynb\"><font size=\"+1\">Chapter 12: Mirror Optics Program</font></a><br>\n",
    "<a href=\"http://nbviewer.ipython.org/github/CSP-UHS/Excelling_at_Physics/blob/master/Chapter13.ipynb\"><font size=\"+1\">Chapter 13: Optical Bench Program</font></a><br>\n",
    "</center>\n"
   ]
  }
 ],
 "metadata": {
  "kernelspec": {
   "display_name": "Python 2",
   "language": "python",
   "name": "python2"
  },
  "language_info": {
   "codemirror_mode": {
    "name": "ipython",
    "version": 2
   },
   "file_extension": ".py",
   "mimetype": "text/x-python",
   "name": "python",
   "nbconvert_exporter": "python",
   "pygments_lexer": "ipython2",
   "version": "2.7.10"
  }
 },
 "nbformat": 4,
 "nbformat_minor": 0
}
