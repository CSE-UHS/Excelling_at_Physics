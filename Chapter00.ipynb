{
 "cells": [
  {
   "cell_type": "markdown",
   "metadata": {},
   "source": [
    "<center><font size=\"+5\" color=\"black\"><b><font color=\"green\"><b>EXCEL</b></font>-ling @ Physics</b></font></center><br>&nbsp;&nbsp;&nbsp;&nbsp;It is the intent of this book to provide the reader with a basic introduction of computer coding skills while strengthening their knowledge of various physics concepts. The book consists of 10 physics programs which can be created using Excel's Visual Basic for Applications (VBA). It is the hope of the author that creating these programs will greatly enrich the reader's understanding of physics while at the same time provide the reader with an enhanced joy in learning. Enjoy EXCEL-ling @ Physics!<br><br><div align=\"left\"><a href=\"mailto:hermonm@urbandaleschools.com\">Marc Hermon</a><br>Physics and Engineering Instructor<br>Urbandale High School</div>"
   ]
  },
  {
   "cell_type": "markdown",
   "metadata": {
    "canopy_exercise": {
     "cell_type": "<None>"
    },
    "slideshow": {
     "slide_type": "-"
    }
   },
   "source": [
    "\n",
    "<a href=\"http://nbviewer.ipython.org/github/CSP-UHS/Excelling_at_Physics/blob/master/Chapter01.ipynb\"><font size=\"+3\">Chapter 01: Introduction to VBA</font></a><br>\n",
    "\n",
    "<a href=\"http://nbviewer.ipython.org/github/CSP-UHS/Excelling_at_Physics/blob/master/Chapter02.ipynb\"><font size=\"+3\">Chapter 02: Userforms</font></a><br>\n",
    "\n",
    "<a href=\"http://nbviewer.ipython.org/github/CSP-UHS/Excelling_at_Physics/blob/master/Chapter03.ipynb\"><font size=\"+3\">Chapter 03: Project: Grade Calculator</font></a><br>\n",
    "\n",
    "<a href=\"http://nbviewer.ipython.org/github/CSP-UHS/Excelling_at_Physics/blob/master/Chapter04.ipynb\"><font size=\"+3\">Chapter 04: Project: Vector Addition</font></a><br>\n",
    "\n",
    "<a href=\"http://nbviewer.ipython.org/github/CSP-UHS/Excelling_at_Physics/blob/master/Chapter05.ipynb\"><font size=\"+3\">Chapter 05: Project: Projectile Motion</font></a><br>\n",
    "\n",
    "<a href=\"http://nbviewer.ipython.org/github/CSP-UHS/Excelling_at_Physics/blob/master/Chapter06.ipynb\"><font size=\"+3\">Chapter 06: Project: Demolition Derby</font></a><br>\n",
    "\n",
    "<a href=\"http://nbviewer.ipython.org/github/CSP-UHS/Excelling_at_Physics/blob/master/Chapter07.ipynb\"><font size=\"+3\">Chapter 07: Project: The Oscilloscope</font></a><br>\n",
    "\n",
    "<a href=\"http://nbviewer.ipython.org/github/CSP-UHS/Excelling_at_Physics/blob/master/Chapter08.ipynb\"><font size=\"+3\">Chapter 08: Project: Spring Energy</font></a><br>\n",
    "\n",
    "<a href=\"http://nbviewer.ipython.org/github/CSP-UHS/Excelling_at_Physics/blob/master/Chapter09.ipynb\"><font size=\"+3\">Chapter 09: Project: Sound Beats</font></a><br>\n",
    "\n",
    "<a href=\"http://nbviewer.ipython.org/github/CSP-UHS/Excelling_at_Physics/blob/master/Chapter10.ipynb\"><font size=\"+3\">Chapter 10: Project: Interference</font></a><br>\n",
    "\n",
    "<a href=\"http://nbviewer.ipython.org/github/CSP-UHS/Excelling_at_Physics/blob/master/Chapter11.ipynb\"><font size=\"+3\">Chapter 11: Project: Photoelectric Effect</font></a><br>\n",
    "\n",
    "<a href=\"http://nbviewer.ipython.org/github/CSP-UHS/Excelling_at_Physics/blob/master/Chapter12.ipynb\"><font size=\"+3\">Chapter 12: Project: Optical Bench</font></a><br>\n",
    "\n",
    "\n"
   ]
  }
 ],
 "metadata": {
  "kernelspec": {
   "display_name": "Python 2",
   "language": "python",
   "name": "python2"
  },
  "language_info": {
   "codemirror_mode": {
    "name": "ipython",
    "version": 2
   },
   "file_extension": ".py",
   "mimetype": "text/x-python",
   "name": "python",
   "nbconvert_exporter": "python",
   "pygments_lexer": "ipython2",
   "version": "2.7.10"
  }
 },
 "nbformat": 4,
 "nbformat_minor": 0
}
