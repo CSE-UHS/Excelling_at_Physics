{
 "cells": [
  {
   "cell_type": "markdown",
   "metadata": {},
   "source": [
    "<center><font size=\"+5\" color=\"black\"><b><font color=\"green\"><b>EXCEL</b></font>-ling @ Physics</b></font></center><br><div align=\"right\"><b>Contact: <a href=\"mailto:hermonm@urbandaleschools.com\">Marc Hermon</a></b><br>Urbandale High School</div>"
   ]
  },
  {
   "cell_type": "markdown",
   "metadata": {
    "canopy_exercise": {
     "cell_type": "<None>"
    },
    "slideshow": {
     "slide_type": "-"
    }
   },
   "source": [
    "\n",
    "<a href=\"http://nbviewer.ipython.org/github/CSP-UHS/Excelling_at_Physics/blob/master/Chapter01.ipynb\"><font size=\"+3\">Chapter 01: Introduction to VBA</font></a><br>\n",
    "\n",
    "<a href=\"http://nbviewer.ipython.org/github/CSP-UHS/Excelling_at_Physics/blob/master/Chapter02.ipynb\"><font size=\"+3\">Chapter 02: Userforms</font></a><br>\n",
    "\n",
    "<a href=\"http://nbviewer.ipython.org/github/CSP-UHS/Excelling_at_Physics/blob/master/Chapter03.ipynb\"><font size=\"+3\">Chapter 03: Grade Calculator</font></a><br>\n",
    "\n",
    "<a href=\"http://nbviewer.ipython.org/github/CSP-UHS/Excelling_at_Physics/blob/master/Chapter04.ipynb\"><font size=\"+3\">Chapter 04: Vector Addition</font></a><br>\n",
    "\n",
    "<a href=\"http://nbviewer.ipython.org/github/CSP-UHS/Excelling_at_Physics/blob/master/Chapter05.ipynb\"><font size=\"+3\">Chapter 05: Projectile Motion</font></a><br>\n",
    "\n",
    "<a href=\"http://nbviewer.ipython.org/github/CSP-UHS/Excelling_at_Physics/blob/master/Chapter06.ipynb\"><font size=\"+3\">Chapter 06: Demolition Derby</font></a><br>\n",
    "\n",
    "<a href=\"http://nbviewer.ipython.org/github/CSP-UHS/Excelling_at_Physics/blob/master/Chapter07.ipynb\"><font size=\"+3\">Chapter 07: The Oscilloscope</font></a><br>\n",
    "\n",
    "<a href=\"http://nbviewer.ipython.org/github/CSP-UHS/Excelling_at_Physics/blob/master/Chapter08.ipynb\"><font size=\"+3\">Chapter 08: Hooke's Law</font></a><br>\n",
    "\n",
    "<a href=\"http://nbviewer.ipython.org/github/CSP-UHS/Excelling_at_Physics/blob/master/Chapter09.ipynb\"><font size=\"+3\">Chapter 09: Sound Beats</font></a><br>\n",
    "\n",
    "<a href=\"http://nbviewer.ipython.org/github/CSP-UHS/Excelling_at_Physics/blob/master/Chapter10.ipynb\"><font size=\"+3\">Chapter 10: Interference</font></a><br>\n",
    "\n",
    "<a href=\"http://nbviewer.ipython.org/github/CSP-UHS/Excelling_at_Physics/blob/master/Chapter11.ipynb\"><font size=\"+3\">Chapter 11: Photoelectric Effect</font></a><br>\n",
    "\n",
    "<a href=\"http://nbviewer.ipython.org/github/CSP-UHS/Excelling_at_Physics/blob/master/Chapter12.ipynb\"><font size=\"+3\">Chapter 12: Mirror Optics</font></a><br>\n",
    "\n",
    "<a href=\"http://nbviewer.ipython.org/github/CSP-UHS/Excelling_at_Physics/blob/master/Chapter13.ipynb\"><font size=\"+3\">Chapter 13: Optical Bench</font></a><br>\n",
    "\n"
   ]
  },
  {
   "cell_type": "code",
   "execution_count": null,
   "metadata": {
    "collapsed": true
   },
   "outputs": [],
   "source": []
  }
 ],
 "metadata": {
  "kernelspec": {
   "display_name": "Python 2",
   "language": "python",
   "name": "python2"
  },
  "language_info": {
   "codemirror_mode": {
    "name": "ipython",
    "version": 2
   },
   "file_extension": ".py",
   "mimetype": "text/x-python",
   "name": "python",
   "nbconvert_exporter": "python",
   "pygments_lexer": "ipython2",
   "version": "2.7.10"
  }
 },
 "nbformat": 4,
 "nbformat_minor": 0
}
