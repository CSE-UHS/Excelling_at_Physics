{
 "cells": [
  {
   "cell_type": "markdown",
   "metadata": {},
   "source": [
    "<center><font size=\"+5\" color=\"black\"><b><font color=\"green\"><b>EXCEL</b></font>-ling at Physics</b></font></center><br><div align=\"right\"><b>Contact: <a href=\"mailto:hermonm@urbandaleschools.com\">Marc Hermon</a></b> at Urbandale High School</div>"
   ]
  },
  {
   "cell_type": "markdown",
   "metadata": {
    "canopy_exercise": {
     "cell_type": "<None>"
    },
    "slideshow": {
     "slide_type": "-"
    }
   },
   "source": [
    "<font size=\"+1\">\n",
    "<img src=\"http://www.hermonswebsites.com/PyNotebooks/Excelling/cover1a.png\" width=\"50px\" height=\"50px\">\n",
    "<center><a href=\"http://nbviewer.ipython.org/github/CSP-UHS/Excelling_at_Physics/blob/master/Chapter01.ipynb\">Chapter 01: Introduction to VBA</a></center><br>\n",
    "\n",
    "<img src=\"http://www.hermonswebsites.com/PyNotebooks/Excelling/cover2.jpg\" width=\"50px\" height=\"50px\">\n",
    "<center><a href=\"http://nbviewer.ipython.org/github/CSP-UHS/Excelling_at_Physics/blob/master/Chapter02.ipynb\">Chapter 02: Userforms</a></center><br>\n",
    "\n",
    "<img src=\"http://www.hermonswebsites.com/PyNotebooks/Excelling/cover3.jpg\" width=\"50px\" height=\"50px\">\n",
    "<center><a href=\"http://nbviewer.ipython.org/github/CSP-UHS/Excelling_at_Physics/blob/master/Chapter03.ipynb\">Chapter 03: Grade Calculator Program</a></center><br>\n",
    "\n",
    "<img src=\"http://www.hermonswebsites.com/PyNotebooks/Excelling/cover4.png\" width=\"100px\" height=\"100px\">\n",
    "<center><a href=\"http://nbviewer.ipython.org/github/CSP-UHS/Excelling_at_Physics/blob/master/Chapter04.ipynb\">Chapter 04: Vector Addition Program</a></center><br>\n",
    "\n",
    "<img src=\"http://www.hermonswebsites.com/PyNotebooks/Excelling/projectile1.png\" width=\"100px\" height=\"100px\">\n",
    "<center><a href=\"http://nbviewer.ipython.org/github/CSP-UHS/Excelling_at_Physics/blob/master/Chapter05.ipynb\">Chapter 05: Projectile Program</a></center><br>\n",
    "\n",
    "<img src=\"http://www.hermonswebsites.com/PyNotebooks/Excelling/dd.jpg\" width=\"75px\" height=\"75px\">\n",
    "<center><a href=\"http://nbviewer.ipython.org/github/CSP-UHS/Excelling_at_Physics/blob/master/Chapter06.ipynb\">Chapter 06: Demolition Derby Program</a></center><br>\n",
    "\n",
    "<img src=\"http://www.hermonswebsites.com/PyNotebooks/Excelling/lissajou.png\" width=\"75px\" height=\"75px\">\n",
    "<center><a href=\"http://nbviewer.ipython.org/github/CSP-UHS/Excelling_at_Physics/blob/master/Chapter07.ipynb\">Chapter 07: Oscilloscope Lissajou Program</a></center><br>\n",
    "\n",
    "<img src=\"http://www.hermonswebsites.com/PyNotebooks/Excelling/excel.jpg\" width=\"100px\" height=\"100px\">\n",
    "<center><a href=\"http://nbviewer.ipython.org/github/CSP-UHS/Excelling_at_Physics/blob/master/Chapter08.ipynb\">Chapter 08: Hooke's Law</a><br>\n",
    "<a href=\"http://nbviewer.ipython.org/github/CSP-UHS/Excelling_at_Physics/blob/master/Chapter09.ipynb\">Chapter 09: Sound Program</a><br>\n",
    "<a href=\"http://nbviewer.ipython.org/github/CSP-UHS/Excelling_at_Physics/blob/master/Chapter10.ipynb\">Chapter 10: Interference Program</a><br>\n",
    "<a href=\"http://nbviewer.ipython.org/github/CSP-UHS/Excelling_at_Physics/blob/master/Chapter11.ipynb\">Chapter 11: Photoelectric Effect Program</a><br>\n",
    "<a href=\"http://nbviewer.ipython.org/github/CSP-UHS/Excelling_at_Physics/blob/master/Chapter12.ipynb\">Chapter 12: Mirror Optics Program</a><br>\n",
    "<a href=\"http://nbviewer.ipython.org/github/CSP-UHS/Excelling_at_Physics/blob/master/Chapter13.ipynb\">Chapter 13: Optical Bench Program</a><br>\n",
    "</center></font>\n"
   ]
  }
 ],
 "metadata": {
  "kernelspec": {
   "display_name": "Python 2",
   "language": "python",
   "name": "python2"
  },
  "language_info": {
   "codemirror_mode": {
    "name": "ipython",
    "version": 2
   },
   "file_extension": ".py",
   "mimetype": "text/x-python",
   "name": "python",
   "nbconvert_exporter": "python",
   "pygments_lexer": "ipython2",
   "version": "2.7.10"
  }
 },
 "nbformat": 4,
 "nbformat_minor": 0
}
