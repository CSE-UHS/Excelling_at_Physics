{
 "cells": [
  {
   "cell_type": "markdown",
   "metadata": {},
   "source": [
    "<div align=\"right\">\n",
    "<a href=\"http://nbviewer.ipython.org/github/CSP-UHS/Excelling_at_Physics/blob/master/Chapter00.ipynb\" align=\"right\"><h2>Table of Contents</h2></a>\n",
    "</div>"
   ]
  },
  {
   "cell_type": "markdown",
   "metadata": {},
   "source": [
    "# Chapter 5: Projectile Program"
   ]
  },
  {
   "cell_type": "markdown",
   "metadata": {},
   "source": [
    "<img src=\"http://www.hermonswebsites.com/PyNotebooks/Excelling/projectile.png\" style=\"float: right;\">In this chapter we want to examine the motion of a projectile. We will attempt to derive two complicated equations. The first equation is not too complicated and will be used in the unique case when a projectile shoots and lands on the same horizontal plane. (crosses the x-axis in the figure on the right.) In this example the vertical displacement (S) is actually zero.<br><br>\n",
    "The second equation we will derive will be much more complicated. It will be a quadratic equation that results when the projectile lands on a plane higher or lower than the plane from which it is  launched. A projectile landing on a higher plane is called an \"elevated target\" and would have a displacement of +S. A projectile landing on a lower plane is called an \"elevated launcher\" and would have a displacement of -S.<br><br>\n",
    "In the figure on the right we see that the Velocity of the projectile is the resultant of a horizontal velocity <b>(V<sub>x</sub>)</b> not affected by gravity and a vertical velocity <b>(V<sub>y</sub>)</b> which is affected by gravity. Using &theta; and right triangle trig we can easily derive the following two velocity equations which we will use in our derivations:\n",
    "<h3>V<sub>x</sub> = Vcos&theta;<br>\n",
    "V<sub>y</sub> = Vsin&theta;</h3>\n",
    "<h1>1st Projectile Derivation (Same Plane)</h1><br>\n",
    "<img src=\"http://www.hermonswebsites.com/PyNotebooks/Excelling/5range.png\">\n",
    "\n",
    "We designate down as the negative direction and up as the positive direction so you will always substitute in a negative gravity. When you solve for the angle keep in mind that there are actually TWO angles that will give the same range. The other angle is complementary. So after you calculate your first angle, subtract it from 90&ordm; to obtain your second angle. Feel free to watch the video below on the range equation derivation:\n",
    "\n",
    "<center><iframe width=\"420\" height=\"315\" src=\"https://www.youtube.com/embed/IRwRurGKVIE\" frameborder=\"0\" allowfullscreen></iframe></center>\n",
    "\n",
    "<h1>2nd Projectile Derivation (Different Planes)</h1><br>\n",
    "<img src=\"http://www.hermonswebsites.com/PyNotebooks/Excelling/5projectile.png\">\n",
    "\n",
    "Again, we designate down as the negative direction and up as the positive direction so you will always substitute in a negative gravity. If you are shooting above the horizontal plane (elevated target) you will enter a +S. If you are shooting below the horizontal plane (elevated launcher) you will enter a -S.\n",
    "\n",
    "Remember, when you plug in your a, b and c values into the quadratic formula you will get two values for x. THESE ARE NOT THE TWO ANGLES! You will have to take the inverse tangent of those values to get the angles. These angles WILL NOT be complementary. Feel free to watch the video below on the quadratic derivation:\n",
    "\n",
    "<center><iframe width=\"420\" height=\"315\" src=\"https://www.youtube.com/embed/TKZIJXuOTKg\" frameborder=\"0\" allowfullscreen></iframe></center>"
   ]
  },
  {
   "cell_type": "markdown",
   "metadata": {},
   "source": [
    "## Program Parameters"
   ]
  },
  {
   "cell_type": "markdown",
   "metadata": {},
   "source": [
    "<b>INPUTS:</b>\n",
    "<ul>\n",
    "<li>A user will enter a launch velocity (V), vertical displacement (S) and a horizontal displacement (R).</li>\n",
    "<li>A user will choose a planet from a dropdown list and Above or Below the plane from another dropdown list.</li>\n",
    "</ul><br>\n",
    "<b>OUTPUTS:</b>\n",
    "<ul>\n",
    "<li>Graphical output of the two trajectories.</li>\n",
    "<li>Print out of the two possible launch angles.</li>\n",
    "<li>If a user puts in a very large range and a small velocity which is not capable of making that range your programming will give an error. In this case you should make it print some message instead.</li> \n",
    "<li>The choice of planet will determine the gravity.</li>\n",
    "<li>Your graph should show values along the x and y axes.</li>\n",
    "</ul><br>\n",
    "<b>CRITERIA & CONSTRAINTS:</b> \n",
    "<ul>\n",
    "<li>Your program should have an impressive interface. (colors and graphics)</li>\n",
    "<li>Specify in what units the user is entering data.</li>\n",
    "<li>If you enter nothing into your (S) which means you are shooting and landing on the same plane, your angles should be complementary. </li>\n",
    "<li>Make sure your name is printed somewhere on the interface of your program. (ex. \"Hermon's Programming\")</li>\n",
    "<li>When you upload your program name it accordingly: <b>(firstname_lastname_programtitle.xlsm)</b></li>\n",
    "<li>Make a title for your program at the top of the user window.</li>\n",
    "</ul>"
   ]
  },
  {
   "cell_type": "markdown",
   "metadata": {},
   "source": [
    "## Building the GUI"
   ]
  },
  {
   "cell_type": "markdown",
   "metadata": {},
   "source": [
    "Here is a video of a Projectile Program in action.\n",
    "<br>\n",
    "<center><iframe width=\"420\" height=\"315\" src=\"https://www.youtube.com/embed/yjcA4XA1hLo\" frameborder=\"0\" allowfullscreen></iframe></center>\n",
    "<br>\n",
    "As you can see in this userform we used 3 input text boxes, 2 combo boxes, 2 output labels for the angles and 1 output label for the error message. We also used an image for the graph. We have not used combo boxes in our user forms yet. Here is how you do it.\n",
    "\n",
    "<h3>Combo Boxes</h3>\n",
    "\n",
    "\n",
    "<br><br>\n",
    "A <b>combo box</b> is a drop down list that the user can choose from. We will be using two combo boxes for this program. One will be used for just two choices of <b>\"Above\"</b> or <b>\"Below\"</b> depending on if the target is below or above the plane. If the user chooses <b>\"Below\"</b> you will change the value of the <b>S</b> to negative. The other combo box will be a list of planetary bodies: (Earth, moon & other planets). Depending on the planetary body the user chooses you will use the appropriate gravity in your coding. To add a combo box to your userform you select the combo box icon from the toolbox and drag the size you want on your interface.\n",
    "<br><br>\n",
    "<center><img src=\"http://www.hermonswebsites.com/PyNotebooks/Excelling/5combo.PNG\"></center>\n",
    "\n",
    "<br><br>\n",
    "When you've selected a combo box on your userform you can give it a name over in the Properties box on the left. I just left the name of my first combo box as it was, <b>\"ComboBox1\"</b>. The dropdown of planets, however, I named <b>\"Planets\"</b>. \n",
    "\n",
    "In the <b>Text</b> property of the combo box I put the name of the first item I wanted listed in that particular dropdown list. In \"ComboBox1\" I put \"Above\" in the text property. In the \"Planets\" combo box I put \"Earth\" in the text property.\n",
    "\n",
    "So how do you get all of the other items you want populated in the dropdown list? You have to use some VBA code. We want the code to run and the dropdowns populated as soon as the userform is initially opened. Therefore, the code will be added to the userform object not the combo boxes. To do this double click on the userform and in the right dropdown at the top choose <b>\"Initialize\"</b>.\n",
    "<br><br>\n",
    "<center><img src=\"http://www.hermonswebsites.com/PyNotebooks/Excelling/5initialize.PNG\"></center>\n",
    "<br><br>\n",
    "This will insert a new subroutine into your code that looks like:<br><br>\n",
    "<b><font color=\"blue\">Private Sub</font> UserForm_Initialize()<br>\n",
    "<font color=\"blue\">End Sub</font></b><br><br>\n",
    "Inside this code we want to add a <b>With-End With</b> block for each combo box. It would look like this:<br><br>\n",
    "<b><font color=\"blue\">Private Sub</font> UserForm_Initialize()<br>\n",
    "<font color=\"blue\">With</font> ComboBox1<br>\n",
    "<font color=\"blue\">End With</font><br><br>\n",
    "<font color=\"blue\">With</font> Planets<br>\n",
    "<font color=\"blue\">End With</font><br>\n",
    "<font color=\"blue\">End Sub</font></b><br><br>\n",
    "\n",
    "Finally we add the method, <b>.AddItem</b> to each combo box object inside the <b>With-End With</b> block. Your first <b>.AddItem</b> should be whatever you entered into the Text parameter for that combo box. Here is the full code below. Yours could look different depending on which planetary bodies you chose to include.\n",
    "<br><br>\n",
    "<center><img src=\"http://www.hermonswebsites.com/PyNotebooks/Excelling/5additem.PNG\"></center>\n"
   ]
  },
  {
   "cell_type": "markdown",
   "metadata": {},
   "source": [
    "## Spreadsheet Calculations"
   ]
  },
  {
   "cell_type": "markdown",
   "metadata": {},
   "source": [
    "In this example program I renamed the command button, <b>\"Fire\"</b>. So, as in the other programs within the <b>Fire_Click()</b> subroutine the first thing to do is take all of the userdata and transfer it to your spreadsheet to do your calculations. There are five things to pass from the userform to the spreadsheet: The three text inputs and the two combo boxes. In this example they were given the following names in the properties box. Velocity, Range, Displacement, ComboBox1 and Planets. Below is the code that transfers the data from the userform to the spreadsheet. Hopefully you can see which spreadsheet cells the data was entered into:\n",
    "<br>\n",
    "<center><img src=\"http://www.hermonswebsites.com/PyNotebooks/Excelling/5enterdatas.PNG\"></center>\n",
    "<h3>Correcting Gravity (g)</h3><br>\n",
    "The selected planet from the <b>Planets</b> combo box was inserted into cell B7. In cell B8, we will determine the gravity based on what is in cell B7. You will have to look up the gravitational constants for various planetary bodies online.\n",
    "<br>\n",
    "<br>\n",
    "<center><img src=\"http://www.hermonswebsites.com/PyNotebooks/Excelling/5gravityfix.PNG\"></center>\n",
    "<br>\n",
    "In cell B8 we used several nested <b>If</b> statements which looked like the following:\n",
    "<h3>=IF(<font color=\"blue\">B7</font>=\"Moon\",-1.62,IF(<font color=\"blue\">B7</font>=\"Jupiter\",-24.8,IF(<font color=\"blue\">B7</font>=\"Pluto\",-0.62,IF(<font color=\"blue\">B7</font>=\"Mercury\",-3.7,-9.81))))</h3><br>\n",
    "\n",
    "\n",
    "<h3>Correcting Displacement (S)</h3><br>\n",
    "The \"Above\" or \"Below\" from the <b>ComboBox1</b> combo box was inserted into cell B10. The vertical displacement (S) was inserted into cell C3. In cell B9, we will change the sign of the vertical displacement if Cell B10 says, \"Below\".\n",
    "<br>\n",
    "<br>\n",
    "<center><img src=\"http://www.hermonswebsites.com/PyNotebooks/Excelling/5displace.PNG\"></center>\n",
    "<br>\n",
    "In cell B9 we used a simple <b>If</b> statement which looked like the following:\n",
    "<h3>=IF(<font color=\"blue\">B10</font>=\"Below\",-<font color=\"red\">C3</font>,<font color=\"red\">C3</font>)</h3><br>\n",
    "\n",
    "\n",
    "\n",
    "This, however, is not necessarily the angle from North. In fact, it will only be the angle from North if the resultant is in the upper right quadrant. How do we know if the resultant is in the upper right quadrant? Because both the î and the ĵ would both be positive. If you look at the following diagram we can determine how to calculate the actual angle from North depending on the signs of the î and the ĵ. <br>\n",
    "<table border=\"0\" cellpadding=\"0\" cellspacing=\"0\"><tr><td style=\"vertical-align: top;\">\n",
    "<img src=\"https://dl.dropboxusercontent.com/u/90219577/Hermon/Physics_Website/Excelling/4k.PNG\"></td><td style=\"vertical-align: top;\">\n",
    "\n",
    "<ul>\n",
    "<li>If î>=0 and ĵ>=0, the resultant is in the upper right quadrant and the angle from North equals &theta;.</li><br>\n",
    "<li>If î>=0 and ĵ&#60;=0, the resultant is in the lower right quadrant. &theta; is negative and so the angle from North equals 180 + &theta;.</li><br>\n",
    "<li>If î&#60;=0 and ĵ&#60;=0, the resultant is in the lower left quadrant. &theta; is positive and so again the angle from North equals 180 + &theta;.</li><br>\n",
    "<li>If î&#60;=0 and ĵ>=0, the resultant is in the upper left quadrant. &theta; is negative and so the angle from North equals 360 + &theta;.</li>\n",
    "</ul>\n",
    "</td></tr></table>\n",
    "<br>We have used <b>if statements</b> before in Excel that look like this.<br> <h3>=IF(condition,\"True\",\"False\")</h3><br>\n",
    "So, how do we do <b>\"IF-AND\"</b> statements? They would look like this:<br>\n",
    "<h3>=IF(AND(condition1,condition2),\"True\",\"False\")</h3><br>\n",
    "We will actually do some nested \"IF-AND\" statements, which means instead of printing something in the \"False\" parameter we will just start a new \"IF-AND\" statement. This will look pretty complicated so I will try to spell out the entire line of code that I put in cell C13.<br>\n",
    "\n",
    "Since, in the upper right quadrant we will not have to correct the angle we will leave that until the end. Our first check will be to see if the resultant is in the lower right quadrant which means î is positive and ĵ is negative. This means that the angle will be negative and we will \"add\" it to 180. (which really means it will be subtracted from 180). \n",
    "\n",
    "Our next check is to see if the resultant is in the lower left quadrant which means î is negative and ĵ is negative. This means that the angle will be positive and we will add it to 180 again.\n",
    "\n",
    "Our final check it to see if the resultant is in the upper left quadrant which means î is negative and ĵ is positive. This means that the angle will be negative and we will \"add\" it to 360. (which really means it will be subtracted from 360).\n",
    "\n",
    "Instead of starting another Nested \"IF-AND\" statement we will just print the angle in C12 because we would have to be in the upper right quadrant.\n",
    "\n",
    "<center><img src=\"https://dl.dropboxusercontent.com/u/90219577/Hermon/Physics_Website/Excelling/4j.PNG\"></center><br>\n",
    "\n",
    "Finally, in cell C14, we will correct the angle one more time. If you remember, in cell C10 we printed \"None\" if the resultant was really close to zero. In cell C14 we will check if the resultant is \"None\" and if it is we will print a \"\" for the angle. The image below shows how to do this with an \"IF\" statement.\n",
    "\n",
    "<center><img src=\"https://dl.dropboxusercontent.com/u/90219577/Hermon/Physics_Website/Excelling/4m1.PNG\"></center>\n",
    "Although the following video does not match up with the text of this book, it does show how we can determine a vector direction (angle). If you got stuck in the reading above see if this video helps you get back on track.\n",
    "<center><iframe width=\"560\" height=\"315\" src=\"https://www.youtube.com/embed/XMCgtI-ZJvo?list=PLhy-Ne6FAXKYFM-tQsYrm3TxoG2hXt2CZ\" frameborder=\"0\" allowfullscreen></iframe></center>\n",
    "\n",
    "\n",
    "\n",
    "<h2>Embedding Magnitude and Direction</h2>\n",
    "\n",
    "Now we need to embed the resultant magnitude and direction back into the two labels that we set up on our userform. Hopefully, you still remember how to send the userform your calculated output data. If not here are two lines of VBA code that I used. Remember to double click on the \"Add Vectors\" button to open the subroutine. Then you can add in the next two lines of code. I named the labels where I will be embedding the resultant magnitude and direction, <b>\"ResultM\"</b> and <b>\"ResultD\"</b> respectively. You will notice from the code that we will be using the <b>\"Caption\"</b> parameters of the labels. Make sure you are also pulling from the correct cell locations on your Worksheet. Finally, you should also notice that we are formatting this output to the tenths place.\n",
    "\n",
    "<center><img src=\"https://dl.dropboxusercontent.com/u/90219577/Hermon/Physics_Website/Excelling/4z.PNG\"></center>\n"
   ]
  },
  {
   "cell_type": "markdown",
   "metadata": {},
   "source": [
    "## Creating the Graph"
   ]
  },
  {
   "cell_type": "markdown",
   "metadata": {},
   "source": [
    "So, we now need to create a graph that we can embed back into our userform. We are going to add 6 series to our graph. One for each vector being added head to tail and then one for the resultant vector going from the tail of the first vector to the head of the last vector. We will start by making a table for our component vectors in columns F and G. Our first vector will start at the origin so we can enter our first point as (0,0) as seen below:\n",
    "<br>\n",
    "<center><img src=\"https://dl.dropboxusercontent.com/u/90219577/Hermon/Physics_Website/Excelling/4m2.PNG\"></center>\n",
    "<br><br>\n",
    "Our next point will be at the end of the first vector which of course is the i-hat and j-hat of vector 1. So, in cells F4 and G4 we will but =C2 and =D2 respectively.\n",
    "<br>\n",
    "<center><img src=\"https://dl.dropboxusercontent.com/u/90219577/Hermon/Physics_Website/Excelling/4w.PNG\"></center>\n",
    "<br><br>\n",
    "Now as we continue down our chart we want to \"add\" our vectors on to the previous vector. So, you will notice in cell F5 we put the equation, <b>=F4+C3</b> and in cell G5 we put the equation, <b>=G4+D3</b>. We then can drag those equations down 3 more cells. If you did this correctly you will notice that the final cells are the same as the i-hat and j-hat for the resultant.\n",
    "<br>\n",
    "<center><img src=\"https://dl.dropboxusercontent.com/u/90219577/Hermon/Physics_Website/Excelling/4x.PNG\"></center><br>\n",
    "Although the following video does not match up with the text of this book, it does show how we can create the data to make a graph of our vector components. If you got stuck in the reading above see if this video helps you get back on track.\n",
    "<center><iframe width=\"560\" height=\"315\" src=\"https://www.youtube.com/embed/nvlsPAJb6qY?list=PLhy-Ne6FAXKYFM-tQsYrm3TxoG2hXt2CZ\" frameborder=\"0\" allowfullscreen></iframe></center>\n",
    "\n",
    "Finally, in columns I and J, we made a quick chart for the resultant vector. Starting with (0,0) and a second point of (=C7,=D7).\n",
    "<br>\n",
    "<center><img src=\"https://dl.dropboxusercontent.com/u/90219577/Hermon/Physics_Website/Excelling/4y.PNG\"></center>\n",
    "<br><br>\n",
    "Now, that you have your data ready to go, let's build a graph. You can watch the following video to see how to make it.<br>\n",
    "<center><iframe width=\"420\" height=\"315\" src=\"https://www.youtube.com/embed/JQnlrucYrm4\" frameborder=\"0\" allowfullscreen></iframe></center>\n",
    "\n",
    "\n"
   ]
  },
  {
   "cell_type": "markdown",
   "metadata": {},
   "source": [
    "## Embedding the Graph"
   ]
  },
  {
   "cell_type": "markdown",
   "metadata": {},
   "source": [
    "We now need to somehow export the chart we made as an image and then load it into the <b>\"Picture\"</b> parameter of our graph label that we have already added to our userform. We can do this with VBA. This code may look daunting but I think you will be able to understand it if we go through it line by line.\n",
    "<ul>\n",
    "<li><b>Line 1:</b> We set the <b>\"CurrentChart\"</b> to the chart on our Worksheet we want. We have chosen <b>ChartObjects(1).Chart</b> because it's the only chart we've made. If you made another one, you would have to change that code to a (2).</li><br>\n",
    "\n",
    "<li><b>Line 2:</b> We made a variable called, <b>\"Fname\"</b> which stored the pathway address to the .GIF file of the chart that we will be making. The first part of the pathway is called, <b>ThisWorkbook.Path</b> which gives us the pathway address up to wherever the actual workbook is saved. Then we have \"concatenated\" (joined) with the \"&#38;\" sign \"\\temp.gif\" which will be the name of the .GIF file that we will be exporting from the chart.</li><br>\n",
    "\n",
    "<li><b>Line 3:</b> We called the <b>Export</b> method on the <b>CurrentChart</b> and assigned it's Filename.</li><br>\n",
    "\n",
    "<li><b>Line 4:</b> We used the <b>LoadPicture</b> method to load the exported .GIF file into the <b>Picture</b> parameter of our label, which I happened to name <b>\"Vectorgraph\"</b></li>\n",
    "</ul>\n",
    "<br>\n",
    "<center><img src=\"https://dl.dropboxusercontent.com/u/90219577/Hermon/Physics_Website/Excelling/graphembed.PNG\"></center>\n",
    "<br>\n",
    "Once you've thoroughly tested your program and have an impressive GUI, name it according to the following format: firstname_lastname_programtitle.xlsm and upload it to your instructor."
   ]
  },
  {
   "cell_type": "markdown",
   "metadata": {},
   "source": [
    "<table width=\"100%\" cellpadding=\"2\" cellspacing=\"2\">\n",
    "<tr>\n",
    "<td style=\"border: 1px solid white;\" width=\"100px\">\n",
    "<div>\n",
    "<a href=\"http://nbviewer.ipython.org/github/CSP-UHS/Excelling_at_Physics/blob/master/Chapter04.ipynb\"><img src=\"http://www.hermonswebsites.com/PyNotebooks/Excelling/leftA.png\"  height=\"50px\" width=\"50px\"></a>\n",
    "</div>\n",
    "</td>\n",
    "<td style=\"border: 1px solid white;\">\n",
    "<div align=\"center\">\n",
    "<a href=\"http://nbviewer.ipython.org/github/CSP-UHS/Excelling_at_Physics/blob/master/Chapter00.ipynb\"><h2>Table of Contents</h2></a>\n",
    "</div>\n",
    "</td>\n",
    "<td style=\"border: 1px solid white;\" width=\"100px\">\n",
    "<div>\n",
    "<a href=\"http://nbviewer.ipython.org/github/CSP-UHS/Excelling_at_Physics/blob/master/Chapter06.ipynb\"><img src=\"http://www.hermonswebsites.com/PyNotebooks/Excelling/rightA.png\"  height=\"50px\" width=\"50px\"  align=\"right\"></a>\n",
    "</div>\n",
    "</td>\n",
    "</tr></table>"
   ]
  }
 ],
 "metadata": {
  "kernelspec": {
   "display_name": "Python 2",
   "language": "python",
   "name": "python2"
  },
  "language_info": {
   "codemirror_mode": {
    "name": "ipython",
    "version": 2
   },
   "file_extension": ".py",
   "mimetype": "text/x-python",
   "name": "python",
   "nbconvert_exporter": "python",
   "pygments_lexer": "ipython2",
   "version": "2.7.10"
  }
 },
 "nbformat": 4,
 "nbformat_minor": 0
}
