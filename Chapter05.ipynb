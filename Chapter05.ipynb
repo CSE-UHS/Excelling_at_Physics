{
 "cells": [
  {
   "cell_type": "markdown",
   "metadata": {},
   "source": [
    "<div align=\"right\">\n",
    "<a href=\"http://nbviewer.ipython.org/github/CSP-UHS/Excelling_at_Physics/blob/master/Chapter00.ipynb\" align=\"right\"><h2>Table of Contents</h2></a>\n",
    "</div>"
   ]
  },
  {
   "cell_type": "markdown",
   "metadata": {},
   "source": [
    "# Chapter 5: Projectile Program"
   ]
  },
  {
   "cell_type": "markdown",
   "metadata": {},
   "source": [
    "<img src=\"http://www.hermonswebsites.com/PyNotebooks/Excelling/projectile.png\" style=\"float: right;\">In this chapter we want to examine the motion of a projectile. We will attempt to derive two complicated equations. The first equation is not too complicated and will be used in the unique case when a projectile shoots and lands on the same horizontal plane. (crosses the x-axis in the figure on the right.) In this example the vertical displacement (S) is actually zero.<br><br>\n",
    "The second equation we will derive will be much more complicated. It will be a quadratic equation that results when the projectile lands on a plane higher or lower than the plane from which it is  launched. A projectile landing on a higher plane is called an \"elevated target\" and would have a displacement of +S. A projectile landing on a lower plane is called an \"elevated launcher\" and would have a displacement of -S.<br><br>\n",
    "In the figure on the right we see that the Velocity of the projectile is the resultant of a horizontal velocity <b>(V<sub>x</sub>)</b> not affected by gravity and a vertical velocity <b>(V<sub>y</sub>)</b> which is affected by gravity. Using &theta; and right triangle trig we can easily derive the following two velocity equations which we will use in our derivations:\n",
    "<h3>V<sub>x</sub> = Vcos&theta;<br>\n",
    "V<sub>y</sub> = Vsin&theta;</h3>\n",
    "<h1>1st Projectile Derivation (Same Plane)</h1><br>\n",
    "<img src=\"http://www.hermonswebsites.com/PyNotebooks/Excelling/5range.png\">\n",
    "\n",
    "We designate down as the negative direction and up as the positive direction so you will always substitute in a negative gravity. When you solve for the angle keep in mind that there are actually TWO angles that will give the same range. The other angle is complementary. So after you calculate your first angle, subtract it from 90&ordm; to obtain your second angle. Feel free to watch the video below on the range equation derivation:\n",
    "\n",
    "<center><iframe width=\"420\" height=\"315\" src=\"https://www.youtube.com/embed/IRwRurGKVIE\" frameborder=\"0\" allowfullscreen></iframe></center>\n",
    "\n",
    "<h1>2nd Projectile Derivation (Different Planes)</h1><br>\n",
    "<img src=\"http://www.hermonswebsites.com/PyNotebooks/Excelling/5projectile.png\">\n",
    "\n",
    "Again, we designate down as the negative direction and up as the positive direction so you will always substitute in a negative gravity. If you are shooting above the horizontal plane (elevated target) you will enter a +S. If you are shooting below the horizontal plane (elevated launcher) you will enter a -S.\n",
    "\n",
    "Remember, when you plug in your a, b and c values into the quadratic formula you will get two values for x. THESE ARE NOT THE TWO ANGLES! You will have to take the inverse tangent of those values to get the angles. These angles WILL NOT be complementary. Feel free to watch the video below on the quadratic derivation:\n",
    "\n",
    "<center><iframe width=\"420\" height=\"315\" src=\"https://www.youtube.com/embed/TKZIJXuOTKg\" frameborder=\"0\" allowfullscreen></iframe></center>"
   ]
  },
  {
   "cell_type": "markdown",
   "metadata": {},
   "source": [
    "## Program Parameters"
   ]
  },
  {
   "cell_type": "markdown",
   "metadata": {},
   "source": [
    "<b>INPUTS:</b>\n",
    "<ul>\n",
    "<li>A user will enter a launch velocity (V), vertical displacement (S) and a horizontal displacement (R).</li>\n",
    "<li>A user will choose a planet from a dropdown list and Above or Below the plane from another dropdown list.</li>\n",
    "</ul><br>\n",
    "<b>OUTPUTS:</b>\n",
    "<ul>\n",
    "<li>Graphical output of the two trajectories.</li>\n",
    "<li>Print out of the two possible launch angles.</li>\n",
    "<li>If a user puts in a very large range and a small velocity which is not capable of making that range your programming will give an error. In this case you should make it print some message instead.</li> \n",
    "<li>The choice of planet will determine the gravity.</li>\n",
    "<li>Your graph should show values along the x and y axes.</li>\n",
    "</ul><br>\n",
    "<b>CRITERIA & CONSTRAINTS:</b> \n",
    "<ul>\n",
    "<li>Your program should have an impressive interface. (colors and graphics)</li>\n",
    "<li>Specify in what units the user is entering data.</li>\n",
    "<li>If you enter nothing into your (S) which means you are shooting and landing on the same plane, your angles should be complementary. </li>\n",
    "<li>Make sure your name is printed somewhere on the interface of your program. (ex. \"Hermon's Programming\")</li>\n",
    "<li>When you upload your program name it accordingly: <b>(firstname_lastname_programtitle.xlsm)</b></li>\n",
    "<li>Make a title for your program at the top of the user window.</li>\n",
    "</ul>"
   ]
  },
  {
   "cell_type": "markdown",
   "metadata": {},
   "source": [
    "## Building the GUI"
   ]
  },
  {
   "cell_type": "markdown",
   "metadata": {},
   "source": [
    "Here is a video of a Projectile Program in action.\n",
    "<br>\n",
    "<center><iframe width=\"420\" height=\"315\" src=\"https://www.youtube.com/embed/yjcA4XA1hLo\" frameborder=\"0\" allowfullscreen></iframe></center>\n",
    "<br>\n",
    "As you can see in this userform we used 3 input text boxes, 2 combo boxes, 2 output labels for the angles and 1 output label for the error message. We also used an image for the graph. We have not used combo boxes in our user forms yet. Here is how you do it.\n",
    "\n",
    "<h3>Combo Boxes</h3>\n",
    "\n",
    "\n",
    "<br><br>\n",
    "A <b>combo box</b> is a drop down list that the user can choose from. We will be using two combo boxes for this program. One will be used for just two choices of <b>\"Above\"</b> or <b>\"Below\"</b> depending on if the target is below or above the plane. If the user chooses <b>\"Below\"</b> you will change the value of the <b>S</b> to negative. The other combo box will be a list of planetary bodies: (Earth, moon & other planets). Depending on the planetary body the user chooses you will use the appropriate gravity in your coding. To add a combo box to your userform you select the combo box icon from the toolbox and drag the size you want on your interface.\n",
    "<br><br>\n",
    "<center><img src=\"http://www.hermonswebsites.com/PyNotebooks/Excelling/5combo.PNG\"></center>\n",
    "\n",
    "<br><br>\n",
    "When you've selected a combo box on your userform you can give it a name over in the Properties box on the left. I just left the name of my first combo box as it was, <b>\"ComboBox1\"</b>. The dropdown of planets, however, I named <b>\"Planets\"</b>. \n",
    "\n",
    "In the <b>Text</b> property of the combo box I put the name of the first item I wanted listed in that particular dropdown list. In \"ComboBox1\" I put \"Above\" in the text property. In the \"Planets\" combo box I put \"Earth\" in the text property.\n",
    "\n",
    "So how do you get all of the other items you want populated in the dropdown list? You have to use some VBA code. We want the code to run and the dropdowns populated as soon as the userform is initially opened. Therefore, the code will be added to the userform object not the combo boxes. To do this double click on the userform and in the right dropdown at the top choose <b>\"Initialize\"</b>.\n",
    "<br><br>\n",
    "<center><img src=\"http://www.hermonswebsites.com/PyNotebooks/Excelling/5initialize.PNG\"></center>\n",
    "<br><br>\n",
    "This will insert a new subroutine into your code that looks like:<br><br>\n",
    "<b><font color=\"blue\">Private Sub</font> UserForm_Initialize()<br>\n",
    "<font color=\"blue\">End Sub</font></b><br><br>\n",
    "Inside this code we want to add a <b>With-End With</b> block for each combo box. It would look like this:<br><br>\n",
    "<b><font color=\"blue\">Private Sub</font> UserForm_Initialize()<br>\n",
    "<font color=\"blue\">With</font> ComboBox1<br>\n",
    "<font color=\"blue\">End With</font><br><br>\n",
    "<font color=\"blue\">With</font> Planets<br>\n",
    "<font color=\"blue\">End With</font><br>\n",
    "<font color=\"blue\">End Sub</font></b><br><br>\n",
    "\n",
    "Finally we add the method, <b>.AddItem</b> to each combo box object inside the <b>With-End With</b> block. Your first <b>.AddItem</b> should be whatever you entered into the Text parameter for that combo box. Here is the full code below. Yours could look different depending on which planetary bodies you chose to include.\n",
    "<br><br>\n",
    "<center><img src=\"http://www.hermonswebsites.com/PyNotebooks/Excelling/5additem.PNG\"></center>\n"
   ]
  },
  {
   "cell_type": "markdown",
   "metadata": {},
   "source": [
    "## Spreadsheet Calculations"
   ]
  },
  {
   "cell_type": "markdown",
   "metadata": {},
   "source": [
    "In this example program I renamed the command button, <b>\"Fire\"</b>. So, as in the other programs within the <b>Fire_Click()</b> subroutine the first thing to do is take all of the userdata and transfer it to your spreadsheet to do your calculations. There are five things to pass from the userform to the spreadsheet: The three text inputs and the two combo boxes. In this example they were given the following names in the properties box. Velocity, Range, Displacement, ComboBox1 and Planets. Below is the code that transfers the data from the userform to the spreadsheet. Hopefully you can see which spreadsheet cells the data was entered into:\n",
    "<br>\n",
    "<center><img src=\"http://www.hermonswebsites.com/PyNotebooks/Excelling/5enterdatas.PNG\"></center>\n",
    "<h3>Correcting Gravity (g)</h3><br>\n",
    "The selected planet from the <b>Planets</b> combo box was inserted into cell B7. In cell B8, we will determine the gravity based on what is in cell B7. You will have to look up the gravitational constants for various planetary bodies online.\n",
    "<br>\n",
    "<br>\n",
    "<center><img src=\"http://www.hermonswebsites.com/PyNotebooks/Excelling/5gravityfix.PNG\"></center>\n",
    "<br>\n",
    "In cell B8 we used several nested <b>If</b> statements which looked like the following:\n",
    "<h3>=IF(<font color=\"blue\">B7</font>=\"Moon\",-1.62,IF(<font color=\"blue\">B7</font>=\"Jupiter\",-24.8,IF(<font color=\"blue\">B7</font>=\"Pluto\",-0.62,IF(<font color=\"blue\">B7</font>=\"Mercury\",-3.7,-9.81))))</h3><br>\n",
    "\n",
    "\n",
    "<h3>Correcting Displacement (S)</h3><br>\n",
    "The \"Above\" or \"Below\" from the <b>ComboBox1</b> combo box was inserted into cell B10. The vertical displacement (S) was inserted into cell C3. In cell B9, we will change the sign of the vertical displacement if Cell B10 says, \"Below\".\n",
    "<br>\n",
    "<br>\n",
    "<center><img src=\"http://www.hermonswebsites.com/PyNotebooks/Excelling/5displace.PNG\"></center>\n",
    "<br>\n",
    "In cell B9 we used a simple <b>If</b> statement which looked like the following:\n",
    "<h3>=IF(<font color=\"blue\">B10</font>=\"Below\",-<font color=\"red\">C3</font>,<font color=\"red\">C3</font>)</h3><br>"
   ]
  },
  {
   "cell_type": "markdown",
   "metadata": {},
   "source": [
    "## Determining the Angles"
   ]
  },
  {
   "cell_type": "markdown",
   "metadata": {},
   "source": [
    "To determine the two possible angles we have to first determine a, b and c from our derived quadratic. From above, we remember that a = 1. Below is how we determined \"b\" from the entered data:\n",
    "<br>\n",
    "<center><img src=\"http://www.hermonswebsites.com/PyNotebooks/Excelling/5_B.png\"></center>\n",
    "<br><br>\n",
    "Also, here is how we determined our \"c\" value:\n",
    "<br>\n",
    "<center><img src=\"http://www.hermonswebsites.com/PyNotebooks/Excelling/5_c.png\"></center>\n",
    "<br><br>\n",
    "Now that we've determined our a, b and c values, we can enter them into the quadratic formula. There will be two possible answers: One for the minus and one for the positive versions of the quadratic formula. Below, I have just shown the \"minus\" version.\n",
    "<br>\n",
    "<center><img src=\"http://www.hermonswebsites.com/PyNotebooks/Excelling/5_minus.png\"></center><br>\n",
    "Make sure you also do the positive version. Its important to remember that these answers are NOT the angles. They are the TANGENT of the angles. Therefore to get the angles you will have to determine the ARCTAN of each of your answers. Below is how we do that:\n",
    "<center><img src=\"http://www.hermonswebsites.com/PyNotebooks/Excelling/5_radians.png\"></center><br>\n",
    "\n",
    "These angles will be calculated in RADIANS. That is ok because to do further work with these angles we need the angle to stay in radians. However, we do want to send the two angles back to the userform in \"DEGREES\". Below is how we do that.\n",
    "<br>\n",
    "<center><img src=\"http://www.hermonswebsites.com/PyNotebooks/Excelling/5_degrees.png\"></center>\n",
    "<br>\n",
    "What if there is an error? For example if there is no way that the entered velocity would be able to achieve the entered range? We need to catch the error so that our program does not break. We can do that as follows:<br>\n",
    "<center><img src=\"http://www.hermonswebsites.com/PyNotebooks/Excelling/5_errordeg.png\"></center>\n",
    "<br>\n",
    "Finally, if there was an error we also want to print a message back to our userface, but first we will create it in our spreadsheet by doing the following:<br>\n",
    "<center><img src=\"http://www.hermonswebsites.com/PyNotebooks/Excelling/5_caption.png\"></center>\n",
    "<br>\n",
    "\n",
    "\n"
   ]
  },
  {
   "cell_type": "markdown",
   "metadata": {},
   "source": [
    "## Embedding the Angles in the Userform"
   ]
  },
  {
   "cell_type": "markdown",
   "metadata": {},
   "source": [
    "Hopefully, you still remember how to print something from our spreadsheet back into our userform. We want to insert both angles as well as the error message. The three labels that were set up for this were named: Angle1, Angle2 and Error. Below is the VBA that shows how to embed them back into the userform\n",
    "<br>\n",
    "<center><img src=\"http://www.hermonswebsites.com/PyNotebooks/Excelling/5-angleprint.png\"></center>\n",
    "<br>\n",
    "Notice that for the angles we used the <b>Format</b> method once again to format the angles to the tenths place. We also added a degree symbol to the angles by using \"<b>& Chr(176)</b>\". This will concatenate the degree symbol onto your angle."
   ]
  },
  {
   "cell_type": "markdown",
   "metadata": {},
   "source": [
    "## Creating Data for the Graph"
   ]
  },
  {
   "cell_type": "markdown",
   "metadata": {},
   "source": [
    "We now need to create the data to build our graph. In our graph we want to see the two possible trajectories of the launched objects. The x-axis will need to be the horizontal range and the y-axis will need to be the vertical displacement. We'll start with the x-data because it is very easy. The user will have already entered in the final horizontal displacement (Range) of the object. This would be the same for either angle. We are just going to divide that range up into 10 increments to use on our x-axis. In the program below that was done in cell F11.\n",
    "<br>\n",
    "<center><img src=\"http://www.hermonswebsites.com/PyNotebooks/Excelling/5_10points.png\"></center>\n",
    "<br>\n",
    "Now we make a column for our Range (x-axis). In the first cell (E14 for the example) we just put zero. In the next cell we want to add the previous cell to the 10-point increment. We will be dragging this formula down until we get to our range, so we will want to make sure we reference F11 with `$` signs. `$`F`$`11 so it always pulls from that cell as seen below. Since we are dragging rows DOWN instead of columns OVER I technically did not need the `$` in front of the F.\n",
    "<br>\n",
    "<center><img src=\"http://www.hermonswebsites.com/PyNotebooks/Excelling/5_range.png\"></center>\n",
    "<br>\n",
    "Now we want to determine the vertical position of the object for each range location. To do this we first need to determine the <b>time</b> it will take for the object to get to that particular range. We can do this by using the following equation:\n",
    "<br>\n",
    "<center><img src=\"http://www.hermonswebsites.com/PyNotebooks/Excelling/5_tequation.png\"></center>\n",
    "<br>\n",
    "Below is how we did it in the spreadsheet. Remember you will need to use `$` signs for the velocity and angle 1 because we want these cells to remain static. We will then drag that equation down. You will then have to create another time column for the other angle.\n",
    "<br>\n",
    "<center><img src=\"http://www.hermonswebsites.com/PyNotebooks/Excelling/5_timeeq1.png\"></center>\n",
    "<br>\n",
    "Now we can use the following equation to calculate the vertical displacements at each time.\n",
    "<br>\n",
    "<center><img src=\"http://www.hermonswebsites.com/PyNotebooks/Excelling/5_verteq.png\"></center>\n",
    "<br>\n",
    "Below is how we did it in the spreadsheet. Remember to again use `$` signs on everything except the times. Then drag the equation down. You need to do another column of vertical displacement for the second time column also.\n",
    "<br>\n",
    "<center><img src=\"http://www.hermonswebsites.com/PyNotebooks/Excelling/5_overall.png\"></center>\n",
    "<br>"
   ]
  },
  {
   "cell_type": "markdown",
   "metadata": {},
   "source": [
    "## Creating the Graph"
   ]
  },
  {
   "cell_type": "markdown",
   "metadata": {},
   "source": [
    "We will have two series in this graph; one trajectory for each angle. The x-axis will be the Range column and the 2 y-axes will be S1 and S2. If you select the Range and S1 columns you can create your smooth scatter plot. Then you can right-click the graph and choose \"Select Data\" to bring up the following window where you can edit the first series and then add in another series.\n",
    "<br>\n",
    "<center><img src=\"http://www.hermonswebsites.com/PyNotebooks/Excelling/5_Select_Data.png\"></center>\n",
    "<br>\n",
    "You can work on the colors of the chart as well as the axes labels. In your userform VBA code you need to include the code that will embed this graph into your userform. If you forgot how to do this from the previous chapter I have again included the code below. The name of the image location in the userform was renamed to \"Trajectories\", as you can see below.\n",
    "<br>\n",
    "<center><img src=\"http://www.hermonswebsites.com/PyNotebooks/Excelling/5_embedchart.png\"></center>\n",
    "<br>\n",
    "    Once you've thoroughly tested your program and have an impressive GUI, name it according to the following format: firstname_lastname_programtitle.xlsm and upload it to your instructor."
   ]
  },
  {
   "cell_type": "markdown",
   "metadata": {},
   "source": [
    "<table width=\"100%\" cellpadding=\"2\" cellspacing=\"2\">\n",
    "<tr>\n",
    "<td style=\"border: 1px solid white;\" width=\"100px\">\n",
    "<div>\n",
    "<a href=\"http://nbviewer.ipython.org/github/CSP-UHS/Excelling_at_Physics/blob/master/Chapter04.ipynb\"><img src=\"http://www.hermonswebsites.com/PyNotebooks/Excelling/leftA.png\"  height=\"50px\" width=\"50px\"></a>\n",
    "</div>\n",
    "</td>\n",
    "<td style=\"border: 1px solid white;\">\n",
    "<div align=\"center\">\n",
    "<a href=\"http://nbviewer.ipython.org/github/CSP-UHS/Excelling_at_Physics/blob/master/Chapter00.ipynb\"><h2>Table of Contents</h2></a>\n",
    "</div>\n",
    "</td>\n",
    "<td style=\"border: 1px solid white;\" width=\"100px\">\n",
    "<div>\n",
    "<a href=\"http://nbviewer.ipython.org/github/CSP-UHS/Excelling_at_Physics/blob/master/Chapter06.ipynb\"><img src=\"http://www.hermonswebsites.com/PyNotebooks/Excelling/rightA.png\"  height=\"50px\" width=\"50px\"  align=\"right\"></a>\n",
    "</div>\n",
    "</td>\n",
    "</tr></table>"
   ]
  }
 ],
 "metadata": {
  "kernelspec": {
   "display_name": "Python 2",
   "language": "python",
   "name": "python2"
  },
  "language_info": {
   "codemirror_mode": {
    "name": "ipython",
    "version": 2
   },
   "file_extension": ".py",
   "mimetype": "text/x-python",
   "name": "python",
   "nbconvert_exporter": "python",
   "pygments_lexer": "ipython2",
   "version": "2.7.10"
  }
 },
 "nbformat": 4,
 "nbformat_minor": 0
}
