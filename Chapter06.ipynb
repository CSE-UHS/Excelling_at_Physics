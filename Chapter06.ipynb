{
 "cells": [
  {
   "cell_type": "markdown",
   "metadata": {},
   "source": [
    "<div align=\"right\">\n",
    "<a href=\"http://nbviewer.ipython.org/github/CSP-UHS/Excelling_at_Physics/blob/master/Chapter00.ipynb\" align=\"right\"><h2>Table of Contents</h2></a>\n",
    "</div>"
   ]
  },
  {
   "cell_type": "markdown",
   "metadata": {},
   "source": [
    "# Project 4: Demolition Derby Program"
   ]
  },
  {
   "cell_type": "markdown",
   "metadata": {},
   "source": [
    "<img src=\"http://www.hermonswebsites.com/PyNotebooks/Excelling/06_DD.png\" style=\"float: right;\" width=\"200\" height=\"200\">In this chapter we want to examine the conservation of momentum in an inelastic collision. In our example, three cars with different masses and velocities will all crash together and become stuck. In any collision the combined momentum of all objects before the collision is equal to the combined momentum of all objects after the collision. This is called the conservation of momentum. This means that if I can add the three momentum vectors of the individual cars together vectorally before the collision, then this will be equal to the momentum of the 3-car combo after the collision.\n",
    "\n",
    "In <b>ELASTIC</b> collisions the kinetic energy would also be conserved, however, we only come close to elastic collisions at the atomic level. Most everyday collisions are very <b>INELASTIC</b>, which means that kinetic energy is lost. In our program we will need to calulate the % KE lost during the collision. The equations for momentum and kinetic energy are as follows:<br><br>\n",
    "<center><img src=\"http://www.hermonswebsites.com/PyNotebooks/Excelling/6equations.png\"></center>"
   ]
  },
  {
   "cell_type": "markdown",
   "metadata": {},
   "source": [
    "## Program Parameters"
   ]
  },
  {
   "cell_type": "markdown",
   "metadata": {},
   "source": [
    "<b>INPUTS:</b>\n",
    "<ul>\n",
    "<li>A user can choose a weight for each car from 2-10 tons in 0.5 ton increments.</li>\n",
    "<li>A user can choose a velocity for each car from 20-100 mph  in 5 mph increments and 10-360 deg in 10 deg. increments.</li>\n",
    "</ul><br>\n",
    "<b>OUTPUTS:</b>\n",
    "<ul>\n",
    "<li>Graphical output of the three momentum vectors crashing at the origin.</li>\n",
    "<li>Graphical output of the resultant momentum vector.</li>\n",
    "<li>Output the final speed of the 3 car object in mph.</li>\n",
    "<li>Output the % Kinetic Energy Loss</li>\n",
    "</ul><br>\n",
    "<b>CRITERIA & CONSTRAINTS:</b>\n",
    "<ul>\n",
    "<li>Assume that momentum is conserved and that all three cars stick together at impact.</li>\n",
    "<li>Your program should have an impressive interface. (colors and graphics)</li>\n",
    "<li>Show three differently colored cars and color each momentum vector accordingly.</li>\n",
    "<li>Un-click the Major Unit box on both axes of the graph and enter a value of 1. This way if all angles entered by the user are 180 or 360 the graph will look correct.</li>\n",
    "<li>Specify in what units the user is entering data.</li>\n",
    "<li>Make sure your name is printed somewhere on the interface of your program. (ex. \"Hermon's Programming\")</li>\n",
    "<li>When you upload your program name it accordingly: (firstname_lastname_programtitle.xlsm)</li>\n",
    "<li>Make a title for your program at the top of the user window.</li>\n",
    "</ul>"
   ]
  },
  {
   "cell_type": "markdown",
   "metadata": {},
   "source": [
    "## Building the GUI"
   ]
  },
  {
   "cell_type": "markdown",
   "metadata": {},
   "source": [
    "Here is a video of a Demolition Derby Program in action.\n",
    "<br>\n",
    "<center><iframe width=\"560\" height=\"315\" src=\"https://www.youtube.com/embed/lHM-GWb4PsA\" frameborder=\"0\" allowfullscreen></iframe></center>\n",
    "<br>\n",
    "As you can see in this userform we used 9 combo boxes to choose weights, velocities and angles for each colored car and 2 output labels for the final velocity and %KE lost. We also again used an image for the graph.\n",
    "\n",
    "<h3>Combo Boxes</h3>\n",
    "\n",
    "\n",
    "\n",
    "If you remember from the last chapter to add a combo box to your userform you select the combo box icon from the toolbox and drag the size you want on your interface.\n",
    "\n",
    "<center><img src=\"http://www.hermonswebsites.com/PyNotebooks/Excelling/6_cb.png\"></center>\n",
    "\n",
    "\n",
    "When you've selected a combo box on your userform you can give it a name over in the Properties box on the left. I named all of mine like this: <b>BlueWeight, RedWeight, GreenWeight, BlueV, RedV, GreenV, BlueA, RedA and GreenA</b>.  \n",
    "\n",
    "In the <b>Text</b> property of the combo box I put the name of the first item I wanted listed in that particular dropdown list. For all the weights, I entered 2. For all the velocities I entered 20. For the Degrees from North, I entered 60 for the blue car, 180 for the red car and 300 for the green car. This way if a user clicks the <b>\"CRASH!\"</b> button immediately without changing anything there will not be an error. Also this data is a unique case in which the resultant will be zero which means there will be no final velocity and we will have a 100% loss in energy.\n",
    "\n",
    "To get all of the items into the combo boxes last time we used <b>.AddItem</b> when the userform was initialized. You could do this again if you would like but this time we are going to show you a much easier way. In your spreadsheet make 3 columns with what you need for the dropdown menus. I actually had my <b>degrees</b> column start with 10 and then go all the way down to 360. \n",
    "\n",
    "<center><img src=\"http://www.hermonswebsites.com/PyNotebooks/Excelling/6_combodata.jpg\"></center>\n",
    "\n",
    "Once you have these columns you can very easily populate each combo box by just referencing these columns in the <b>\"RowSource\"</b> parameter in the Properties panel on the left side of the screen. Below is what I entered into the RowSource for all three of the Weight combo boxes.\n",
    "\n",
    "<center><img src=\"http://www.hermonswebsites.com/PyNotebooks/Excelling/6_rowsource.jpg\"></center>\n",
    "\n",
    "Yeah, I know that's super easy and I should have showed you that last chapter. But then you wouldn't have learned any more VBA code!\n",
    "\n"
   ]
  },
  {
   "cell_type": "markdown",
   "metadata": {},
   "source": [
    "## Spreadsheet Calculations"
   ]
  },
  {
   "cell_type": "markdown",
   "metadata": {},
   "source": [
    "In this example program I renamed the command button, <b>\"Crash\"</b>. So, as in the other programs within the <b>Crash_Click()</b> subroutine the first thing to do is take all of the userdata and transfer it to your spreadsheet to do your calculations. We will pass all 9 combo boxes from the userform to the spreadsheet. Below is the code that transfers the data from the userform to the spreadsheet. Hopefully you can see which spreadsheet cells the data was entered into.\n",
    "\n",
    "<center><img src=\"http://www.hermonswebsites.com/PyNotebooks/Excelling/6_enterdata.jpg\"></center>"
   ]
  },
  {
   "cell_type": "markdown",
   "metadata": {},
   "source": [
    "## Calculating Momentums"
   ]
  },
  {
   "cell_type": "markdown",
   "metadata": {},
   "source": [
    "The first thing we will do on our spreadsheet is to multiply the mass by the velocity for each car to calculate the magnitude of each car's momentum. These will not be in standard units but that is ok for this program.\n",
    "\n",
    "<center><img src=\"http://www.hermonswebsites.com/PyNotebooks/Excelling/6_mom.jpg\"></center>\n",
    "\n",
    "Next, we want to divide our three momentums into i-hat and j-hat components so that we will be able to draw momentum vectors. Remember, i-hat will be the momentum times the Sin of the angle and j-hat will be the momentum times the cosine of the angle. Remember, Excel does all of its math assuming radians, so we need to switch our degrees that the user entered into radians.\n",
    "\n",
    "<center><img src=\"http://www.hermonswebsites.com/PyNotebooks/Excelling/6_jhat.jpg\"></center>\n",
    "\n",
    "Next, we need to total our i-hats and j-hats.\n",
    "\n",
    "<center><img src=\"http://www.hermonswebsites.com/PyNotebooks/Excelling/6_sumjhats.jpg\"></center><br>\n",
    "Next, we need to determine the magnitude of the resultant momentum vector by using Pythagorean's Theorem on the i-hat and j-hat sums. This is in D15 for this example.\n",
    "<center><img src=\"http://www.hermonswebsites.com/PyNotebooks/Excelling/6_totalmom.jpg\"></center>"
   ]
  },
  {
   "cell_type": "markdown",
   "metadata": {},
   "source": [
    "## Creating Graph Data"
   ]
  },
  {
   "cell_type": "markdown",
   "metadata": {},
   "source": [
    "To create the graph of the momentum vectors we will need to use four data series. Three for the individual momentum vectors and one for the resultant momentum vector. From the parameters of this program the three cars' momentum vectors all need to be crashing at the origin. This means the second point for each data series needs to be (0,0). The first point would actually be the \"opposite\" sign of the i-hats and j-hats. Hopefully, you can easily see how we can do this below.\n",
    "\n",
    "<center><img src=\"http://www.hermonswebsites.com/PyNotebooks/Excelling/6-compvect.jpg\"></center>\n",
    "\n",
    "Our fourth data series is for the resultant vector. It would actually start at (0,0) and end at the i-hat and j-hat which we calculated earlier.\n",
    "\n",
    "<center><img src=\"http://www.hermonswebsites.com/PyNotebooks/Excelling/6_resultv.jpg\"></center>\n"
   ]
  },
  {
   "cell_type": "markdown",
   "metadata": {},
   "source": [
    "## Creating the Graph"
   ]
  },
  {
   "cell_type": "markdown",
   "metadata": {},
   "source": [
    "I would imagine you can create the graph without any help but if you need a reminder here is a small video to help you out.\n",
    "\n",
    "<center><iframe width=\"560\" height=\"315\" src=\"https://www.youtube.com/embed/t2A5yG8vGao\" frameborder=\"0\" allowfullscreen></iframe></center>\n",
    "\n",
    "Again, you will need to write some VBA code to embed this graph into our image on our userform. I named the image on the userform as <b>DemoPic</b>.\n",
    "\n",
    "<center><img src=\"http://www.hermonswebsites.com/PyNotebooks/Excelling/6_embedgraph.jpg\"></center>\n"
   ]
  },
  {
   "cell_type": "markdown",
   "metadata": {},
   "source": [
    "## Final Speed"
   ]
  },
  {
   "cell_type": "markdown",
   "metadata": {},
   "source": [
    "We need to report the final speed in mph back to the userform. To calculate the speed we will take the total momentum divided by the total weight of the 3 car combo. In cell E28 I made an equation to sum all three of the cars weights. Then in cell F28 I divided the total momentum (D15) by the total weight (E28) to give me the final speed.\n",
    "\n",
    "<center><img src=\"http://www.hermonswebsites.com/PyNotebooks/Excelling/6_speed.jpg\"></center>\n",
    "\n",
    "We then need to report it back to the correct label in the userform in VBA code as seen below:\n",
    "\n",
    "<center><img src=\"http://www.hermonswebsites.com/PyNotebooks/Excelling/6_sembed.jpg\"></center>\n",
    "\n",
    "You will notice that we again formatted the output to the tenths place. We also concatenated \" mph\" on to the speed output."
   ]
  },
  {
   "cell_type": "markdown",
   "metadata": {},
   "source": [
    "## Kinetic Energy Lost"
   ]
  },
  {
   "cell_type": "markdown",
   "metadata": {},
   "source": [
    "We also need to report the Kinetic Energy lost back to the userform. To do that we first need to calculate the total of all of the kinetic energies of the three cars originally. As a reminder the equation for kinetic energy is as follows:\n",
    "\n",
    "<center><img src=\"http://www.hermonswebsites.com/PyNotebooks/Excelling/6_KE.png\"></center>\n",
    "\n",
    "First, we determined the kinetic energies of all three cars and added them together.\n",
    "\n",
    "<center><img src=\"http://www.hermonswebsites.com/PyNotebooks/Excelling/6_beforeKE.jpg\"></center>\n",
    "\n",
    "Next, we determined the kinetic energy of the resultant 3-car combo.\n",
    "\n",
    "<center><img src=\"http://www.hermonswebsites.com/PyNotebooks/Excelling/6_KEafter.jpg\"></center>\n",
    "\n",
    "Next, we determined the % kinetic energy lost by subtracting the KE after from the KE before and dividing by the KE before. We also multiplied by 100.\n",
    "\n",
    "<center><img src=\"http://www.hermonswebsites.com/PyNotebooks/Excelling/6_KEloss.jpg\"></center>\n",
    "\n",
    "We then need to report it back to the correct label in the userform in VBA code as seen below: \n",
    "\n",
    "<center><img src=\"http://www.hermonswebsites.com/PyNotebooks/Excelling/6_KEembed.jpg\"></center>\n",
    "\n",
    "You will notice that we again formatted the output to the tenths place. We also concatenated \"%\" sign on to the KE lost output.\n",
    "\n",
    "   Once you've thoroughly tested your program and have an impressive GUI, name it according to the following format: firstname_lastname_programtitle.xlsm and upload it to your instructor."
   ]
  },
  {
   "cell_type": "markdown",
   "metadata": {},
   "source": [
    "<table width=\"100%\" cellpadding=\"2\" cellspacing=\"2\">\n",
    "<tr>\n",
    "<td style=\"border: 1px solid white;\" width=\"100px\">\n",
    "<div>\n",
    "<a href=\"http://nbviewer.ipython.org/github/CSP-UHS/Excelling_at_Physics/blob/master/Chapter05.ipynb\"><img src=\"http://www.hermonswebsites.com/PyNotebooks/Excelling/leftA.png\"  height=\"50px\" width=\"50px\"></a>\n",
    "</div>\n",
    "</td>\n",
    "<td style=\"border: 1px solid white;\">\n",
    "<div align=\"center\">\n",
    "<a href=\"http://nbviewer.ipython.org/github/CSP-UHS/Excelling_at_Physics/blob/master/Chapter00.ipynb\"><h2>Table of Contents</h2></a>\n",
    "</div>\n",
    "</td>\n",
    "<td style=\"border: 1px solid white;\" width=\"100px\">\n",
    "<div>\n",
    "<a href=\"http://nbviewer.ipython.org/github/CSP-UHS/Excelling_at_Physics/blob/master/Chapter07.ipynb\"><img src=\"http://www.hermonswebsites.com/PyNotebooks/Excelling/rightA.png\"  height=\"50px\" width=\"50px\"  align=\"right\"></a>\n",
    "</div>\n",
    "</td>\n",
    "</tr></table>"
   ]
  }
 ],
 "metadata": {
  "kernelspec": {
   "display_name": "Python 2",
   "language": "python",
   "name": "python2"
  },
  "language_info": {
   "codemirror_mode": {
    "name": "ipython",
    "version": 2
   },
   "file_extension": ".py",
   "mimetype": "text/x-python",
   "name": "python",
   "nbconvert_exporter": "python",
   "pygments_lexer": "ipython2",
   "version": "2.7.10"
  }
 },
 "nbformat": 4,
 "nbformat_minor": 0
}
