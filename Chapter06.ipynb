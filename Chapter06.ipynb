{
 "cells": [
  {
   "cell_type": "markdown",
   "metadata": {},
   "source": [
    "<div align=\"right\">\n",
    "<a href=\"http://nbviewer.ipython.org/github/CSP-UHS/Excelling_at_Physics/blob/master/Chapter00.ipynb\" align=\"right\"><h2>Table of Contents</h2></a>\n",
    "</div>"
   ]
  },
  {
   "cell_type": "markdown",
   "metadata": {},
   "source": [
    "# Chapter 6: Demolition Derby Program"
   ]
  },
  {
   "cell_type": "markdown",
   "metadata": {},
   "source": [
    "<img src=\"http://www.hermonswebsites.com/PyNotebooks/Excelling/06_DD.png\" style=\"float: right;\" width=\"200\" height=\"200\">In this chapter we want to examine the conservation of momentum in an inelastic collision. In our example, three cars with different masses and velocities will all crash together and become stuck. In any collision the combined momentum of all objects before the collision is equal to the combined momentum of all objects after the collision. This is called the conservation of momentum. This means that if I can add the three momentum vectors of the individual cars together vectorally before the collision, then this will be equal to the momentum of the 3-car combo after the collision.\n",
    "\n",
    "In <b>ELASTIC</b> collisions the kinetic energy would also be conserved, however, we only come close to elastic collisions at the atomic level. Most everyday collisions are very <b>INELASTIC</b>, which means that kinetic energy is lost. In our program we will need to calulate the % KE lost during the collision. The equations for momentum and kinetic energy are as follows:<br><br>\n",
    "<center><img src=\"http://www.hermonswebsites.com/PyNotebooks/Excelling/6equations.png\"></center>"
   ]
  },
  {
   "cell_type": "markdown",
   "metadata": {},
   "source": [
    "## Program Parameters"
   ]
  },
  {
   "cell_type": "markdown",
   "metadata": {},
   "source": [
    "<b>INPUTS:</b>\n",
    "<ul>\n",
    "<li>A user can choose a weight for each car from 2-10 tons in 0.5 ton increments.</li>\n",
    "<li>A user can choose a velocity for each car from 20-100 mph  in 5 mph increments and 10-360 deg in 10 deg. increments.</li>\n",
    "</ul><br>\n",
    "<b>OUTPUTS:</b>\n",
    "<ul>\n",
    "<li>Graphical output of the three momentum vectors crashing at the origin.</li>\n",
    "<li>Graphical output of the resultant momentum vector.</li>\n",
    "<li>Output the final speed of the 3 car object in mph.</li>\n",
    "<li>Output the % Kinetic Energy Loss</li>\n",
    "</ul><br>\n",
    "<b>CRITERIA & CONSTRAINTS:</b>\n",
    "<ul>\n",
    "<li>Assume that momentum is conserved and that all three cars stick together at impact.</li>\n",
    "<li>Your program should have an impressive interface. (colors and graphics)</li>\n",
    "<li>Show three differently colored cars and color each momentum vector accordingly.</li>\n",
    "<li>Un-click the Major Unit box on both axes of the graph and enter a value of 1. This way if all angles entered by the user are 180 or 360 the graph will look correct.</li>\n",
    "<li>Specify in what units the user is entering data.</li>\n",
    "<li>Make sure your name is printed somewhere on the interface of your program. (ex. \"Hermon's Programming\")</li>\n",
    "<li>When you upload your program name it accordingly: (firstname_lastname_programtitle.xlsm)</li>\n",
    "<li>Make a title for your program at the top of the user window.</li>\n",
    "</ul>"
   ]
  },
  {
   "cell_type": "markdown",
   "metadata": {},
   "source": [
    "## Building the GUI"
   ]
  },
  {
   "cell_type": "markdown",
   "metadata": {},
   "source": [
    "Here is a video of a Demolition Derby Program in action.\n",
    "<br>\n",
    "<center><iframe width=\"420\" height=\"315\" src=\"https://www.youtube.com/embed/yjcA4XA1hLo\" frameborder=\"0\" allowfullscreen></iframe></center>\n",
    "<br>\n",
    "As you can see in this userform we used 9 combo boxes to choose weights, velocities and angles for each colored car and 2 output labels for the final velocity and %KE lost. We also again used an image for the graph. We have not used combo boxes in our user forms yet. Here is how you do it.\n",
    "\n",
    "<h3>Combo Boxes</h3>\n",
    "\n",
    "\n",
    "<br><br>\n",
    "If you remember from the last chapter to add a combo box to your userform you select the combo box icon from the toolbox and drag the size you want on your interface.\n",
    "<br><br>\n",
    "<center><img src=\"http://www.hermonswebsites.com/PyNotebooks/Excelling/6_cb.png\"></center>\n",
    "\n",
    "<br><br>\n",
    "When you've selected a combo box on your userform you can give it a name over in the Properties box on the left. I named all of mine like this: <b>BlueWeight, RedWeight, GreenWeight, BlueV, RedV, GreenV, BlueA, RedA and GreenA</b>.  \n",
    "\n",
    "In the <b>Text</b> property of the combo box I put the name of the first item I wanted listed in that particular dropdown list. For all the weights, I entered 2. For all the velocities I entered 20. For the Degrees from North, I entered 60 for the blue car, 180 for the red car and 300 for the green car. This way if a user clicks the <b>\"CRASH!\"</b> button immediately without changing anything there will not be an error. Also this data is a unique case in which the resultant will be zero which means there will be no final velocity and we will have a 100% loss in energy.\n",
    "\n",
    "To get all of the items into the combo boxes last time we used <b>.AddItem</b> when the userform was initialized. You could do this again if you would like but this time we are going to show you a much easier way. In your spreadsheet make 3 columns with what you need for the dropdown menus. I actually had my <b>degrees</b> column start with 10 and then go all the way down to 360. \n",
    "<br><br>\n",
    "<center><img src=\"http://www.hermonswebsites.com/PyNotebooks/Excelling/6_combodata.jpg\"></center>\n",
    "<br><br>\n",
    "Once you have these columns you can very easily populate each combo box by just referencing these columns in the <b>\"RowSource\"</b> parameter in the Properties panel on the left side of the screen. Below is what I entered into the RowSource for all three of the Weight combo boxes.\n",
    "<br><br>\n",
    "<center><img src=\"http://www.hermonswebsites.com/PyNotebooks/Excelling/6_rowsource.jpg\"></center>\n",
    "<br><br>\n",
    "Yeah, I know that's super easy and I should have showed you that last chapter. But then you wouldn't have learned any more VBA code!\n",
    "\n"
   ]
  },
  {
   "cell_type": "markdown",
   "metadata": {},
   "source": [
    "## Spreadsheet Calculations"
   ]
  },
  {
   "cell_type": "markdown",
   "metadata": {},
   "source": [
    "In this example program I renamed the command button, <b>\"Crash\"</b>. So, as in the other programs within the <b>Crash_Click()</b> subroutine the first thing to do is take all of the userdata and transfer it to your spreadsheet to do your calculations. We will pass all 9 combo boxes from the userform to the spreadsheet. Below is the code that transfers the data from the userform to the spreadsheet. Hopefully you can see which spreadsheet cells the data was entered into.\n",
    "<br><br>\n",
    "<center><img src=\"http://www.hermonswebsites.com/PyNotebooks/Excelling/6_enterdata.jpg\"></center>"
   ]
  },
  {
   "cell_type": "markdown",
   "metadata": {},
   "source": [
    "## Calculating Momentums"
   ]
  },
  {
   "cell_type": "markdown",
   "metadata": {},
   "source": [
    "The first thing we will do on our spreadsheet is to multiply the mass by the velocity for each car to calculate the magnitude of each car's momentum. These will not be in standard units but that is ok for this program.\n",
    "<br>\n",
    "<center><img src=\"http://www.hermonswebsites.com/PyNotebooks/Excelling/6_mom.jpg\"></center>\n",
    "<br><br>\n",
    "Also, here is how we determined our \"c\" value:\n",
    "<br>\n",
    "<center><img src=\"http://www.hermonswebsites.com/PyNotebooks/Excelling/5_c.png\"></center>\n",
    "<br><br>\n",
    "Now that we've determined our a, b and c values, we can enter them into the quadratic formula. There will be two possible answers: One for the minus and one for the positive versions of the quadratic formula. Below, I have just shown the \"minus\" version.\n",
    "<br>\n",
    "<center><img src=\"http://www.hermonswebsites.com/PyNotebooks/Excelling/5_minus.png\"></center><br>\n",
    "Make sure you also do the positive version. Its important to remember that these answers are NOT the angles. They are the TANGENT of the angles. Therefore to get the angles you will have to determine the ARCTAN of each of your answers. Below is how we do that:\n",
    "<center><img src=\"http://www.hermonswebsites.com/PyNotebooks/Excelling/5_radians.png\"></center><br>\n",
    "\n",
    "These angles will be calculated in RADIANS. That is ok because to do further work with these angles we need the angle to stay in radians. However, we do want to send the two angles back to the userform in \"DEGREES\". Below is how we do that.\n",
    "<br>\n",
    "<center><img src=\"http://www.hermonswebsites.com/PyNotebooks/Excelling/5_degrees.png\"></center>\n",
    "<br>\n",
    "What if there is an error? For example if there is no way that the entered velocity would be able to achieve the entered range? We need to catch the error so that our program does not break. We can do that as follows:<br>\n",
    "<center><img src=\"http://www.hermonswebsites.com/PyNotebooks/Excelling/5_errordeg.png\"></center>\n",
    "<br>\n",
    "Finally, if there was an error we also want to print a message back to our userface, but first we will create it in our spreadsheet by doing the following:<br>\n",
    "<center><img src=\"http://www.hermonswebsites.com/PyNotebooks/Excelling/5_caption.png\"></center>\n",
    "<br>\n",
    "\n",
    "\n"
   ]
  },
  {
   "cell_type": "markdown",
   "metadata": {},
   "source": [
    "## Embedding the Angles in the Userform"
   ]
  },
  {
   "cell_type": "markdown",
   "metadata": {},
   "source": [
    "Hopefully, you still remember how to print something from our spreadsheet back into our userform. We want to insert both angles as well as the error message. The three labels that were set up for this were named: Angle1, Angle2 and Error. Below is the VBA that shows how to embed them back into the userform\n",
    "<br>\n",
    "<center><img src=\"http://www.hermonswebsites.com/PyNotebooks/Excelling/5-angleprint.png\"></center>\n",
    "<br>\n",
    "Notice that for the angles we used the <b>Format</b> method once again to format the angles to the tenths place. We also added a degree symbol to the angles by using \"<b>& Chr(176)</b>\". This will concatenate the degree symbol onto your angle."
   ]
  },
  {
   "cell_type": "markdown",
   "metadata": {},
   "source": [
    "## Creating Data for the Graph"
   ]
  },
  {
   "cell_type": "markdown",
   "metadata": {},
   "source": [
    "We now need to create the data to build our graph. In our graph we want to see the two possible trajectories of the launched objects. The x-axis will need to be the horizontal range and the y-axis will need to be the vertical displacement. We'll start with the x-data because it is very easy. The user will have already entered in the final horizontal displacement (Range) of the object. This would be the same for either angle. We are just going to divide that range up into 10 increments to use on our x-axis. In the program below that was done in cell F11.\n",
    "<br>\n",
    "<center><img src=\"http://www.hermonswebsites.com/PyNotebooks/Excelling/5_10points.png\"></center>\n",
    "<br>\n",
    "Now we make a column for our Range (x-axis). In the first cell (E14 for the example) we just put zero. In the next cell we want to add the previous cell to the 10-point increment. We will be dragging this formula down until we get to our range, so we will want to make sure we reference F11 with `$` signs. `$`F`$`11 so it always pulls from that cell as seen below. Since we are dragging rows DOWN instead of columns OVER I technically did not need the `$` in front of the F.\n",
    "<br>\n",
    "<center><img src=\"http://www.hermonswebsites.com/PyNotebooks/Excelling/5_range.png\"></center>\n",
    "<br>\n",
    "Now we want to determine the vertical position of the object for each range location. To do this we first need to determine the <b>time</b> it will take for the object to get to that particular range. We can do this by using the following equation:\n",
    "<br>\n",
    "<center><img src=\"http://www.hermonswebsites.com/PyNotebooks/Excelling/5_tequation.png\"></center>\n",
    "<br>\n",
    "Below is how we did it in the spreadsheet. Remember you will need to use `$` signs for the velocity and angle 1 because we want these cells to remain static. We will then drag that equation down. You will then have to create another time column for the other angle.\n",
    "<br>\n",
    "<center><img src=\"http://www.hermonswebsites.com/PyNotebooks/Excelling/5_timeeq1.png\"></center>\n",
    "<br>\n",
    "Now we can use the following equation to calculate the vertical displacements at each time.\n",
    "<br>\n",
    "<center><img src=\"http://www.hermonswebsites.com/PyNotebooks/Excelling/5_verteq.png\"></center>\n",
    "<br>\n",
    "Below is how we did it in the spreadsheet. Remember to again use `$` signs on everything except the times. Then drag the equation down. You need to do another column of vertical displacement for the second time column also.\n",
    "<br>\n",
    "<center><img src=\"http://www.hermonswebsites.com/PyNotebooks/Excelling/5_overall.png\"></center>\n",
    "<br>"
   ]
  },
  {
   "cell_type": "markdown",
   "metadata": {},
   "source": [
    "## Creating the Graph"
   ]
  },
  {
   "cell_type": "markdown",
   "metadata": {},
   "source": [
    "We will have two series in this graph; one trajectory for each angle. The x-axis will be the Range column and the 2 y-axes will be S1 and S2. If you select the Range and S1 columns you can create your smooth scatter plot. Then you can right-click the graph and choose \"Select Data\" to bring up the following window where you can edit the first series and then add in another series.\n",
    "<br>\n",
    "<center><img src=\"http://www.hermonswebsites.com/PyNotebooks/Excelling/5_Select_Data.png\"></center>\n",
    "<br>\n",
    "You can work on the colors of the chart as well as the axes labels. In your userform VBA code you need to include the code that will embed this graph into your userform. If you forgot how to do this from the previous chapter I have again included the code below. The name of the image location in the userform was renamed to \"Trajectories\", as you can see below.\n",
    "<br>\n",
    "<center><img src=\"http://www.hermonswebsites.com/PyNotebooks/Excelling/5_embedchart.png\"></center>\n",
    "<br>\n",
    "    Once you've thoroughly tested your program and have an impressive GUI, name it according to the following format: firstname_lastname_programtitle.xlsm and upload it to your instructor."
   ]
  },
  {
   "cell_type": "markdown",
   "metadata": {},
   "source": [
    "<table width=\"100%\" cellpadding=\"2\" cellspacing=\"2\">\n",
    "<tr>\n",
    "<td style=\"border: 1px solid white;\" width=\"100px\">\n",
    "<div>\n",
    "<a href=\"http://nbviewer.ipython.org/github/CSP-UHS/Excelling_at_Physics/blob/master/Chapter05.ipynb\"><img src=\"http://www.hermonswebsites.com/PyNotebooks/Excelling/leftA.png\"  height=\"50px\" width=\"50px\"></a>\n",
    "</div>\n",
    "</td>\n",
    "<td style=\"border: 1px solid white;\">\n",
    "<div align=\"center\">\n",
    "<a href=\"http://nbviewer.ipython.org/github/CSP-UHS/Excelling_at_Physics/blob/master/Chapter00.ipynb\"><h2>Table of Contents</h2></a>\n",
    "</div>\n",
    "</td>\n",
    "<td style=\"border: 1px solid white;\" width=\"100px\">\n",
    "<div>\n",
    "<a href=\"http://nbviewer.ipython.org/github/CSP-UHS/Excelling_at_Physics/blob/master/Chapter07.ipynb\"><img src=\"http://www.hermonswebsites.com/PyNotebooks/Excelling/rightA.png\"  height=\"50px\" width=\"50px\"  align=\"right\"></a>\n",
    "</div>\n",
    "</td>\n",
    "</tr></table>"
   ]
  }
 ],
 "metadata": {
  "kernelspec": {
   "display_name": "Python 2",
   "language": "python",
   "name": "python2"
  },
  "language_info": {
   "codemirror_mode": {
    "name": "ipython",
    "version": 2
   },
   "file_extension": ".py",
   "mimetype": "text/x-python",
   "name": "python",
   "nbconvert_exporter": "python",
   "pygments_lexer": "ipython2",
   "version": "2.7.10"
  }
 },
 "nbformat": 4,
 "nbformat_minor": 0
}
