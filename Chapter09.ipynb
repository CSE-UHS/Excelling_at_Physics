{
 "cells": [
  {
   "cell_type": "markdown",
   "metadata": {
    "deletable": true,
    "editable": true
   },
   "source": [
    "<div align=\"right\">\n",
    "<a href=\"http://nbviewer.ipython.org/github/CSP-UHS/Excelling_at_Physics/blob/master/Chapter00.ipynb\" align=\"right\"><h2>Table of Contents</h2></a>\n",
    "</div>"
   ]
  },
  {
   "cell_type": "markdown",
   "metadata": {
    "deletable": true,
    "editable": true
   },
   "source": [
    "# Project 7: Sound Beats"
   ]
  },
  {
   "cell_type": "markdown",
   "metadata": {
    "deletable": true,
    "editable": true
   },
   "source": [
    "## The Physics Explanation"
   ]
  },
  {
   "cell_type": "markdown",
   "metadata": {
    "deletable": true,
    "editable": true
   },
   "source": [
    "<img src=\"http://www.hermonswebsites.com/PyNotebooks/Excelling/9_sound.jpeg\" style=\"float: right;\">In this chapter we will examine what happens when two sine waves of different frequencies interfere. The diagram below illustrates the wave interference pattern resulting from two waves (drawn in purple and red) with very similar frequencies. A beat pattern (blue wave) emerges where the amplitude is changing at a regular rate. If two crests on the waves line up with each other, constructive interference occurs and the resulting amplitude is larger. If a crest and a trough line up then destructive interference occurs and the resulting amplitude can decrease to zero. Since a taller amplitude means a louder sound, the resulting wave will have pulses of loudness and softness.\n",
    "<center><img src=\"http://www.hermonswebsites.com/PyNotebooks/Excelling/9_beats.gif\"></center>\n",
    "The beat frequency refers to the rate at which the volume is heard to be changing from high to low volume. For example, if two complete cycles of high and low volumes are heard every second, the beat frequency is 2 Hz. The beat frequency is always equal to the difference in frequency between the two interfering waves. So if two sound waves with frequencies of 256 Hz and 250 Hz are played simultaneously, a beat frequency of 6 Hz will be heard. The human ear is capable of detecting beats frequencies of around 7 Hz and below.\n",
    "\n",
    "In music we use beat frequencies to tune instruments. A standard frequency tone is played and then an instrument is played along with it. For woodwinds the instrument is lengthened or shortened to try to reduce the beats to zero.\n"
   ]
  },
  {
   "cell_type": "markdown",
   "metadata": {
    "deletable": true,
    "editable": true
   },
   "source": [
    "## Program Parameters"
   ]
  },
  {
   "cell_type": "markdown",
   "metadata": {
    "deletable": true,
    "editable": true
   },
   "source": [
    "<b>INPUTS:</b>\n",
    "<ul>\n",
    "<li>A user can update two frequencies from 20 to 30 Hz by 1 Hz increments.</li>\n",
    "<li>A user can update the phase shift from 0-999 by 0.5&ordm; increments.</li>\n",
    "<li>A user can click a button to hear the beat frequency</li>\n",
    "</ul><br>\n",
    "<b>OUTPUTS:</b>\n",
    "<ul>\n",
    "<li>A graphical output of both frequency sine waves overlaid with different colors.</li>\n",
    "<li>A second graphical output of the beat frequency sine wave.</li>\n",
    "<li>The correct beat frequency wave file will be played.</li>\n",
    "</ul><br>\n",
    "<b>CRITERIA & CONSTRAINTS:</b>\n",
    "<ul>\n",
    "<li>Color the Frequency labels and scrollbars the same color as its sine wave in the graph.</li>\n",
    "<li>Don't actually print the phase shift on the screen. Turn the spinner horizontal and make it fairly big. This is then used to make the waves appear that they are moving.</li>\n",
    "<li>You will need to create 11 wave files in a folder called beats: 0 beats/s to 10 beats/s</li>\n",
    "<li>Your program should have an impressive interface. (colors and graphics)</li>\n",
    "<li>Make sure your name is printed somewhere on the interface of your program. (ex. \"Hermon's Programming\")</li>\n",
    "<li>When you upload your program name it accordingly: (firstname_lastname_programtitle.xlsm)</li>\n",
    "<li>Make a title for your program at the top of the user window.</li>\n",
    "</ul>"
   ]
  },
  {
   "cell_type": "markdown",
   "metadata": {
    "deletable": true,
    "editable": true
   },
   "source": [
    "Here is a video of a Sound Beats Excel Program in action.\n",
    "<br>\n",
    "<center><iframe width=\"800\" height=\"600\" src=\"https://www.youtube.com/embed/m6qnj2DdAro?rel=0&amp;showinfo=0\" frameborder=\"0\" allowfullscreen></iframe></center>"
   ]
  },
  {
   "cell_type": "markdown",
   "metadata": {
    "deletable": true,
    "editable": true
   },
   "source": [
    "## Spreadsheet Calculations"
   ]
  },
  {
   "cell_type": "markdown",
   "metadata": {
    "deletable": true,
    "editable": true
   },
   "source": [
    "\n",
    "For this program we will be using basically the same code we used for the Oscilloscope program. I would suggest making a copy of that program and renaming it Sound_Beats.xlsm. \n",
    "### Calculating Beat Frequency\n",
    "Beats are easy to calculate. You simply subtract the two frequencies. In Cell D3 we will quickly calculate this beat freqency. Notice we used the <b>ABS( )</b>, absolute value function so as to not have a negative beat freqency.\n",
    "\n",
    "<center><img src=\"http://www.hermonswebsites.com/PyNotebooks/Excelling/9_beatsub.JPG\"></center>\n",
    "\n",
    "\n",
    "### Graphing the Frequencies\n",
    "If you remember from the Oscilloscope program, the two equations below (one with the phase shift and one without) were graphed against each other (columns B and C) to make Lissajou Patterns. This time we want to graph each of those columns against the time (column A). You should do this as two data series on the same graph. Make one of the sine waves blue and the other one red. This will be your <b>Chart 1</b> object.\n",
    "\n",
    "<center><img src=\"http://www.hermonswebsites.com/PyNotebooks/Excelling/7_sine1.png\"></center>\n",
    "<center><img src=\"http://www.hermonswebsites.com/PyNotebooks/Excelling/7_sine2.png\"></center>\n",
    "\n",
    "\n",
    "### Graphing the Beat Frequency\n",
    "Next, in column D we are going to simply add the two frequencies together and then drag the column down to row 365. Now, in a second graph we will plot this column against the time (column A). This graph should show oscillating beats of loudness and softness as long as the two frequencies aren't the same.\n",
    "<center><img src=\"http://www.hermonswebsites.com/PyNotebooks/Excelling/9_addbeats.JPG\"></center>\n"
   ]
  },
  {
   "cell_type": "markdown",
   "metadata": {
    "deletable": true,
    "editable": true
   },
   "source": [
    "## Sound Files\n",
    "\n",
    "\n",
    "Before we move on with our program we need to create 11 sound (.wav) files from 0 beats/sec up to 10 beats/sec. Go ahead and create a new folder called, <b>beats</b> where we will store our audio files once we create them. You will store this folder wherever your program is also stored. Now, in a web browser navigate to <a href=\"http://www.audiocheck.net/audiofrequencysignalgenerator_dual.php\" target=\"_blank\">http://www.audiocheck.net/audiofrequencysignalgenerator_dual.php</a> to begin creating the audio files. In the <b>Dual Tone Generator</b> box enter 200 in for Frequency 1 and also 200 in for Frequency 2. For the duration use 2.0 seconds. Click the <b>DOWNLOAD .WAV FILE</b> button and name the downloaded file 0beats.wav. Now keep incrementing Frequency 2 by one and downloading and appropriately naming each .wav file. Put all audio files into your <b>beats</b> folder.\n",
    "\n",
    "<center><img src=\"http://www.hermonswebsites.com/PyNotebooks/Excelling/9_beatgen.png\"></center>"
   ]
  },
  {
   "cell_type": "markdown",
   "metadata": {
    "deletable": true,
    "editable": true
   },
   "source": [
    "## Scrollbars\n",
    "\n",
    "\n",
    "In our Oscilloscope program we learned how to use <b>spin buttons</b>. You can go ahead and delete those from your user interface at this time. We are going to learn to use something similar called a <b>scrollbar</b>. You can choose a scrollbar from the Toolbox as seen below to put onto your userform. Draw one under your horizontal frequency label. \n",
    "\n",
    "<center><img src=\"http://www.hermonswebsites.com/PyNotebooks/Excelling/9_ScrollBars.JPG\"></center>\n",
    "\n",
    "\n",
    "<img src=\"http://www.hermonswebsites.com/PyNotebooks/Excelling/9_scrollproperty.JPG\" style=\"float: left; padding: 25px;\">\n",
    "\n",
    "<br><br>\n",
    "Once you've done that let's look over to the left in the Properties panel. As you can see I changed several parameters for the horizontal scrollbar. \n",
    "\n",
    "<ul>\n",
    "<li>In the <b>(Name)</b> parameter I entered \"Hscroll\".</li>\n",
    "<li>In the <b>BackColor</b> parameter I chose the same color as the horizontal frequency label. </li>\n",
    "<li>In the <b>Delay</b> parameter I entered \"10\" so if I click on the scroller it will update more quickly. </li>\n",
    "<li>In the <b>LargeChange and SmallChange</b> parameters I entered \"1\" as the increment value. </li>\n",
    "<li>In the <b>Max</b> parameter I entered \"30\" and in the <b>Min</b> parameter I entered \"20\". </li>\n",
    "<li>In the <b>Orientation</b> parameter I chose \"OrientationHorizontal\". </li>\n",
    "<li>In the <b>Value</b> parameter I entered \"25\" so that the slider would be in the middle of the scrollbar.</li>\n",
    "</ul>\n",
    "\n",
    "Create a different colored scrollbar for the vertical frequency as well.\n"
   ]
  },
  {
   "cell_type": "markdown",
   "metadata": {
    "deletable": true,
    "editable": true
   },
   "source": [
    "## Coding the GUI\n",
    "\n",
    "\n",
    "When we first open up the userform we would like to already have the frequencies and graphs loaded. To do this click on the userform to start a subroutine. In the top right dropdown make sure <b>Initialize</b> is chosen. In this code below we make sure the values of the scrollbars are entered into the correct worksheet cells and then those values are transferred back into the labels of the horizontal and vertical frequencies.\n",
    "\n",
    "We also make sure that both graphs are embedded in the userform. You will need two different images in your userform in which to load the graphs. In the example below they were named <b>HVgraph</b> and <b>Bgraph</b>. Also you now have TWO chart objects so you will have to modify your code a little for your second graph as seen below.\n",
    "<center><img src=\"http://www.hermonswebsites.com/PyNotebooks/Excelling/9_initialize.JPG\"></center>\n",
    "\n",
    "If you double click on the horizontal frequency scrollbar (which is named <b>Hscroll</b> below) it will start an <b>Hscroll_Change( )</b> subroutine. The code below will modify the Horizontal.Caption and the spreadsheet each time the scrollbar is adjusted. You will have to also update both graphs each time the horizontal and vertical scrollbars are moved.\n",
    "\n",
    "<center><img src=\"http://www.hermonswebsites.com/PyNotebooks/Excelling/9_hscrollchange.JPG\"></center>\n",
    "\n",
    "How do we play the audio files? I created a button on this userform called, <b>PlayBeats</b>. When this button is clicked we want to check cell D3 and play the corresponding audio file. Before we can do this we need to enter in a function that allows us to play sounds. Below is the code for how to do that.\n",
    "<br><br>\n",
    "\n",
    "<center><img src=\"http://www.hermonswebsites.com/PyNotebooks/Excelling/9_playsoundfunction.JPG\"></center>\n",
    "<br>\n",
    "\n",
    "Now, double click on the button. This will open a <b>Click( )</b> event on the button. We will then use <b>If-Then-ElseIf</b> statements to determine which audio file to play depending on cell D3.\n",
    "\n",
    "<center><img src=\"http://www.hermonswebsites.com/PyNotebooks/Excelling/9_ifbeats.JPG\"></center>\n",
    "\n",
    "\n",
    "\n"
   ]
  },
  {
   "cell_type": "markdown",
   "metadata": {
    "deletable": true,
    "editable": true
   },
   "source": [
    "<table width=\"100%\" cellpadding=\"2\" cellspacing=\"2\">\n",
    "<tr>\n",
    "<td style=\"border: 1px solid white;\" width=\"100px\">\n",
    "<div>\n",
    "<a href=\"http://nbviewer.ipython.org/github/CSP-UHS/Excelling_at_Physics/blob/master/Chapter08.ipynb\"><img src=\"http://www.hermonswebsites.com/PyNotebooks/Excelling/leftA.png\"  height=\"50px\" width=\"50px\"></a>\n",
    "</div>\n",
    "</td>\n",
    "<td style=\"border: 1px solid white;\">\n",
    "<div align=\"center\">\n",
    "<a href=\"http://nbviewer.ipython.org/github/CSP-UHS/Excelling_at_Physics/blob/master/Chapter00.ipynb\"><h2>Table of Contents</h2></a>\n",
    "</div>\n",
    "</td>\n",
    "<td style=\"border: 1px solid white;\" width=\"100px\">\n",
    "<div>\n",
    "<a href=\"http://nbviewer.ipython.org/github/CSP-UHS/Excelling_at_Physics/blob/master/Chapter10.ipynb\"><img src=\"http://www.hermonswebsites.com/PyNotebooks/Excelling/rightA.png\"  height=\"50px\" width=\"50px\"  align=\"right\"></a>\n",
    "</div>\n",
    "</td>\n",
    "</tr></table>"
   ]
  }
 ],
 "metadata": {
  "kernelspec": {
   "display_name": "Python 3",
   "language": "python",
   "name": "python3"
  },
  "language_info": {
   "codemirror_mode": {
    "name": "ipython",
    "version": 3
   },
   "file_extension": ".py",
   "mimetype": "text/x-python",
   "name": "python",
   "nbconvert_exporter": "python",
   "pygments_lexer": "ipython3",
   "version": "3.5.2"
  }
 },
 "nbformat": 4,
 "nbformat_minor": 0
}
