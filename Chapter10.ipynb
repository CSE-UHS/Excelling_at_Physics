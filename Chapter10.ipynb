{
 "cells": [
  {
   "cell_type": "markdown",
   "metadata": {},
   "source": [
    "<div align=\"right\">\n",
    "<a href=\"http://nbviewer.ipython.org/github/CSP-UHS/Excelling_at_Physics/blob/master/Chapter00.ipynb\" align=\"right\"><h2>Table of Contents</h2></a>\n",
    "</div>"
   ]
  },
  {
   "cell_type": "markdown",
   "metadata": {},
   "source": [
    "# Project 8: Photoelectric Effect"
   ]
  },
  {
   "cell_type": "markdown",
   "metadata": {},
   "source": [
    "## The Physics Explanation"
   ]
  },
  {
   "cell_type": "markdown",
   "metadata": {},
   "source": [
    "<p><img src=\"http://www.hermonswebsites.com/PyNotebooks/Excelling/10_PE.gif\" style=\"float: right;\">In the 1800's, the photoelectric effect posed a significant challenge to the classical wave theory of light, which was the prevailing theory of the time. It was the solution to this physics dilemma that catapulted Einstein into prominence in the physics community, ultimately earning him the 1921 Nobel Prize.</p>\n",
    "\n",
    "<h3>What is the Photoelectric Effect?</h3>\n",
    "<p>Though originally observed in 1839, the photoelectric effect was documented by Heinrich Hertz in 1887. It was originally called the Hertz effect in fact, though this name fell out of use. When a light source (or, more generally, electromagnetic radiation) is incident upon a metallic surface, the surface can emit electrons. Electrons emitted in this fashion are called photoelectrons (although they are still just electrons).</p> \n",
    "\n",
    "<h3>Setting Up the Photoelectric Effect</h3>\n",
    "\n",
    "<p>To observe the photoelectric effect, you create a vacuum chamber with the photoconductive metal at one end and a collector at the other. When a light shines on the metal, the electrons are released and move through the vacuum toward the collector. This creates a current in the wires connecting the two ends, which can be measured with an ammeter.</p>\n",
    "<img src=\"http://www.hermonswebsites.com/PyNotebooks/Excelling/10-current.jpg\">\n",
    "<p>By administering a negative voltage potential to the collector, it takes more energy for the electrons to complete the journey and initiate the current. The point at which no electrons make it to the collector is called the stopping potential or voltage cutoff V<sub>co</sub>, and can be used to determine the maximum kinetic energy KE<sub>max</sub> of the electrons. It is significant to note that not all of the electrons will have this energy, but will be emitted with a range of energies based upon the properties of the metal being used. The above equation allows us to calculate the maximum kinetic energy or, in other words, the energy of the particles knocked free of the metal surface with the greatest speed, which will be the trait that is most useful in the rest of this analysis.</p>\n",
    "\n",
    "<h3>The Classical Wave Explanation</h3>\n",
    "<p>In classical wave theory, the energy of electromagnetic radiation is carried within the wave itself. As the electromagnetic wave (of intensity I) collides with the surface, the electron absorbs the energy from the wave until it exceeds the binding energy, releasing the electron from the metal. The minimum energy needed to remove the electron is called the <b>work function</b> of the material. </p>\n",
    "\n",
    "<p><b>Three main predictions come from wave theory:</b></p>\n",
    "<p>\n",
    "1)\tThe intensity of the radiation should have a proportional relationship with the resulting maximum kinetic energy.<br>\n",
    "2)\tThe photoelectric effect should occur for any light, regardless of frequency or wavelength.<br>\n",
    "3)\tThere should be a delay on the order of seconds between the radiation’s contact with the metal and the initial release of photoelectrons.</p>\n",
    "\n",
    "<p><b>The Experimental Result</b></p>\n",
    "<p>By 1902, the properties of the photoelectric effect were well documented. Experiments showed the following laws of photoelectric emission:</p>\n",
    "<p>\n",
    "1)\tThe intensity of the light source is proportional to the number of photoelectrons<br>\n",
    "2)\tThe intensity of the light source has no effect on the kinetic energy of the photoelectrons.<br>\n",
    "3)\tBelow a certain frequency (fco) for each type of metal the photoelectric effect does not occur at all. The kinetic energy of the photoelectrons increases as the frequency above the cutoff frequency increases.</p>\n",
    "\n",
    "<img src=\"http://www.hermonswebsites.com/PyNotebooks/Excelling/10-KE.jpg\">\n",
    "\n",
    "<p>There was also no significant delay (less than 10<sup>-9</sup> s) between the light source activation and the emission of the first photoelectrons. As you can tell, these three laws are the exact opposite of the wave theory predictions. Therefore, Max Planck speculated that just like matter is composed of small particles called atoms, energy is composed of small \"chunks\" called quanta. Einstein said that light also consisted of particles or quanta called photons. The energy of each photon of light is given by the following equation where h is called Planck's constant (6.63 x 10<sup>-34</sup> Js)</p>\n",
    "\n",
    "<h1><center>E=hf</center></h1>\n",
    "\n",
    "<p>In the early 1900’s Einstein won the Nobel Prize for the following simple Photoelectric Equation:</p>\n",
    "\n",
    "<h1><center>KE = hf - w</center></h1>\n",
    "\n",
    "<p>This simply says that if the work function (w) of a certain metal is less than the energy of an incoming photon (hf) then photoelectrons will be ejected with a certain amount of kinetic energy (KE). The larger the photon energy (hf) is compared to the work function of the metal, the more kinetic energy and thus the more velocity the ejected photoelectrons will have.</p>\n",
    "\n",
    "<p>If the photon energy is equal to or less than the work function of the metal then the photoelectric effect will not be observed because no photoelectrons will be ejected. If you set the kinetic energy of the photoelectrons to zero, then the cutoff frequency can be calculated by simply dividing the work function of the metal by Planck’s constant. In the graphic at the top of this page, the frequency is given by the Greek letter (nu) which looks like a v. Don't get confused! To perform calculations in this excel program you will need to know at least three other conversions:</p>\n",
    "\n",
    "<h3>c = f&lambda; (where c is the speed of light and is equal to 3x10<sup>8</sup> m/s)</h3>\n",
    "<h3>1 meter = 1x10<sup>9</sup> nm</h3>\n",
    "<h3>1 electronVolt (eV) = 1.6x10<sup>-19</sup> J</h3>\n",
    "\n",
    "<p>Before we start on this excel program we better test ourselves to see if we understand the math behind the photoelectric effect. Let's do this by validating the information about the blue photon in the picture at the top of this page. Clearly we can see that a photoelectron is ejected because the incoming blue photon energy of 3.1 eV is greater than the work function of Potassium metal which is 2.0 eV. This means that the ejected electron will have kinetic energy of 1.1 eV.</p>\n",
    "\n",
    "<p>The blue photon has a wavelength of 400 nm. Convert this to meters:</p>\n",
    "<h3><center>&lambda; = 400/1x10<sup>9</sup> = 4x10<sup>-7</sup> meters</center></h3>\n",
    "<p>Determine the frequecy of this blue photon:</p>\n",
    "<h3><center>frequency = c/&lambda; = 3x10<sup>8</sup>/4x10<sup>-7</sup> = 7.5x10<sup>14</sup> Hz</center></h3>\n",
    "<p>Determine the energy of this blue photon in Joules:</p>\n",
    "<h3><center>Energy = hf = (6.63 x 10<sup>-34</sup>)(7.5x10<sup>14</sup>) = 4.97x10<sup>-19</sup> Joules</center></h3>\n",
    "<p>Convert the energy of this blue photon into eV:</p>\n",
    "<h3><center>Energy = 4.97x10<sup>-19</sup>/1.6x10<sup>-19</sup> = 3.1 eV (This confirms the above graphic)</center></h3>\n",
    "<p>Convert the work function into Joules:</p>\n",
    "<h3><center>Energy = (2.0)(1.6x10<sup>-19</sup>) = 3.2x10<sup>-19</sup></center></h3>\n",
    "<p>Determine the kinetic energy of the ejected electron in Joules:</p>\n",
    "<h3><center>KE = hf-w   = 4.97x10<sup>-19</sup>-3.2x10<sup>-19</sup> = 1.77x10<sup>-19</sup> Joules</center></h3>\n",
    "<p>Knowing that the formula for kinetic energy is .5mv<sup>2</sup> and the mass of an electron is 9.1x10<sup>-31</sup> kilograms, determine the velocity of the ejected electron:</p>\n",
    "<h3><center>Solving for v=SQRT(2KE/m)</center></h3>\n",
    "<h3><center>velocity = SQRT((2)*(1.77x10<sup>-19</sup>)/(9.1x10<sup>-31</sup>)) = 6.2x10<sup>5</sup> m/s (This confirms the above graphic)</center></h3>\n",
    "\n"
   ]
  },
  {
   "cell_type": "markdown",
   "metadata": {},
   "source": [
    "## Program Parameters"
   ]
  },
  {
   "cell_type": "markdown",
   "metadata": {},
   "source": [
    "<b>INPUTS:</b>\n",
    "<ul>\n",
    "<li>A user can choose from a dropdown of metals: Cadmium, Calcium, Carbon, Cesium, Lithium, Neodymium, Potassium, Silver, Sodium and Zinc.</li>\n",
    "<li>A user can choose from a dropdown of incident photon wavelengths from 100-700 nm with increments of 25.</li>\n",
    "<li>A user will click a button to see the results.</li>\n",
    "</ul><br>\n",
    "<b>OUTPUTS:</b>\n",
    "<ul>\n",
    "<li>A graphical output of KE vs. frequency will be displayed.</li>\n",
    "<li>The color of some item on the userform will change depending on the wavelength of light the user chooses. In my example the background color of the userform changed.</li>\n",
    "<li>The critical wavelength (nm) for the chosen metal will be displayed.</li>\n",
    "<li>The kinetic energy (eV) of the emitted electron will be displayed. </li>\n",
    "</ul><br>\n",
    "<b>CRITERIA & CONSTRAINTS:</b>\n",
    "<ul>\n",
    "<li>You will have to research the work functions of the given metals.</li>\n",
    "<li>Your program should have an impressive interface. (colors and graphics)</li>\n",
    "<li>Make sure your name is printed somewhere on the interface of your program. (ex. \"Hermon's Programming\")</li>\n",
    "<li>When you upload your program name it accordingly: (firstname_lastname_programtitle.xlsm)</li>\n",
    "<li>Make a title for your program at the top of the user window.</li>\n",
    "</ul>"
   ]
  },
  {
   "cell_type": "markdown",
   "metadata": {},
   "source": [
    "Here is a video of a Photoelectric Effect Excel Program in action.\n",
    "<br>\n",
    "<center><iframe width=\"800\" height=\"600\" src=\"https://www.youtube.com/embed/Xsjew5TpL5Q?list=PLhy-Ne6FAXKYFM-tQsYrm3TxoG2hXt2CZ\" frameborder=\"0\" allowfullscreen></iframe></center>"
   ]
  },
  {
   "cell_type": "markdown",
   "metadata": {},
   "source": [
    "## Spreadsheet Calculations"
   ]
  },
  {
   "cell_type": "markdown",
   "metadata": {},
   "source": [
    "\n",
    "For this program we will be using basically the same code we used for the Oscilloscope program. I would suggest making a copy of that program and renaming it Sound_Beats.xlsm. \n",
    "### Calculating Beat Frequency\n",
    "Beats are easy to calculate. You simply subtract the two frequencies. In Cell D3 we will quickly calculate this beat freqency. Notice we used the <b>ABS( )</b>, absolute value function so as to not have a negative beat freqency.\n",
    "\n",
    "<center><img src=\"http://www.hermonswebsites.com/PyNotebooks/Excelling/9_beatsub.JPG\"></center>\n",
    "\n",
    "\n",
    "### Graphing the Frequencies\n",
    "If you remember from the Oscilloscope program, the two equations below (one with the phase shift and one without) were graphed against each other (columns B and C) to make Lissajou Patterns. This time we want to graph each of those columns against the time (column A). You should do this as two data series on the same graph. Make one of the sine waves blue and the other one red. This will be your <b>Chart 1</b> object.\n",
    "\n",
    "<center><img src=\"http://www.hermonswebsites.com/PyNotebooks/Excelling/7_sine1.png\"></center>\n",
    "<center><img src=\"http://www.hermonswebsites.com/PyNotebooks/Excelling/7_sine2.png\"></center>\n",
    "\n",
    "\n",
    "### Graphing the Beat Frequency\n",
    "Next, in column D we are going to simply add the two frequencies together and then drag the column down to row 365. Now, in a second graph we will plot this column against the time (column A). This graph should show oscillating beats of loudness and softness as long as the two frequencies aren't the same.\n",
    "<center><img src=\"http://www.hermonswebsites.com/PyNotebooks/Excelling/9_addbeats.JPG\"></center>\n"
   ]
  },
  {
   "cell_type": "markdown",
   "metadata": {},
   "source": [
    "## Sound Files\n",
    "\n",
    "\n",
    "Before we move on with our program we need to create 11 sound (.wav) files from 0 beats/sec up to 10 beats/sec. Go ahead and create a new folder called, <b>beats</b> where we will store our audio files once we create them. You will store this folder wherever your program is also stored. Now, in a web browser navigate to <a href=\"http://www.audiocheck.net/audiofrequencysignalgenerator_dual.php\" target=\"_blank\">http://www.audiocheck.net/audiofrequencysignalgenerator_dual.php</a> to begin creating the audio files. In the <b>Dual Tone Generator</b> box enter 200 in for Frequency 1 and also 200 in for Frequency 2. For the duration use 2.0 seconds. Click the <b>DOWNLOAD .WAV FILE</b> button and name the downloaded file 0beats.wav. Now keep incrementing Frequency 2 by one and downloading and appropriately naming each .wav file. Put all audio files into your <b>beats</b> folder.\n",
    "\n",
    "<center><img src=\"http://www.hermonswebsites.com/PyNotebooks/Excelling/9_beatgen.png\"></center>"
   ]
  },
  {
   "cell_type": "markdown",
   "metadata": {},
   "source": [
    "## Scrollbars\n",
    "\n",
    "\n",
    "In our Oscilloscope program we learned how to use <b>spin buttons</b>. You can go ahead and delete those from your user interface at this time. We are going to learn to use something similar called a <b>scrollbar</b>. You can choose a scrollbar from the Toolbox as seen below to put onto your userform. Draw one under your horizontal frequency label. \n",
    "\n",
    "<center><img src=\"http://www.hermonswebsites.com/PyNotebooks/Excelling/9_ScrollBars.JPG\"></center>\n",
    "\n",
    "\n",
    "<img src=\"http://www.hermonswebsites.com/PyNotebooks/Excelling/9_scrollproperty.JPG\" style=\"float: left; padding: 25px;\">\n",
    "\n",
    "<br><br>\n",
    "Once you've done that let's look over to the left in the Properties panel. As you can see I changed several parameters for the horizontal scrollbar. \n",
    "\n",
    "<ul>\n",
    "<li>In the <b>(Name)</b> parameter I entered \"Hscroll\".</li>\n",
    "<li>In the <b>BackColor</b> parameter I chose the same color as the horizontal frequency label. </li>\n",
    "<li>In the <b>Delay</b> parameter I entered \"10\" so if I click on the scroller it will update more quickly. </li>\n",
    "<li>In the <b>LargeChange and SmallChange</b> parameters I entered \"1\" as the increment value. </li>\n",
    "<li>In the <b>Max</b> parameter I entered \"30\" and in the <b>Min</b> parameter I entered \"20\". </li>\n",
    "<li>In the <b>Orientation</b> parameter I chose \"OrientationHorizontal\". </li>\n",
    "<li>In the <b>Value</b> parameter I entered \"25\" so that the slider would be in the middle of the scrollbar.</li>\n",
    "</ul>\n",
    "\n",
    "Create a different colored scrollbar for the vertical frequency as well.\n"
   ]
  },
  {
   "cell_type": "markdown",
   "metadata": {},
   "source": [
    "## Coding the GUI\n",
    "\n",
    "\n",
    "When we first open up the userform we would like to already have the frequencies and graphs loaded. To do this click on the userform to start a subroutine. In the top right dropdown make sure <b>Initialize</b> is chosen. In this code below we make sure the values of the scrollbars are entered into the correct worksheet cells and then those values are transferred back into the labels of the horizontal and vertical frequencies.\n",
    "\n",
    "We also make sure that both graphs are embedded in the userform. You will need two different images in your userform in which to load the graphs. In the example below they were named <b>HVgraph</b> and <b>Bgraph</b>. Also you now have TWO chart objects so you will have to modify your code a little for your second graph as seen below.\n",
    "<center><img src=\"http://www.hermonswebsites.com/PyNotebooks/Excelling/9_initialize.JPG\"></center>\n",
    "\n",
    "If you double click on the horizontal frequency scrollbar (which is named <b>Hscroll</b> below) it will start an <b>Hscroll_Change( )</b> subroutine. The code below will modify the Horizontal.Caption and the spreadsheet each time the scrollbar is adjusted. You will have to also update both graphs each time the horizontal and vertical scrollbars are moved.\n",
    "\n",
    "<center><img src=\"http://www.hermonswebsites.com/PyNotebooks/Excelling/9_hscrollchange.JPG\"></center>\n",
    "\n",
    "How do we play the audio files? I created a button on this userform called, <b>PlayBeats</b>. When this button is clicked we want to check cell D3 and play the corresponding audio file. Before we can do this we need to enter in a function that allows us to play sounds. Below is the code for how to do that.\n",
    "<br><br>\n",
    "\n",
    "<center><img src=\"http://www.hermonswebsites.com/PyNotebooks/Excelling/9_playsoundfunction.JPG\"></center>\n",
    "<br>\n",
    "\n",
    "Now, double click on the button. This will open a <b>Click( )</b> event on the button. We will then use <b>If-Then-ElseIf</b> statements to determine which audio file to play depending on cell D3.\n",
    "\n",
    "<center><img src=\"http://www.hermonswebsites.com/PyNotebooks/Excelling/9_ifbeats.JPG\"></center>\n",
    "\n",
    "\n",
    "\n"
   ]
  },
  {
   "cell_type": "markdown",
   "metadata": {},
   "source": [
    "<table width=\"100%\" cellpadding=\"2\" cellspacing=\"2\">\n",
    "<tr>\n",
    "<td style=\"border: 1px solid white;\" width=\"100px\">\n",
    "<div>\n",
    "<a href=\"http://nbviewer.ipython.org/github/CSP-UHS/Excelling_at_Physics/blob/master/Chapter09.ipynb\"><img src=\"http://www.hermonswebsites.com/PyNotebooks/Excelling/leftA.png\"  height=\"50px\" width=\"50px\"></a>\n",
    "</div>\n",
    "</td>\n",
    "<td style=\"border: 1px solid white;\">\n",
    "<div align=\"center\">\n",
    "<a href=\"http://nbviewer.ipython.org/github/CSP-UHS/Excelling_at_Physics/blob/master/Chapter00.ipynb\"><h2>Table of Contents</h2></a>\n",
    "</div>\n",
    "</td>\n",
    "<td style=\"border: 1px solid white;\" width=\"100px\">\n",
    "<div>\n",
    "<a href=\"http://nbviewer.ipython.org/github/CSP-UHS/Excelling_at_Physics/blob/master/Chapter11.ipynb\"><img src=\"http://www.hermonswebsites.com/PyNotebooks/Excelling/rightA.png\"  height=\"50px\" width=\"50px\"  align=\"right\"></a>\n",
    "</div>\n",
    "</td>\n",
    "</tr></table>"
   ]
  }
 ],
 "metadata": {
  "kernelspec": {
   "display_name": "Python 2",
   "language": "python",
   "name": "python2"
  },
  "language_info": {
   "codemirror_mode": {
    "name": "ipython",
    "version": 2
   },
   "file_extension": ".py",
   "mimetype": "text/x-python",
   "name": "python",
   "nbconvert_exporter": "python",
   "pygments_lexer": "ipython2",
   "version": "2.7.10"
  }
 },
 "nbformat": 4,
 "nbformat_minor": 0
}
