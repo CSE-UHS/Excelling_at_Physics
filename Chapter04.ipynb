{
 "cells": [
  {
   "cell_type": "markdown",
   "metadata": {},
   "source": [
    "<div align=\"right\">\n",
    "<a href=\"http://nbviewer.ipython.org/github/CSP-UHS/Excelling_at_Physics/blob/master/Chapter00.ipynb\" align=\"right\"><h2>Table of Contents</h2></a>\n",
    "</div>"
   ]
  },
  {
   "cell_type": "markdown",
   "metadata": {},
   "source": [
    "# Chapter 4: Vector Addition"
   ]
  },
  {
   "cell_type": "markdown",
   "metadata": {},
   "source": [
    "<img src=\"https://dl.dropboxusercontent.com/u/90219577/Hermon/Physics_Website/Excelling/vector.jpeg\" width=\"100\" height=\"100\" style=\"float: right;\">In Physics we deal a lot with vector quantities. A vector is a measurement with a magnitude and a direction and drawn as an arrow. By direction we mean an angle. For example, 50 Newtons @ 23˚. In this book, our direction will be what we call a \"heading\" which means we will measure clockwise from North. Therefore due North is 0˚, due East is 90˚, due South is 180˚ and due West is 270˚.<br><br>\n",
    "When we have multiple vectors all working on the same object we often want to determine what single vector applied to the object would give the same result. To determine this, we \"add\" all the component vectors together to give us what we call a <b>\"resultant\"</b> vector.\n",
    "<h1>Vector Example Review</h1><br>\n",
    "Let's do an example problem to review how to add vectors. What is the resultant vector that you would get by adding the following three vectors togther?\n",
    "<h3><ul>\n",
    "<li>Vector A is 100.0 units @ 63.0 deg S of W.</li>\n",
    "<li>Vector B is 198.0 units @ 40.0 deg S of E.</li>\n",
    "<li>Vector C is 150.0 units @ 20.0 deg N of E</li>\n",
    "</ul></h3>\n",
    "\n",
    "In college you most likely will use linear algebra to solve this problem. To begin, we will draw all three of these vectors on a grid with the angles to each of them from North.<br><br>\n",
    "<center><img src=\"https://dl.dropboxusercontent.com/u/90219577/Hermon/Physics_Website/Excelling/4b.png\"></center>\n",
    "<br>\n",
    "\n",
    "We then can use trig functions to \"resolve\" all three of them into their x and y components. A unit length in the x-direction is written as <b>î</b> and pronounced <b>i-hat</b>. A unit length in the y-direction is written as <b>ĵ</b> and pronounced <b>j-hat</b>. If you always use the angles from North then the following formulas will always work where <b>&theta;</b> is the angle from North and <b>V</b> is the magnitude of the vector.\n",
    "\n",
    "<h3><b>î = Vsin&theta;<br>\n",
    "ĵ = Vcos&theta;</b></h3>\n",
    "\n",
    "Anything to the right is +x and to the left is -x and anything up is +y and down is -y. If you convert the three vectors into i-hat and j-hat form then you should arrive at the following:\n",
    "<h3><b>\n",
    "<font color=\"green\">A = -45.4î - 89.1ĵ</font><br>\n",
    "<font color=\"blue\">B = 152î - 127ĵ</font><br>\n",
    "<font color=\"red\">C = 141î + 51.3ĵ</font></b></h3>\n",
    "\n",
    "<center><img src=\"https://dl.dropboxusercontent.com/u/90219577/Hermon/Physics_Website/Excelling/4c.png\"></center>\n",
    "<br>\n",
    "\n",
    "To get your resultant (R) we simply add the above components of each vector, which gives:\n",
    "<h3><b>R = 248î - 165ĵ</b></h3>\n",
    "\n",
    "Since î and ĵ are the two perpendicular components, to determine the actual magnitude of the resultant you simply use Pythagorean's theorem as seen below.<br>\n",
    "<center><img src=\"https://dl.dropboxusercontent.com/u/90219577/Hermon/Physics_Website/Excelling/4a.png\"></center>\n",
    "<br>\n",
    "\n",
    "So, how do we get our direction? We can now draw out our resultant î and ĵ components as seen below. To find the angle we would of course take the inverse tangent of î/ĵ. In the lower right and upper left quadrants this would mean that our angle is negative. Don't worry about this right now. You can just take the absolute value and call it 56.4˚. Of course, we want to always give the heading from north so we will subtract it from 180˚ for a final heading of 124˚.<br>\n",
    "<center><img src=\"https://dl.dropboxusercontent.com/u/90219577/Hermon/Physics_Website/Excelling/4d.png\"><br>\n",
    "<h1><b>Final Resultant: 298 units @ 124˚</b></h1></center>\n",
    "<br>\n",
    "Now that we hopefully have a better grasp of vector addition let's look at the parameters for this program. This program is a little more difficult as it involves several trig functions as well as creating a graph and embedding it back into the user interface."
   ]
  },
  {
   "cell_type": "markdown",
   "metadata": {},
   "source": [
    "## Program Parameters"
   ]
  },
  {
   "cell_type": "markdown",
   "metadata": {},
   "source": [
    "<b>INPUTS:</b>\n",
    "<ul>\n",
    "<li>A user can enter up to 5 vectors</li>\n",
    "<li>A magnitude and a direction in degrees from North will be entered for each vector.</li>\n",
    "</ul><br>\n",
    "<b>OUTPUTS:</b>\n",
    "<ul>\n",
    "<li>Graphical output of the vector components added head to tail.</li>\n",
    "<li>Resultant vector drawn from the tail of the first to the head of the last.</li>\n",
    "<li>Magnitude and direction in degrees from north of resultant vector should be the printed to the tenths place.</li> \n",
    "</ul><br>\n",
    "<b>CRITERIA & CONSTRAINTS:</b> \n",
    "<ul>\n",
    "<li>Your program should have an impressive interface. (colors and graphics)</li>\n",
    "<li>Specify in what units the user is entering data.</li>\n",
    "<li>If the resultant is zero, print \"none\" instead of the resultant and the angle.</li>\n",
    "<li>Make sure your name is printed somewhere on the interface of your program. (ex. \"Hermon's Programming\")</li>\n",
    "<li>When you upload your program name it accordingly: (marc_hermon_program.xlsx)</li>\n",
    "<li>Make a title for your program at the top of the user window.</li>\n",
    "</ul>"
   ]
  },
  {
   "cell_type": "markdown",
   "metadata": {},
   "source": [
    "## Building the User Interface"
   ]
  },
  {
   "cell_type": "markdown",
   "metadata": {},
   "source": [
    "Here is a video of a Vector Addition Program in action.\n",
    "<br>\n",
    "<center><iframe width=\"420\" height=\"315\" src=\"https://www.youtube.com/embed/NqkETe4tUzU\" frameborder=\"0\" allowfullscreen></iframe></center>\n",
    "<br>\n",
    "As you can see in this userform we used 10 input text boxes and 3 output labels. One of the labels we will use to import our vector addition graph. \n",
    "<br><br>\n",
    "This time I renamed my Command Button, \"AddVectors\"\n",
    "<br><br>\n",
    "In the subroutine for <b>AddVectors.Click()</b> we took all 5 magnitudes and directions and inserted them into the spreadsheet to do some calculations. As you can see from the spreadsheet below when the button was clicked the data was transferred from the Userform to cells A2:B6. At this time, you should build your User Interface and load the data into the spreadsheet when the command button is clicked.\n",
    "<br><br>\n",
    "<center><img src=\"https://dl.dropboxusercontent.com/u/90219577/Hermon/Physics_Website/Excelling/4e.png\"></center>"
   ]
  },
  {
   "cell_type": "markdown",
   "metadata": {},
   "source": [
    "## Spreadsheet Vector Calculations"
   ]
  },
  {
   "cell_type": "markdown",
   "metadata": {},
   "source": [
    "<h2>Calculating the Magnitude</h2>\n",
    "The first thing we will do will be to calculate the î and ĵ for each of the 5 vectors by using the following two equations:\n",
    "<h3><b>î = Vsin&theta;<br>\n",
    "ĵ = Vcos&theta;</b></h3>\n",
    "\n",
    "The problem is that our angles are currently in degrees and when Excel does any trig, it is expecting the angles to be in radians. So in cell C2 we inserted the following Excel equation:<br>\n",
    "<h3>=SIN(RADIANS(B2))*A2</h3>\n",
    "<br>and then we can drag it down for all 5 vectors. In cell D2 we inserted the following similar equation:<br>\n",
    "<h3>=COS(RADIANS(B2))*A2</h3>\n",
    "<br>and also dragged it down for all 5 vectors.\n",
    "\n",
    "<br>\n",
    "<center><img src=\"https://dl.dropboxusercontent.com/u/90219577/Hermon/Physics_Website/Excelling/4f.PNG\"></center>\n",
    "<br>\n",
    "Next, we will add up the i-hats and j-hats to get a resultant. In cell C7 we write:<br>\n",
    "<h3>=SUM(C2:C6)</h3><br>\n",
    "and in cell D7 we write:<br>\n",
    "<h3>=SUM(D2:D6)</h3><br>\n",
    "\n",
    "<br>\n",
    "<center><img src=\"https://dl.dropboxusercontent.com/u/90219577/Hermon/Physics_Website/Excelling/4g.PNG\"></center>\n",
    "<br>\n",
    "\n",
    "Now, using the i-hat and j-hat for the resultant we can use Pythagorean's Theorem to calculate the magnitude of the resultant. In cell C9 we enter:<br>\n",
    "<h3>=((C7)^2 + (D7)^2)^.5</h3><br>\n",
    "where ^.5 (raising to the one-half exponent) is the same as taking the square root of the quantity.<br><br>\n",
    "In cell C10 we want to check if the resultant is really close to zero because if it is, the program parameters tell us we need to print \"None\" instead. We can use an <b>if statement</b> to do this such as the following:<br>\n",
    "<h3>=IF(C9&#60;0.01,&#34;None&#34;,C9)</h3><br>\n",
    "We first see if C9 is really close to zero. If it is close enough we print \"None\". If it isn't we print the original resultant.\n",
    "\n",
    "\n",
    "<br><br>\n",
    "<center><img src=\"https://dl.dropboxusercontent.com/u/90219577/Hermon/Physics_Website/Excelling/4h.PNG\"></center><br>\n",
    "\n",
    "<h2>Calculating the Direction Angle</h2>\n",
    "\n",
    "To calculate the angle in cell C12 we will take the ATAN(î/ĵ). The answer will be in radians so we will need to convert it to Degrees. The excel formula looks like this:<br>\n",
    "<center><img src=\"https://dl.dropboxusercontent.com/u/90219577/Hermon/Physics_Website/Excelling/4i.PNG\"></center><br>\n",
    "\n",
    "This, however, is not necessarily the angle from North. In fact, it will only be the angle from North if the resultant is in the upper right quadrant. How do we know if the resultant is in the upper right quadrant? Because both the î and the ĵ would both be positive. If you look at the following diagram we can determine how to calculate the actual angle from North depending on the signs of the î and the ĵ. <br>\n",
    "<table border=\"0\" cellpadding=\"0\" cellspacing=\"0\"><tr><td style=\"vertical-align: top;\">\n",
    "<img src=\"https://dl.dropboxusercontent.com/u/90219577/Hermon/Physics_Website/Excelling/4k.PNG\"></td><td style=\"vertical-align: top;\">\n",
    "\n",
    "<ul>\n",
    "<li>If î>=0 and ĵ>=0, the resultant is in the upper right quadrant and the angle from North equals &theta;.</li><br>\n",
    "<li>If î>=0 and ĵ&#60;=0, the resultant is in the lower right quadrant. &theta; is negative and so the angle from North equals 180 + &theta;.</li><br>\n",
    "<li>If î&#60;=0 and ĵ&#60;=0, the resultant is in the lower left quadrant. &theta; is positive and so again the angle from North equals 180 + &theta;.</li><br>\n",
    "<li>If î&#60;=0 and ĵ>=0, the resultant is in the upper left quadrant. &theta; is negative and so the angle from North equals 360 + &theta;.</li>\n",
    "</ul>\n",
    "</td></tr></table>\n",
    "<br>We have used <b>if statements</b> before in Excel that look like this.<br> <h3>=IF(condition,\"True\",\"False\")</h3><br>\n",
    "So, how do we do <b>\"IF-AND\"</b> statements? They would look like this:<br>\n",
    "<h3>=IF(AND(condition1,condition2),\"True\",\"False\")</h3><br>\n",
    "We will actually do some nested \"IF-AND\" statements, which means instead of printing something in the \"False\" parameter we will just start a new \"IF-AND\" statement. This will look pretty complicated so I will try to spell out the entire line of code that I put in cell C13.<br>\n",
    "\n",
    "Since, in the upper right quadrant we will not have to correct the angle we will leave that until the end. Our first check will be to see if the resultant is in the lower right quadrant which means î is positive and ĵ is negative. This means that the angle will be negative and we will \"add\" it to 180. (which really means it will be subtracted from 180). \n",
    "\n",
    "Our next check is to see if the resultant is in the lower left quadrant which means î is negative and ĵ is negative. This means that the angle will be positive and we will add it to 180 again.\n",
    "\n",
    "Our final check it to see if the resultant is in the upper left quadrant which means î is negative and ĵ is positive. This means that the angle will be negative and we will \"add\" it to 360. (which really means it will be subtracted from 360).\n",
    "\n",
    "Instead of starting another Nested \"IF-AND\" statement we will just print the angle in C12 because we would have to be in the upper right quadrant.\n",
    "\n",
    "<center><img src=\"https://dl.dropboxusercontent.com/u/90219577/Hermon/Physics_Website/Excelling/4j.PNG\"></center><br>\n",
    "\n",
    "Finally, in cell C14, we will correct the angle one more time. If you remember, in cell C10 we printed \"None\" if the resultant was really close to zero. In cell C14 we will check if the resultant is \"None\" and if it is we will print a \"\" for the angle. The image below shows how to do this with an \"IF\" statement.\n",
    "\n",
    "<center><img src=\"https://dl.dropboxusercontent.com/u/90219577/Hermon/Physics_Website/Excelling/4m.PNG\"></center>"
   ]
  },
  {
   "cell_type": "markdown",
   "metadata": {},
   "source": [
    "## Embedding a Graph"
   ]
  },
  {
   "cell_type": "markdown",
   "metadata": {},
   "source": [
    "So what happens if the user enters non-numerical values into your program? For example they enter the letter \"h\" into the Grade text box. It will crash it!!! We need to take care of this. To do so we will use a built-in Excel function called <b>iferror</b>\n",
    "<br>\n",
    "<center><img src=\"https://dl.dropboxusercontent.com/u/90219577/Hermon/Physics_Website/Excelling/3g.PNG\"></center>\n",
    "<br><br>\n",
    "Hopefully, you can see how this works. We checked to see if there was an error in a certain cell (in our case D5). If there was not, cell D5 will be printed again in D6. If there is an error we type an error message in D6. In our case we just printed \"\" which means nothing will be printed in D6 if there is an error."
   ]
  },
  {
   "cell_type": "markdown",
   "metadata": {},
   "source": [
    "## Printing a Grade Statement"
   ]
  },
  {
   "cell_type": "markdown",
   "metadata": {
    "collapsed": false
   },
   "source": [
    "We will now make a Grade Statement that looks at the letter grade (D7)and will print a message if the grade is an \"F\" or an error statement if the grade is a \"\". We will use an <b>if</b> statement again.\n",
    "<br>\n",
    "<center><img src=\"https://dl.dropboxusercontent.com/u/90219577/Hermon/Physics_Website/Excelling/3j.PNG\"></center>"
   ]
  },
  {
   "cell_type": "markdown",
   "metadata": {},
   "source": [
    "## Displaying the Output"
   ]
  },
  {
   "cell_type": "markdown",
   "metadata": {},
   "source": [
    "We now need to simply send our output back to the userform labels. If you remember from above I named my output labels: <b>Grade</b>, <b>Letter</b> and <b>GradeStatement</b>\n",
    "\n",
    "The output statements need to be inserted into the <b>Calculate_Click() Subroutine</b> as seen below.\n",
    "<br>\n",
    "<center><img src=\"https://dl.dropboxusercontent.com/u/90219577/Hermon/Physics_Website/Excelling/3k.PNG\"></center>\n",
    "<br>\n",
    "\n",
    "By the way, earlier we determined if the user entered something non-numerical and did an iferror check. What if the user entered values greater than 100 or less than 0? This will not crash your program but will give weird numerical results and also might make your formatting look bad. You could also check if the input was greater than 100 or less than 0. This is not necessary however unless you really want to perfect your program."
   ]
  },
  {
   "cell_type": "markdown",
   "metadata": {},
   "source": [
    "## Formatting Output"
   ]
  },
  {
   "cell_type": "markdown",
   "metadata": {},
   "source": [
    "Finally, one of the parameters of this program is that the output grade should only go to the tenths place. Just because you make the cell on the spreadsheet go out to the tenths place DOES NOT mean that it will be formatted that way in your output label. Here we have to venture back into the world of VBA. As you see from below we used <b>FORMAT(cell reference, \"0.0\")</b> in our <b>Grade.Caption</b> line, where <b>Worksheets(\"Sheet1\").Range(\"D6\").Value</b> was our cell reference. The <b>\"0.0\"</b> means to only go to the tenths place.\n",
    "<br><br>\n",
    "<center><img src=\"https://dl.dropboxusercontent.com/u/90219577/Hermon/Physics_Website/Excelling/3l.PNG\"></center>"
   ]
  },
  {
   "cell_type": "markdown",
   "metadata": {},
   "source": [
    "## Concatenation"
   ]
  },
  {
   "cell_type": "markdown",
   "metadata": {},
   "source": [
    "<b>Concatenation</b> means to join two or more strings together. For example, let's say we want to output the final grade as a 95%. How do I get the percent sign on the number? Well, if you are getting good at this you would know that you could put another label behind the number and fill it with a percent sign if there is a number and fill it with a \"\" if there isn't. However, there is a much better solution. We can just concatenate a \"%\" sign onto our Grade value simply by adding, <b><i>&#038; &#034;&#037;&#034;</i></b> at the end of the statement in VBA. You can see this below.\n",
    "<br><br>\n",
    "<center><img src=\"https://dl.dropboxusercontent.com/u/90219577/Hermon/Physics_Website/Excelling/3m.PNG\"></center>\n",
    "\n",
    "<br>\n",
    "Once you feel that your program is the greatest thing that you've ever created in your life, name it according to the following format: <b>firstname_lastname_programtitle.xlsm</b> and upload it to your instructor."
   ]
  },
  {
   "cell_type": "markdown",
   "metadata": {},
   "source": [
    "<table width=\"100%\" cellpadding=\"2\" cellspacing=\"2\">\n",
    "<tr>\n",
    "<td style=\"border: 1px solid white;\" width=\"100px\">\n",
    "<div>\n",
    "<a href=\"http://nbviewer.ipython.org/github/CSP-UHS/Excelling_at_Physics/blob/master/Chapter03.ipynb\"><img src=\"https://dl.dropboxusercontent.com/u/90219577/Hermon/CSE_Website/webdev/leftA.png\"  height=\"50px\" width=\"50px\"></a>\n",
    "</div>\n",
    "</td>\n",
    "<td style=\"border: 1px solid white;\">\n",
    "<div align=\"center\">\n",
    "<a href=\"http://nbviewer.ipython.org/github/CSP-UHS/Excelling_at_Physics/blob/master/Chapter00.ipynb\"><h2>Table of Contents</h2></a>\n",
    "</div>\n",
    "</td>\n",
    "<td style=\"border: 1px solid white;\" width=\"100px\">\n",
    "<div>\n",
    "<a href=\"http://nbviewer.ipython.org/github/CSP-UHS/Excelling_at_Physics/blob/master/Chapter05.ipynb\"><img src=\"https://dl.dropboxusercontent.com/u/90219577/Hermon/CSE_Website/webdev/rightA.png\"  height=\"50px\" width=\"50px\"  align=\"right\"></a>\n",
    "</div>\n",
    "</td>\n",
    "</tr></table>"
   ]
  }
 ],
 "metadata": {
  "kernelspec": {
   "display_name": "Python 2",
   "language": "python",
   "name": "python2"
  },
  "language_info": {
   "codemirror_mode": {
    "name": "ipython",
    "version": 2
   },
   "file_extension": ".py",
   "mimetype": "text/x-python",
   "name": "python",
   "nbconvert_exporter": "python",
   "pygments_lexer": "ipython2",
   "version": "2.7.10"
  }
 },
 "nbformat": 4,
 "nbformat_minor": 0
}
