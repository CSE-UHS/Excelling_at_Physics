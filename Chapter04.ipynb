{
 "cells": [
  {
   "cell_type": "markdown",
   "metadata": {},
   "source": [
    "<div align=\"right\">\n",
    "<a href=\"http://nbviewer.ipython.org/github/CSP-UHS/Excelling_at_Physics/blob/master/Chapter00.ipynb\" align=\"right\"><h2>Table of Contents</h2></a>\n",
    "</div>"
   ]
  },
  {
   "cell_type": "markdown",
   "metadata": {},
   "source": [
    "# Chapter 3: Grade Calculator"
   ]
  },
  {
   "cell_type": "markdown",
   "metadata": {},
   "source": [
    "This next program is a little more difficult as it involves creating a graph and embedding it back into the user interface."
   ]
  },
  {
   "cell_type": "markdown",
   "metadata": {},
   "source": [
    "## Program Parameters"
   ]
  },
  {
   "cell_type": "markdown",
   "metadata": {},
   "source": [
    "<img src=\"https://dl.dropboxusercontent.com/u/90219577/Hermon/Physics_Website/Excelling/vector.jpeg\" width=\"100\" height=\"100\" style=\"float: right;\">\n",
    "<b>INPUTS:</b>\n",
    "<ul>\n",
    "<li>A user can enter up to 5 vectors</li>\n",
    "<li>A magnitude and a direction in degrees from North will be entered for each vector.</li>\n",
    "</ul><br>\n",
    "<b>OUTPUTS:</b>\n",
    "<ul>\n",
    "<li>Graphical output of the vector components added head to tail.</li>\n",
    "<li>Resultant vector drawn from the tail of the first to the head of the last.</li>\n",
    "<li>Magnitude and direction in degrees from north of resultant vector should be the printed to the tenths place.</li> \n",
    "</ul><br>\n",
    "<b>CRITERIA & CONSTRAINTS:</b> \n",
    "<ul>\n",
    "<li>Your program should have an impressive interface. (colors and graphics)</li>\n",
    "<li>Specify in what units the user is entering data.</li>\n",
    "<li>If the resultant is zero, print \"none\" instead of the resultant and the angle.</li>\n",
    "<li>Make sure your name is printed somewhere on the interface of your program. (ex. \"Hermon's Programming\")</li>\n",
    "<li>When you upload your program name it accordingly: (marc_hermon_program.xlsx)</li>\n",
    "<li>Make a title for your program at the top of the user window.</li>\n",
    "</ul>"
   ]
  },
  {
   "cell_type": "markdown",
   "metadata": {},
   "source": [
    "## Building the User Interface"
   ]
  },
  {
   "cell_type": "markdown",
   "metadata": {},
   "source": [
    "Here is a video of a Vector Addition Program in action.\n",
    "<br>\n",
    "<center><iframe width=\"420\" height=\"315\" src=\"https://www.youtube.com/embed/k9F3gk_fe_8\" frameborder=\"0\" allowfullscreen></iframe></center>\n",
    "<br>\n",
    "\n",
    "\n",
    "As you can see in this userform we used another item from the toolbox. We clicked on the image icon (circled in red) to add a J-Hawk Scholar image. The image tool will help you make creative user interfaces. \n",
    "\n",
    "You will notice the title of the userform window is \"My Grade Calculator\". If you remember you can change this by clicking on the userform and changing the <b>Caption</b> parameter. I also changed the name of my userform to <b>GradeProgram</b>. This required me to go to the Workbook Subroutine and change the third line to <b>GradeProgram.Show</b>. If this seems unfamiliar you need to review Chapter 02 of this book.\n",
    "\n",
    "I used 7 labels on this userform. The first four were pretty boring and since I was never going to change them with the program I just left their names as default: Label1, Label2, etc. Label1 was the text \"Class Grade\". Label2 was the text \"Sem Test %\". Label3 was the text \"Sem Test Grade\". Label4 was the text \"Hermon's Programming\". I didn't do very exciting things with fonts or colors with these labels. The last three labels (1-3 on the image below), are more important because they will be used to display the output. I actually gave these special names. I named label (1), \"Grade\", label (2) \"Letter\" and label (3) \"GradeStatement\". \"Grade\" is where it will ouput the numerical grade to the tenths place. \"Letter\" is where it will output the corresponding letter grade. \"GradeStatement\" is where it will output a statement if the user is failing or if the user failed to enter numerical data.\n",
    "\n",
    "\n",
    "\n",
    "<br><br>\n",
    "<center><img src=\"https://dl.dropboxusercontent.com/u/90219577/Hermon/Physics_Website/Excelling/3buserform.PNG\"></center>\n",
    "<br>\n",
    "\n",
    "I used three text boxes and pre-loaded them with text. I gave each of these text boxes special names also since they will be used by the user to enter data. The first one I named \"ClassGrade\". The second one was named \"STP\". The third one was named \"ST\". \n",
    "\n",
    "I also renamed my Command Button, \"Calculate\"\n",
    "\n",
    "In the subroutine for <b>button_name.Click()</b> we need to take the data from the three text boxes and insert them into the spreadsheet to do some calculations. As I said before most programs could be entirely written in VBA and if you want to self-learn and attempt it, that would be awesome. This book will generally always submit the data to the spreadsheet and then do regular Excel type calculations. As you can see from the snippet of code below, when my \"Calculate\" button is clicked all three text boxes are entered into cells C1, C2 and C3 in the spreadsheet.\n",
    "<br><br>\n",
    "<center><img src=\"https://dl.dropboxusercontent.com/u/90219577/Hermon/Physics_Website/Excelling/3c.PNG\"></center>"
   ]
  },
  {
   "cell_type": "markdown",
   "metadata": {},
   "source": [
    "## Spreadsheet Grade Calculation"
   ]
  },
  {
   "cell_type": "markdown",
   "metadata": {},
   "source": [
    "So how do you calculate an overall semester grade if the semester exam is worth some given percentage? It is actually pretty easy math. Let's say the semester exam is worth 15% of the grade. That, of course, would mean that the grade before the exam would be 100-15 = 85% of the grade. How do you take the percent of a number? You multiply the number by the percent in decimal form. \n",
    "\n",
    "So, let's assume your grade going into the semester exam is a 95% and you think you will get an 82% on the semester exam. To calculate the overall semester grade we will take 85% of 95 and 15% of 82 and add them together. It would look like:<br><br>\n",
    "<h3>95(.85) + 82(.15) = 93.1</h3>\n",
    "\n",
    "In Excel you can write formulas into cells by starting with an \"=\" sign. I generally try to do calculations with one big formula but students seem to learn better what is being done if they break it down into smaller formulas. So in the spreadsheet let's first convert the semester test percentage into decimal form.\n",
    "\n",
    "<br>\n",
    "<center><img src=\"https://dl.dropboxusercontent.com/u/90219577/Hermon/Physics_Website/Excelling/3d.PNG\"></center>\n",
    "<br>\n",
    "Now in a new cell let's take 1 - the decimal percent we just created to get the decimal percent of the grade going into the semester exam. (We subtract it from 1, not 100, because it was already converted into a decimal percent)\n",
    "\n",
    "<br>\n",
    "<center><img src=\"https://dl.dropboxusercontent.com/u/90219577/Hermon/Physics_Website/Excelling/3e.PNG\"></center>\n",
    "<br>\n",
    "\n",
    "Finally, we will use the above equation to put it all together to calculate the overall grade as seen below.\n",
    "\n",
    "<br>\n",
    "<center><img src=\"https://dl.dropboxusercontent.com/u/90219577/Hermon/Physics_Website/Excelling/3f.PNG\"></center>\n"
   ]
  },
  {
   "cell_type": "markdown",
   "metadata": {},
   "source": [
    "## iferror Calculation"
   ]
  },
  {
   "cell_type": "markdown",
   "metadata": {},
   "source": [
    "So what happens if the user enters non-numerical values into your program? For example they enter the letter \"h\" into the Grade text box. It will crash it!!! We need to take care of this. To do so we will use a built-in Excel function called <b>iferror</b>\n",
    "<br>\n",
    "<center><img src=\"https://dl.dropboxusercontent.com/u/90219577/Hermon/Physics_Website/Excelling/3g.PNG\"></center>\n",
    "<br><br>\n",
    "Hopefully, you can see how this works. We checked to see if there was an error in a certain cell (in our case D5). If there was not, cell D5 will be printed again in D6. If there is an error we type an error message in D6. In our case we just printed \"\" which means nothing will be printed in D6 if there is an error."
   ]
  },
  {
   "cell_type": "markdown",
   "metadata": {},
   "source": [
    "## Spreadsheet Letter Grade Determination"
   ]
  },
  {
   "cell_type": "markdown",
   "metadata": {},
   "source": [
    "<img src=\"https://dl.dropboxusercontent.com/u/90219577/Hermon/Physics_Website/Excelling/gradescale.png\" style=\"float: right;\" width=\"205\" height=\"358\">\n",
    "\n",
    "   We now need to determine the letter grade based on the grading scale on the right. We will use the following built-in <b>if statement</b>.\n",
    "\n",
    "<h3>IF(logical_test,[value_if_true],[value_if_false])</h3>\n",
    "<br>\n",
    "We will start by seeing if the grade in D6 is equal to \"\" which means there was an error. If it is we will print an \"\" after the comma. What do we print after the next comma if it's false??? Nothing! We just start another IF statement. We will now see if the grade in D6 is greater than or equal to 92.5. If it is we will print an \"A\" after the comma. We will continue doing this all the way down to a \"D-\". Finally, in the final \"value_if_false\" location instead of starting another IF statement we will just print \"F\" because it's the only other option.  These are called nested If statements. This makes for a long statement as seen below!\n",
    "<br>\n",
    "<center><img src=\"https://dl.dropboxusercontent.com/u/90219577/Hermon/Physics_Website/Excelling/3i.PNG\" style=\"float: left;\"></center>\n"
   ]
  },
  {
   "cell_type": "markdown",
   "metadata": {},
   "source": [
    "## Printing a Grade Statement"
   ]
  },
  {
   "cell_type": "markdown",
   "metadata": {
    "collapsed": false
   },
   "source": [
    "We will now make a Grade Statement that looks at the letter grade (D7)and will print a message if the grade is an \"F\" or an error statement if the grade is a \"\". We will use an <b>if</b> statement again.\n",
    "<br>\n",
    "<center><img src=\"https://dl.dropboxusercontent.com/u/90219577/Hermon/Physics_Website/Excelling/3j.PNG\"></center>"
   ]
  },
  {
   "cell_type": "markdown",
   "metadata": {},
   "source": [
    "## Displaying the Output"
   ]
  },
  {
   "cell_type": "markdown",
   "metadata": {},
   "source": [
    "We now need to simply send our output back to the userform labels. If you remember from above I named my output labels: <b>Grade</b>, <b>Letter</b> and <b>GradeStatement</b>\n",
    "\n",
    "The output statements need to be inserted into the <b>Calculate_Click() Subroutine</b> as seen below.\n",
    "<br>\n",
    "<center><img src=\"https://dl.dropboxusercontent.com/u/90219577/Hermon/Physics_Website/Excelling/3k.PNG\"></center>\n",
    "<br>\n",
    "\n",
    "By the way, earlier we determined if the user entered something non-numerical and did an iferror check. What if the user entered values greater than 100 or less than 0? This will not crash your program but will give weird numerical results and also might make your formatting look bad. You could also check if the input was greater than 100 or less than 0. This is not necessary however unless you really want to perfect your program."
   ]
  },
  {
   "cell_type": "markdown",
   "metadata": {},
   "source": [
    "## Formatting Output"
   ]
  },
  {
   "cell_type": "markdown",
   "metadata": {},
   "source": [
    "Finally, one of the parameters of this program is that the output grade should only go to the tenths place. Just because you make the cell on the spreadsheet go out to the tenths place DOES NOT mean that it will be formatted that way in your output label. Here we have to venture back into the world of VBA. As you see from below we used <b>FORMAT(cell reference, \"0.0\")</b> in our <b>Grade.Caption</b> line, where <b>Worksheets(\"Sheet1\").Range(\"D6\").Value</b> was our cell reference. The <b>\"0.0\"</b> means to only go to the tenths place.\n",
    "<br><br>\n",
    "<center><img src=\"https://dl.dropboxusercontent.com/u/90219577/Hermon/Physics_Website/Excelling/3l.PNG\"></center>"
   ]
  },
  {
   "cell_type": "markdown",
   "metadata": {},
   "source": [
    "## Concatenation"
   ]
  },
  {
   "cell_type": "markdown",
   "metadata": {},
   "source": [
    "<b>Concatenation</b> means to join two or more strings together. For example, let's say we want to output the final grade as a 95%. How do I get the percent sign on the number? Well, if you are getting good at this you would know that you could put another label behind the number and fill it with a percent sign if there is a number and fill it with a \"\" if there isn't. However, there is a much better solution. We can just concatenate a \"%\" sign onto our Grade value simply by adding, <b><i>&#038; &#034;&#037;&#034;</i></b> at the end of the statement in VBA. You can see this below.\n",
    "<br><br>\n",
    "<center><img src=\"https://dl.dropboxusercontent.com/u/90219577/Hermon/Physics_Website/Excelling/3m.PNG\"></center>\n",
    "\n",
    "<br>\n",
    "Once you feel that your program is the greatest thing that you've ever created in your life, name it according to the following format: <b>firstname_lastname_programtitle.xlsm</b> and upload it to your instructor."
   ]
  },
  {
   "cell_type": "markdown",
   "metadata": {},
   "source": [
    "<table width=\"100%\" cellpadding=\"2\" cellspacing=\"2\">\n",
    "<tr>\n",
    "<td style=\"border: 1px solid white;\" width=\"100px\">\n",
    "<div>\n",
    "<a href=\"http://nbviewer.ipython.org/github/CSP-UHS/Excelling_at_Physics/blob/master/Chapter03.ipynb\"><img src=\"https://dl.dropboxusercontent.com/u/90219577/Hermon/CSE_Website/webdev/leftA.png\"  height=\"50px\" width=\"50px\"></a>\n",
    "</div>\n",
    "</td>\n",
    "<td style=\"border: 1px solid white;\">\n",
    "<div align=\"center\">\n",
    "<a href=\"http://nbviewer.ipython.org/github/CSP-UHS/Excelling_at_Physics/blob/master/Chapter00.ipynb\"><h2>Table of Contents</h2></a>\n",
    "</div>\n",
    "</td>\n",
    "<td style=\"border: 1px solid white;\" width=\"100px\">\n",
    "<div>\n",
    "<a href=\"http://nbviewer.ipython.org/github/CSP-UHS/Excelling_at_Physics/blob/master/Chapter05.ipynb\"><img src=\"https://dl.dropboxusercontent.com/u/90219577/Hermon/CSE_Website/webdev/rightA.png\"  height=\"50px\" width=\"50px\"  align=\"right\"></a>\n",
    "</div>\n",
    "</td>\n",
    "</tr></table>"
   ]
  }
 ],
 "metadata": {
  "kernelspec": {
   "display_name": "Python 2",
   "language": "python",
   "name": "python2"
  },
  "language_info": {
   "codemirror_mode": {
    "name": "ipython",
    "version": 2
   },
   "file_extension": ".py",
   "mimetype": "text/x-python",
   "name": "python",
   "nbconvert_exporter": "python",
   "pygments_lexer": "ipython2",
   "version": "2.7.10"
  }
 },
 "nbformat": 4,
 "nbformat_minor": 0
}
